{
  "nbformat": 4,
  "nbformat_minor": 0,
  "metadata": {
    "colab": {
      "provenance": []
    },
    "kernelspec": {
      "name": "python3",
      "display_name": "Python 3"
    },
    "language_info": {
      "name": "python"
    }
  },
  "cells": [
    {
      "cell_type": "markdown",
      "source": [
        "# **HARITHA P V**(**MST03-0058**)\n",
        "\n",
        "30-05-2024(HW)"
      ],
      "metadata": {
        "id": "qIkib0mpFKIs"
      }
    },
    {
      "cell_type": "markdown",
      "source": [
        "# **CONDITIONAL STATEMENT**"
      ],
      "metadata": {
        "id": "Bf_5In5NpOoi"
      }
    },
    {
      "cell_type": "markdown",
      "source": [
        " 1. A student will not be allowed to sit in exam if his/her attendence is less than 75%.\n",
        "Take following input from user\n",
        "Number of classes held\n",
        "Number of classes attended.\n",
        "And print\n",
        "percentage of class attended\n",
        "Is student is allowed to sit in exam or not.\n",
        " (question reference codesdope.com)"
      ],
      "metadata": {
        "id": "j6WBX2jrqzFs"
      }
    },
    {
      "cell_type": "code",
      "execution_count": null,
      "metadata": {
        "colab": {
          "base_uri": "https://localhost:8080/"
        },
        "id": "2ArAY9yppIeq",
        "outputId": "460fd2d5-78fa-4c2a-d7c3-8f7add862bc4"
      },
      "outputs": [
        {
          "name": "stdout",
          "output_type": "stream",
          "text": [
            "Number of class held\n",
            "20\n",
            "Number of classes attended\n",
            "15\n"
          ]
        }
      ],
      "source": [
        "# enter input\n",
        "print('Number of class held')\n",
        "classes_held=int(input())\n",
        "\n",
        "print('Number of classes attended')\n",
        "classes_attended=int(input())"
      ]
    },
    {
      "cell_type": "code",
      "source": [
        "#calculate the attendance percentage\n",
        "attendance=classes_attended*100/classes_held"
      ],
      "metadata": {
        "id": "vDumyG3OruUR"
      },
      "execution_count": null,
      "outputs": []
    },
    {
      "cell_type": "code",
      "source": [
        "print(f'Percentage of class attended is {attendance}')\n",
        "\n",
        "if attendance<75:\n",
        " print('You are not allowed to sit in the exam')\n",
        "else:\n",
        "  print('You are allowed to sit in the exam')"
      ],
      "metadata": {
        "colab": {
          "base_uri": "https://localhost:8080/"
        },
        "id": "p5G15tKpsAki",
        "outputId": "95d1685c-53e3-4125-a1bb-5686b072972e"
      },
      "execution_count": null,
      "outputs": [
        {
          "output_type": "stream",
          "name": "stdout",
          "text": [
            "Percentage of class attended is 75.0\n",
            "You are allowed to sit in the exam\n"
          ]
        }
      ]
    },
    {
      "cell_type": "markdown",
      "source": [
        "2.A school has following rules for grading system:\n",
        "\n",
        "a. Below 25 - F\n",
        "\n",
        "b. 25 to 45 - E\n",
        "\n",
        "c. 45 to 50 - D\n",
        "\n",
        "d. 50 to 60 - C\n",
        "\n",
        "e. 60 to 80 - B\n",
        "\n",
        "f. Above 80 - A\n",
        "\n",
        "Ask user to enter marks and print the corresponding grade.(ref:codesdope.com)"
      ],
      "metadata": {
        "id": "bN_nWl-Ns9V_"
      }
    },
    {
      "cell_type": "code",
      "source": [
        "# Enter your mark\n",
        "print('Enter your mark')\n",
        "marks=int(input())"
      ],
      "metadata": {
        "colab": {
          "base_uri": "https://localhost:8080/"
        },
        "id": "buxu6JuGtvVT",
        "outputId": "829ec891-f9ae-46c4-f61b-6ace96be14c3"
      },
      "execution_count": null,
      "outputs": [
        {
          "name": "stdout",
          "output_type": "stream",
          "text": [
            "Enter your mark\n",
            "44\n"
          ]
        }
      ]
    },
    {
      "cell_type": "code",
      "source": [
        "#code for corresponding grade\n",
        "if marks<25:\n",
        "  print(\"F\")\n",
        "elif marks>=25 and marks<45:\n",
        "  print(\"E\")\n",
        "elif marks>=45 and marks<50:\n",
        "  print(\"D\")\n",
        "elif marks>=50 and marks<60:\n",
        "  print(\"C\")\n",
        "elif marks>=60 and marks<80:\n",
        "  print(\"B\")\n",
        "else:\n",
        "  print(\"A\")"
      ],
      "metadata": {
        "colab": {
          "base_uri": "https://localhost:8080/"
        },
        "id": "rFmv3Pc-uFmY",
        "outputId": "c23e33e9-a24a-4dc3-f865-8d4cd89a3700"
      },
      "execution_count": null,
      "outputs": [
        {
          "output_type": "stream",
          "name": "stdout",
          "text": [
            "E\n"
          ]
        }
      ]
    },
    {
      "cell_type": "markdown",
      "source": [
        "3.Create http status for different error code\n",
        "\n",
        "400- Bad request\n",
        "\n",
        "401-Unauthorised\n",
        "\n",
        "403-Forbidden\n",
        "\n",
        "404-Not found\n",
        "(ref: medium)"
      ],
      "metadata": {
        "id": "smgbWbnpvejT"
      }
    },
    {
      "cell_type": "code",
      "source": [
        "def http_status(status):\n",
        "  match status:\n",
        "    case 400:\n",
        "      return\"Bad request\"\n",
        "    case 401:\n",
        "      return\"Unauthorised\"\n",
        "    case 403:\n",
        "      return\"Forbidden\"\n",
        "    case 404:\n",
        "      return\"Not found\"\n"
      ],
      "metadata": {
        "id": "ui1HmbjYvd4T"
      },
      "execution_count": null,
      "outputs": []
    },
    {
      "cell_type": "code",
      "source": [
        "http_status(400)"
      ],
      "metadata": {
        "colab": {
          "base_uri": "https://localhost:8080/",
          "height": 36
        },
        "id": "VHeGuNxp4qcO",
        "outputId": "469d0b7b-7027-49c4-ffd5-b4108552fc04"
      },
      "execution_count": null,
      "outputs": [
        {
          "output_type": "execute_result",
          "data": {
            "text/plain": [
              "'Bad request'"
            ],
            "application/vnd.google.colaboratory.intrinsic+json": {
              "type": "string"
            }
          },
          "metadata": {},
          "execution_count": 13
        }
      ]
    },
    {
      "cell_type": "markdown",
      "source": [
        "# **FUNCTIONS**"
      ],
      "metadata": {
        "id": "cnFxtHLj5vS9"
      }
    },
    {
      "cell_type": "markdown",
      "source": [
        "1.Write a function thet coverts decimal to binary number."
      ],
      "metadata": {
        "id": "Gd99rXV95yDk"
      }
    },
    {
      "cell_type": "code",
      "source": [
        "def dectobin(num):\n",
        "  if num > 1:\n",
        "        dectobin(num//2)\n",
        "  print(num % 2, end=\"\")\n",
        "\n",
        "dectobin(6)"
      ],
      "metadata": {
        "colab": {
          "base_uri": "https://localhost:8080/"
        },
        "id": "knlseRMg5xaT",
        "outputId": "72664f11-ff3c-4acd-cf86-1bfb6b4a60f8"
      },
      "execution_count": 18,
      "outputs": [
        {
          "output_type": "stream",
          "name": "stdout",
          "text": [
            "110"
          ]
        }
      ]
    },
    {
      "cell_type": "markdown",
      "source": [
        "2. Find maximum from two numbers."
      ],
      "metadata": {
        "id": "-ni6eM3h-e-I"
      }
    },
    {
      "cell_type": "code",
      "source": [
        "def printMax(a, b):\n",
        "    if a > b:\n",
        "        print(a, 'is maximum')\n",
        "    elif a == b:\n",
        "        print(a, 'is equal to', b)\n",
        "    else:\n",
        "        print(b, 'is maximum')\n",
        "printMax(4, 4)"
      ],
      "metadata": {
        "colab": {
          "base_uri": "https://localhost:8080/"
        },
        "id": "LG1XjYI1-eie",
        "outputId": "664a0045-c397-4ec1-beda-1a11ba3fd8be"
      },
      "execution_count": 21,
      "outputs": [
        {
          "output_type": "stream",
          "name": "stdout",
          "text": [
            "4 is equal to 4\n"
          ]
        }
      ]
    },
    {
      "cell_type": "markdown",
      "source": [
        "3.Write a program to create function calculation() such that it can accept two variables and calculate addition and subtraction. Also, it must return both addition and subtraction in a single return call."
      ],
      "metadata": {
        "id": "p_q8PGPgEw4r"
      }
    },
    {
      "cell_type": "code",
      "source": [
        "def calculation(a, b):\n",
        "    addition = a + b\n",
        "    subtraction = a - b\n",
        "    # return multiple values separated by comma\n",
        "    return addition, subtraction\n",
        "\n",
        "# get result\n",
        "result = calculation(70, 10)\n",
        "print(result)"
      ],
      "metadata": {
        "colab": {
          "base_uri": "https://localhost:8080/"
        },
        "id": "h9FWEAabDhyo",
        "outputId": "49499fb4-1010-41be-8007-77fa02233b2e"
      },
      "execution_count": 24,
      "outputs": [
        {
          "output_type": "stream",
          "name": "stdout",
          "text": [
            "(80, 60)\n"
          ]
        }
      ]
    }
  ]
}