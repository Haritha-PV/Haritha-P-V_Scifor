{
  "nbformat": 4,
  "nbformat_minor": 0,
  "metadata": {
    "colab": {
      "provenance": []
    },
    "kernelspec": {
      "name": "python3",
      "display_name": "Python 3"
    },
    "language_info": {
      "name": "python"
    }
  },
  "cells": [
    {
      "cell_type": "markdown",
      "source": [
        "# Classification vs Clustering"
      ],
      "metadata": {
        "id": "RrNcyUT_4x3X"
      }
    },
    {
      "cell_type": "markdown",
      "source": [
        "**1**.  Classification is used for supervised learning whereas clustering is used for unsupervised learning.\n",
        "\n",
        "**2**.  Classification assigns input instances to predefined categories based on class labels.Clustering groups instances based on similarities without predefined class labels.\n",
        "\n",
        "**3**.  Classification requires both a training dataset to build the model and a testing dataset to evaluate its performance.\n",
        "Clustering does not require separate training and testing datasets.\n",
        "\n",
        "**4**.   Classification is generally more complex due to multiple phases like model training, validation, and testing.\n",
        "Clustering is Simpler, focusing primarily on grouping similar instances.\n",
        "\n",
        "**5** .  Classification examples include Logistic Regression, Naive Bayes, Support Vector Machines, Decision Trees, and Neural Networks.\n",
        "Clustering examples include k-means, Hierarchical Clustering, DBSCAN, Fuzzy c-means, and Gaussian Mixture Models (GMM).\n",
        "\n",
        "**6**.  Real life example for classification:\n",
        " * Diagnosing whether a patient has a certain disease or not based on symptoms\n",
        " * Categorizing emails as spam or not spam\n",
        " * Product classification is used in catalog-based shopping websites such as Amazon, where products are automatically classified into different categories based on their features or usage.\n",
        " * Based on past data about how customers respond to certain types of offers; machine learning techniques can be used to predict whether a given customer will respond positively or negatively to the offer.\n",
        "\n",
        "\n",
        " Real life example for clustering:\n",
        " *  By employing cluster analysis techniques, medical institutions can categorize patients with chronic conditions, such as diabetes, into distinct groups based on the severity of their illness and their response to treatment.\n",
        " * City planners use  patterns to divide the city into distinct zones. Some areas may be congested with cars during rush hour, whilst others are peaceful and require superior public transportation.\n",
        " * Through the lens of cluster analysis, an online seller can divide their customer base into distinct segments,young adults with a constant hunger for the latest fashion trends, as opposed to another section of middle-aged people who like timeless designs.The retailer can tailor their marketing strategies."
      ],
      "metadata": {
        "id": "FvoenCnp6Hk5"
      }
    },
    {
      "cell_type": "markdown",
      "source": [
        "# Classification vs Regression"
      ],
      "metadata": {
        "id": "01KR5Ln9_D60"
      }
    },
    {
      "cell_type": "markdown",
      "source": [
        "**1**  .Classification predicts discrete class labels (e.g., spam or not spam, cat or dog).\n",
        "Regression predicts continuous numerical values (e.g., predicting the price of a house, the temperature, or the height of a person).\n",
        "\n",
        "**2**. Classification deals with problems where the goal is to categorize data into predefined classes or categories.\n",
        "Regression deals with problems where the goal is to predict a continuous outcome based on input features.\n",
        "\n",
        "**3**.Classification algorithms include Logistic Regression, Decision Trees, Random Forest, Support Vector Machines, Naive Bayes, and Neural Networks.\n",
        "Regression algorithms include Linear Regression, Polynomial Regression, Ridge Regression, Lasso Regression, and Support Vector Regression.\n",
        "\n",
        "**4**. Classification involves finding a decision boundary that separates different classes in the feature space.(descrete output variable)\n",
        "Regression involves fitting a line or curve that best describes the relationship between the dependent variable and the independent variables.(continues output variable)\n",
        "\n",
        "**5**. Classification: Email spam detection, image recognition, medical diagnosis (e.g., cancer detection), and sentiment analysis.\n",
        "\n",
        "Regression: Stock price prediction, weather forecasting, sales forecasting, demand estimation,Agricultural scientists often useregression to measure the effect of fertilizer and water on crop yields,Data scientists for professional sports teams often use linear regression to measure the effect that different training regimens have on player performance."
      ],
      "metadata": {
        "id": "OBghAHPV_bS9"
      }
    }
  ]
}