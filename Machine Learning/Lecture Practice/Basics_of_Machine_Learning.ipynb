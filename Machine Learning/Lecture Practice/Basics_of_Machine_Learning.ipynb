{
  "nbformat": 4,
  "nbformat_minor": 0,
  "metadata": {
    "colab": {
      "provenance": []
    },
    "kernelspec": {
      "name": "python3",
      "display_name": "Python 3"
    },
    "language_info": {
      "name": "python"
    }
  },
  "cells": [
    {
      "cell_type": "markdown",
      "source": [
        "# **Basics of Machine Learning(21-06-2024/24-06-2024)**"
      ],
      "metadata": {
        "id": "uCxV2jLAOWoq"
      }
    },
    {
      "cell_type": "markdown",
      "source": [
        "**Machine Learning** is the study of algorithms that:\n",
        "\n",
        "improve their performance P\n",
        "\n",
        "at some task T\n",
        "\n",
        "with experience E.\n",
        "\n",
        "**Eg:**\n",
        "Recognizing patterns\n",
        "\n",
        "Generating patterns\n",
        "\n",
        "Recognizing anomalies\n",
        "\n",
        "Prediction\n",
        "\n",
        "**Applications:**\n",
        "\n",
        "Web search\n",
        "\n",
        "Computational biology\n",
        "\n",
        "Finance\n",
        "\n",
        "E-commerce\n",
        "\n",
        "Space exploration\n",
        "\n",
        "Robotics\n",
        "\n",
        "Information extraction\n",
        "\n",
        "Social networks\n",
        "\n",
        "Debugging software\n"
      ],
      "metadata": {
        "id": "TpB2eYfBPCga"
      }
    },
    {
      "cell_type": "markdown",
      "source": [
        "**Supervised Learning**\n",
        "\n",
        "Supervisor: Yes\n",
        "\n",
        "Data: Labeled data is required.\n",
        "\n",
        "Example:\n",
        "\n",
        "Given: CAT -> A, DOG -> B, LION -> C\n",
        "\n",
        "Testing CAT predicts A based on labeled examples.\n",
        "\n",
        "**Unsupervised Learning**\n",
        "\n",
        "Supervisor: No\n",
        "\n",
        "Data: Unlabeled data is used.\n",
        "\n",
        "Example:\n",
        "\n",
        "Finds hidden patterns in data.\n",
        "\n",
        "Testing CAT predicts based on discovered patterns.\n",
        "\n",
        "**Semi-Supervised Learning**\n",
        "\n",
        "Data: Combination of labeled and unlabeled data.\n",
        "\n",
        "Example:\n",
        "\n",
        "Labeled data is less.\n",
        "\n",
        "Unlabelled data is high in number.\n",
        "\n",
        "eg: medical imaging, autonous vehicle, google photos\n",
        "\n",
        "**Reinforcement Learning**\n",
        "\n",
        "Scenario: Often used in game environments.\n",
        "\n",
        "Workflow: Receives rewards or penalties (e.g., +1 for scoring, -1 for penalty).\n",
        "\n",
        "Learning: Iteratively improves based on received feedback.\n",
        "\n",
        "**Reinforcement Learning vs Unsupervised Learning**\n",
        "\n",
        "Reinforcement Learning: Learns from interactions and feedback (e.g., games),\n",
        "not from predefined data.It dont have data.\n",
        "\n",
        "Unsupervised Learning: Finds patterns in data with unlabeled examples, discovering structure or relationships."
      ],
      "metadata": {
        "id": "_mm6UHsRNY3V"
      }
    },
    {
      "cell_type": "markdown",
      "source": [
        "**Training and Testing data**\n",
        "\n",
        "Training and testing data will be in 80-20 format.\n",
        "\n"
      ],
      "metadata": {
        "id": "5mU7vYoeOqnB"
      }
    }
  ]
}