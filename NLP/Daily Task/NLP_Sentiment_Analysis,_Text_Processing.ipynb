{
  "nbformat": 4,
  "nbformat_minor": 0,
  "metadata": {
    "colab": {
      "provenance": []
    },
    "kernelspec": {
      "name": "python3",
      "display_name": "Python 3"
    },
    "language_info": {
      "name": "python"
    }
  },
  "cells": [
    {
      "cell_type": "markdown",
      "source": [
        "# NLP : Sentiment Analysis, Text Processing
           (HARITHA P V (30-07-2024))"
      ],
      "metadata": {
        "id": "iqd0HVaJpiMJ"
      }
    },
    {
      "cell_type": "markdown",
      "source": [
        "**Tokenization:** Breaks the text into sentences and words.\n",
        "\n",
        "**Stemming:** Reduces words to their root forms.\n",
        "\n",
        "**Lemmatization:** Reduces words to their base forms.\n",
        "\n",
        "**Removing Stopwords:** Filters out common, less meaningful words.\n",
        "\n",
        "**Chunking:** Identifies noun chunks in the text.\n",
        "\n",
        "**Sentence Boundary Detection:** Prints each sentence separately.\n",
        "\n",
        "**Dependency Parsing:** Analyzes and prints grammatical relationships between tokens.\n",
        "\n",
        "**Sentiment Analysis:** Determines the sentiment of each sentence (positive, negative, neutral).\n",
        "\n",
        "**Rating:** Assigns a rating based on sentiment (5 for positive, 3 for neutral, 1 for negative)."
      ],
      "metadata": {
        "id": "YTsw0ViByYMH"
      }
    },
    {
      "cell_type": "code",
      "execution_count": 133,
      "metadata": {
        "id": "VyS3QHkWkx10"
      },
      "outputs": [],
      "source": [
        "import nltk\n",
        "import spacy\n",
        "import pandas as pd\n",
        "from textblob import TextBlob\n",
        "from nltk.tokenize import word_tokenize,sent_tokenize\n",
        "from nltk.corpus import stopwords\n",
        "from nltk.stem import WordNetLemmatizer, PorterStemmer"
      ]
    },
    {
      "cell_type": "code",
      "source": [
        "# Load the English language model\n",
        "nlp = spacy.load('en_core_web_sm')"
      ],
      "metadata": {
        "id": "JbaZ5lKfwKbz"
      },
      "execution_count": 134,
      "outputs": []
    },
    {
      "cell_type": "code",
      "source": [
        "# Download necessary nltk resources\n",
        "nltk.download('punkt')\n",
        "nltk.download('stopwords')\n",
        "nltk.download('wordnet')"
      ],
      "metadata": {
        "colab": {
          "base_uri": "https://localhost:8080/"
        },
        "id": "8cJ-yXggoydH",
        "outputId": "63516c75-3e1a-4682-c189-99a47be6b2cc"
      },
      "execution_count": 135,
      "outputs": [
        {
          "output_type": "stream",
          "name": "stderr",
          "text": [
            "[nltk_data] Downloading package punkt to /root/nltk_data...\n",
            "[nltk_data]   Package punkt is already up-to-date!\n",
            "[nltk_data] Downloading package stopwords to /root/nltk_data...\n",
            "[nltk_data]   Package stopwords is already up-to-date!\n",
            "[nltk_data] Downloading package wordnet to /root/nltk_data...\n",
            "[nltk_data]   Package wordnet is already up-to-date!\n"
          ]
        },
        {
          "output_type": "execute_result",
          "data": {
            "text/plain": [
              "True"
            ]
          },
          "metadata": {},
          "execution_count": 135
        }
      ]
    },
    {
      "cell_type": "code",
      "source": [
        "# Sample reviews about biryani\n",
        "reviews =[\n",
        "    \"The biryani was fantastic, full of flavor and spices!\",\n",
        "    \"I didn't like the biryani at all. It was too bland.\",\n",
        "    \"The biryani had a perfect blend of spices and was cooked to perfection.\",\n",
        "    \"It was an average biryani, nothing special.\",\n",
        "    \"The biryani was too spicy for my taste, but others might like it.\",\n",
        "    \"Absolutely loved the biryani! Highly recommend it.\",\n",
        "    \"The rice in the biryani was undercooked, and the meat was tough.\",\n",
        "]"
      ],
      "metadata": {
        "id": "2ZzGaZrvm2q4"
      },
      "execution_count": 136,
      "outputs": []
    },
    {
      "cell_type": "code",
      "source": [
        "# Tokenization\n",
        "\"\"\"\n",
        "Tokenization: Break each review into sentences and words.\n",
        "\"\"\"\n",
        "print(\"Tokenization:\")\n",
        "for review in reviews:\n",
        "    sentences = sent_tokenize(review)\n",
        "    for sentence in sentences:\n",
        "        words = word_tokenize(sentence)\n",
        "        print(f\"\\nSentence: {sentence}\")\n",
        "        print(f\"Words: {words}\")"
      ],
      "metadata": {
        "colab": {
          "base_uri": "https://localhost:8080/"
        },
        "id": "dzt13iWWyzHA",
        "outputId": "6d89de28-1b7c-4f0f-fc76-be0179b44ec0"
      },
      "execution_count": 137,
      "outputs": [
        {
          "output_type": "stream",
          "name": "stdout",
          "text": [
            "Tokenization:\n",
            "\n",
            "Sentence: The biryani was fantastic, full of flavor and spices!\n",
            "Words: ['The', 'biryani', 'was', 'fantastic', ',', 'full', 'of', 'flavor', 'and', 'spices', '!']\n",
            "\n",
            "Sentence: I didn't like the biryani at all.\n",
            "Words: ['I', 'did', \"n't\", 'like', 'the', 'biryani', 'at', 'all', '.']\n",
            "\n",
            "Sentence: It was too bland.\n",
            "Words: ['It', 'was', 'too', 'bland', '.']\n",
            "\n",
            "Sentence: The biryani had a perfect blend of spices and was cooked to perfection.\n",
            "Words: ['The', 'biryani', 'had', 'a', 'perfect', 'blend', 'of', 'spices', 'and', 'was', 'cooked', 'to', 'perfection', '.']\n",
            "\n",
            "Sentence: It was an average biryani, nothing special.\n",
            "Words: ['It', 'was', 'an', 'average', 'biryani', ',', 'nothing', 'special', '.']\n",
            "\n",
            "Sentence: The biryani was too spicy for my taste, but others might like it.\n",
            "Words: ['The', 'biryani', 'was', 'too', 'spicy', 'for', 'my', 'taste', ',', 'but', 'others', 'might', 'like', 'it', '.']\n",
            "\n",
            "Sentence: Absolutely loved the biryani!\n",
            "Words: ['Absolutely', 'loved', 'the', 'biryani', '!']\n",
            "\n",
            "Sentence: Highly recommend it.\n",
            "Words: ['Highly', 'recommend', 'it', '.']\n",
            "\n",
            "Sentence: The rice in the biryani was undercooked, and the meat was tough.\n",
            "Words: ['The', 'rice', 'in', 'the', 'biryani', 'was', 'undercooked', ',', 'and', 'the', 'meat', 'was', 'tough', '.']\n"
          ]
        }
      ]
    },
    {
      "cell_type": "code",
      "source": [
        "# Stemming\n",
        "\"\"\"\n",
        "Stemming: Reduce words to their root form using PorterStemmer.\n",
        "\"\"\"\n",
        "ps = PorterStemmer()\n",
        "print(\"\\nStemming:\")\n",
        "for review in reviews:\n",
        "    sentences = sent_tokenize(review)\n",
        "    for sentence in sentences:\n",
        "        words = word_tokenize(sentence)\n",
        "        stemmed_words = [ps.stem(word) for word in words]\n",
        "        print(f\"\\nOriginal Sentence: {sentence}\")\n",
        "        print(f\"Stemmed Words: {stemmed_words}\")"
      ],
      "metadata": {
        "colab": {
          "base_uri": "https://localhost:8080/"
        },
        "id": "0eQsjBtO021G",
        "outputId": "d0de90c0-adfe-4f1f-b074-bd04127f222c"
      },
      "execution_count": 138,
      "outputs": [
        {
          "output_type": "stream",
          "name": "stdout",
          "text": [
            "\n",
            "Stemming:\n",
            "\n",
            "Original Sentence: The biryani was fantastic, full of flavor and spices!\n",
            "Stemmed Words: ['the', 'biryani', 'wa', 'fantast', ',', 'full', 'of', 'flavor', 'and', 'spice', '!']\n",
            "\n",
            "Original Sentence: I didn't like the biryani at all.\n",
            "Stemmed Words: ['i', 'did', \"n't\", 'like', 'the', 'biryani', 'at', 'all', '.']\n",
            "\n",
            "Original Sentence: It was too bland.\n",
            "Stemmed Words: ['it', 'wa', 'too', 'bland', '.']\n",
            "\n",
            "Original Sentence: The biryani had a perfect blend of spices and was cooked to perfection.\n",
            "Stemmed Words: ['the', 'biryani', 'had', 'a', 'perfect', 'blend', 'of', 'spice', 'and', 'wa', 'cook', 'to', 'perfect', '.']\n",
            "\n",
            "Original Sentence: It was an average biryani, nothing special.\n",
            "Stemmed Words: ['it', 'wa', 'an', 'averag', 'biryani', ',', 'noth', 'special', '.']\n",
            "\n",
            "Original Sentence: The biryani was too spicy for my taste, but others might like it.\n",
            "Stemmed Words: ['the', 'biryani', 'wa', 'too', 'spici', 'for', 'my', 'tast', ',', 'but', 'other', 'might', 'like', 'it', '.']\n",
            "\n",
            "Original Sentence: Absolutely loved the biryani!\n",
            "Stemmed Words: ['absolut', 'love', 'the', 'biryani', '!']\n",
            "\n",
            "Original Sentence: Highly recommend it.\n",
            "Stemmed Words: ['highli', 'recommend', 'it', '.']\n",
            "\n",
            "Original Sentence: The rice in the biryani was undercooked, and the meat was tough.\n",
            "Stemmed Words: ['the', 'rice', 'in', 'the', 'biryani', 'wa', 'undercook', ',', 'and', 'the', 'meat', 'wa', 'tough', '.']\n"
          ]
        }
      ]
    },
    {
      "cell_type": "code",
      "source": [
        "# Lemmatization\n",
        "\"\"\"\n",
        "Lemmatization: Reduce words to their base or dictionary form using WordNetLemmatizer.\n",
        "\"\"\"\n",
        "lemmatizer = WordNetLemmatizer()\n",
        "print(\"\\nLemmatization:\")\n",
        "for review in reviews:\n",
        "    sentences = sent_tokenize(review)\n",
        "    for sentence in sentences:\n",
        "        words = word_tokenize(sentence)\n",
        "        lemmatized_words = [lemmatizer.lemmatize(word) for word in words]\n",
        "        print(f\"\\nOriginal Sentence: {sentence}\")\n",
        "        print(f\"Lemmatized Words: {lemmatized_words}\")"
      ],
      "metadata": {
        "colab": {
          "base_uri": "https://localhost:8080/"
        },
        "id": "yId-C73Y1GKO",
        "outputId": "7a3a5987-6af1-41fd-c9eb-03f572dbbe47"
      },
      "execution_count": 139,
      "outputs": [
        {
          "output_type": "stream",
          "name": "stdout",
          "text": [
            "\n",
            "Lemmatization:\n",
            "\n",
            "Original Sentence: The biryani was fantastic, full of flavor and spices!\n",
            "Lemmatized Words: ['The', 'biryani', 'wa', 'fantastic', ',', 'full', 'of', 'flavor', 'and', 'spice', '!']\n",
            "\n",
            "Original Sentence: I didn't like the biryani at all.\n",
            "Lemmatized Words: ['I', 'did', \"n't\", 'like', 'the', 'biryani', 'at', 'all', '.']\n",
            "\n",
            "Original Sentence: It was too bland.\n",
            "Lemmatized Words: ['It', 'wa', 'too', 'bland', '.']\n",
            "\n",
            "Original Sentence: The biryani had a perfect blend of spices and was cooked to perfection.\n",
            "Lemmatized Words: ['The', 'biryani', 'had', 'a', 'perfect', 'blend', 'of', 'spice', 'and', 'wa', 'cooked', 'to', 'perfection', '.']\n",
            "\n",
            "Original Sentence: It was an average biryani, nothing special.\n",
            "Lemmatized Words: ['It', 'wa', 'an', 'average', 'biryani', ',', 'nothing', 'special', '.']\n",
            "\n",
            "Original Sentence: The biryani was too spicy for my taste, but others might like it.\n",
            "Lemmatized Words: ['The', 'biryani', 'wa', 'too', 'spicy', 'for', 'my', 'taste', ',', 'but', 'others', 'might', 'like', 'it', '.']\n",
            "\n",
            "Original Sentence: Absolutely loved the biryani!\n",
            "Lemmatized Words: ['Absolutely', 'loved', 'the', 'biryani', '!']\n",
            "\n",
            "Original Sentence: Highly recommend it.\n",
            "Lemmatized Words: ['Highly', 'recommend', 'it', '.']\n",
            "\n",
            "Original Sentence: The rice in the biryani was undercooked, and the meat was tough.\n",
            "Lemmatized Words: ['The', 'rice', 'in', 'the', 'biryani', 'wa', 'undercooked', ',', 'and', 'the', 'meat', 'wa', 'tough', '.']\n"
          ]
        }
      ]
    },
    {
      "cell_type": "code",
      "source": [
        "# Removing Stopwords\n",
        "\"\"\"\n",
        "Removing Stopwords: Remove common words that don't add much meaning.\n",
        "\"\"\"\n",
        "stop_words = set(stopwords.words('english'))\n",
        "print(\"\\nRemoving Stopwords:\")\n",
        "for review in reviews:\n",
        "    sentences = sent_tokenize(review)\n",
        "    for sentence in sentences:\n",
        "        words = word_tokenize(sentence)\n",
        "        filtered_words = [word for word in words if word.lower() not in stop_words]\n",
        "        print(f\"\\nOriginal Sentence: {sentence}\")\n",
        "        print(f\"Filtered Words: {filtered_words}\")"
      ],
      "metadata": {
        "colab": {
          "base_uri": "https://localhost:8080/"
        },
        "id": "36n4SKjs1NWB",
        "outputId": "15f6cb72-7dee-4b68-c563-ca7100cab6b5"
      },
      "execution_count": 140,
      "outputs": [
        {
          "output_type": "stream",
          "name": "stdout",
          "text": [
            "\n",
            "Removing Stopwords:\n",
            "\n",
            "Original Sentence: The biryani was fantastic, full of flavor and spices!\n",
            "Filtered Words: ['biryani', 'fantastic', ',', 'full', 'flavor', 'spices', '!']\n",
            "\n",
            "Original Sentence: I didn't like the biryani at all.\n",
            "Filtered Words: [\"n't\", 'like', 'biryani', '.']\n",
            "\n",
            "Original Sentence: It was too bland.\n",
            "Filtered Words: ['bland', '.']\n",
            "\n",
            "Original Sentence: The biryani had a perfect blend of spices and was cooked to perfection.\n",
            "Filtered Words: ['biryani', 'perfect', 'blend', 'spices', 'cooked', 'perfection', '.']\n",
            "\n",
            "Original Sentence: It was an average biryani, nothing special.\n",
            "Filtered Words: ['average', 'biryani', ',', 'nothing', 'special', '.']\n",
            "\n",
            "Original Sentence: The biryani was too spicy for my taste, but others might like it.\n",
            "Filtered Words: ['biryani', 'spicy', 'taste', ',', 'others', 'might', 'like', '.']\n",
            "\n",
            "Original Sentence: Absolutely loved the biryani!\n",
            "Filtered Words: ['Absolutely', 'loved', 'biryani', '!']\n",
            "\n",
            "Original Sentence: Highly recommend it.\n",
            "Filtered Words: ['Highly', 'recommend', '.']\n",
            "\n",
            "Original Sentence: The rice in the biryani was undercooked, and the meat was tough.\n",
            "Filtered Words: ['rice', 'biryani', 'undercooked', ',', 'meat', 'tough', '.']\n"
          ]
        }
      ]
    },
    {
      "cell_type": "code",
      "source": [
        "# Chunking\n",
        "\"\"\"\n",
        "Chunking: Extract noun chunks from the text.\n",
        "\"\"\"\n",
        "print(\"\\nChunking:\")\n",
        "for review in reviews:\n",
        "    doc = nlp(review)\n",
        "    for chunk in doc.noun_chunks:\n",
        "        print(f\"Chunk: {chunk.text}\")\n"
      ],
      "metadata": {
        "colab": {
          "base_uri": "https://localhost:8080/"
        },
        "id": "TmEdLfp51Ubn",
        "outputId": "e7260344-dc4b-48fd-b0c1-8dd1ae1441d3"
      },
      "execution_count": 141,
      "outputs": [
        {
          "output_type": "stream",
          "name": "stdout",
          "text": [
            "\n",
            "Chunking:\n",
            "Chunk: The biryani\n",
            "Chunk: flavor\n",
            "Chunk: spices\n",
            "Chunk: I\n",
            "Chunk: the biryani\n",
            "Chunk: It\n",
            "Chunk: The biryani\n",
            "Chunk: a perfect blend\n",
            "Chunk: spices\n",
            "Chunk: perfection\n",
            "Chunk: It\n",
            "Chunk: an average biryani\n",
            "Chunk: nothing\n",
            "Chunk: The biryani\n",
            "Chunk: my taste\n",
            "Chunk: others\n",
            "Chunk: it\n",
            "Chunk: the biryani\n",
            "Chunk: it\n",
            "Chunk: The rice\n",
            "Chunk: the biryani\n",
            "Chunk: the meat\n"
          ]
        }
      ]
    },
    {
      "cell_type": "code",
      "source": [
        "# Sentence Boundary Detection\n",
        "\"\"\"\n",
        "Sentence Boundary Detection: Detect and print sentences.\n",
        "\"\"\"\n",
        "print(\"\\nSentence Boundary Detection:\")\n",
        "for review in reviews:\n",
        "    sentences = sent_tokenize(review)\n",
        "    for i, sentence in enumerate(sentences):\n",
        "        print(f\"Sentence {i + 1}: {sentence}\")"
      ],
      "metadata": {
        "colab": {
          "base_uri": "https://localhost:8080/"
        },
        "id": "Jkk57_LR4k4R",
        "outputId": "92b19492-ef23-4072-9818-7b367befa5ac"
      },
      "execution_count": 142,
      "outputs": [
        {
          "output_type": "stream",
          "name": "stdout",
          "text": [
            "\n",
            "Sentence Boundary Detection:\n",
            "Sentence 1: The biryani was fantastic, full of flavor and spices!\n",
            "Sentence 1: I didn't like the biryani at all.\n",
            "Sentence 2: It was too bland.\n",
            "Sentence 1: The biryani had a perfect blend of spices and was cooked to perfection.\n",
            "Sentence 1: It was an average biryani, nothing special.\n",
            "Sentence 1: The biryani was too spicy for my taste, but others might like it.\n",
            "Sentence 1: Absolutely loved the biryani!\n",
            "Sentence 2: Highly recommend it.\n",
            "Sentence 1: The rice in the biryani was undercooked, and the meat was tough.\n"
          ]
        }
      ]
    },
    {
      "cell_type": "code",
      "source": [
        "# Dependency Parsing\n",
        "\"\"\"\n",
        "Dependency Parsing: Analyze grammatical structure and relationships between tokens.\n",
        "\"\"\"\n",
        "print(\"\\nDependency Parsing:\")\n",
        "for review in reviews:\n",
        "    doc = nlp(review)\n",
        "    for token in doc:\n",
        "        print(f\"Token: {token.text}, \"\n",
        "              f\"Lemma: {token.lemma_}, \"\n",
        "              f\"POS: {token.pos_}, \"\n",
        "              f\"Tag: {token.tag_}, \"\n",
        "              f\"Dep: {token.dep_}, \"\n",
        "              f\"Head: {token.head.text}, \"\n",
        "              f\"Children: {[child.text for child in token.children]}\")"
      ],
      "metadata": {
        "colab": {
          "base_uri": "https://localhost:8080/"
        },
        "id": "jfDMrmsq4mcW",
        "outputId": "b4d34c17-95d3-4c83-8fb0-dcef438a624d"
      },
      "execution_count": 143,
      "outputs": [
        {
          "output_type": "stream",
          "name": "stdout",
          "text": [
            "\n",
            "Dependency Parsing:\n",
            "Token: The, Lemma: the, POS: DET, Tag: DT, Dep: det, Head: biryani, Children: []\n",
            "Token: biryani, Lemma: biryani, POS: NOUN, Tag: NN, Dep: nsubj, Head: was, Children: ['The']\n",
            "Token: was, Lemma: be, POS: AUX, Tag: VBD, Dep: ROOT, Head: was, Children: ['biryani', 'fantastic', '!']\n",
            "Token: fantastic, Lemma: fantastic, POS: ADJ, Tag: JJ, Dep: acomp, Head: was, Children: [',', 'full']\n",
            "Token: ,, Lemma: ,, POS: PUNCT, Tag: ,, Dep: punct, Head: fantastic, Children: []\n",
            "Token: full, Lemma: full, POS: ADJ, Tag: JJ, Dep: conj, Head: fantastic, Children: ['of']\n",
            "Token: of, Lemma: of, POS: ADP, Tag: IN, Dep: prep, Head: full, Children: ['flavor']\n",
            "Token: flavor, Lemma: flavor, POS: NOUN, Tag: NN, Dep: pobj, Head: of, Children: ['and', 'spices']\n",
            "Token: and, Lemma: and, POS: CCONJ, Tag: CC, Dep: cc, Head: flavor, Children: []\n",
            "Token: spices, Lemma: spice, POS: NOUN, Tag: NNS, Dep: conj, Head: flavor, Children: []\n",
            "Token: !, Lemma: !, POS: PUNCT, Tag: ., Dep: punct, Head: was, Children: []\n",
            "Token: I, Lemma: I, POS: PRON, Tag: PRP, Dep: nsubj, Head: like, Children: []\n",
            "Token: did, Lemma: do, POS: AUX, Tag: VBD, Dep: aux, Head: like, Children: []\n",
            "Token: n't, Lemma: not, POS: PART, Tag: RB, Dep: neg, Head: like, Children: []\n",
            "Token: like, Lemma: like, POS: VERB, Tag: VB, Dep: ROOT, Head: like, Children: ['I', 'did', \"n't\", 'biryani', 'all', '.']\n",
            "Token: the, Lemma: the, POS: DET, Tag: DT, Dep: det, Head: biryani, Children: []\n",
            "Token: biryani, Lemma: biryani, POS: NOUN, Tag: NN, Dep: dobj, Head: like, Children: ['the']\n",
            "Token: at, Lemma: at, POS: ADV, Tag: RB, Dep: advmod, Head: all, Children: []\n",
            "Token: all, Lemma: all, POS: ADV, Tag: RB, Dep: advmod, Head: like, Children: ['at']\n",
            "Token: ., Lemma: ., POS: PUNCT, Tag: ., Dep: punct, Head: like, Children: []\n",
            "Token: It, Lemma: it, POS: PRON, Tag: PRP, Dep: nsubj, Head: was, Children: []\n",
            "Token: was, Lemma: be, POS: AUX, Tag: VBD, Dep: ROOT, Head: was, Children: ['It', 'bland', '.']\n",
            "Token: too, Lemma: too, POS: ADV, Tag: RB, Dep: advmod, Head: bland, Children: []\n",
            "Token: bland, Lemma: bland, POS: ADJ, Tag: JJ, Dep: acomp, Head: was, Children: ['too']\n",
            "Token: ., Lemma: ., POS: PUNCT, Tag: ., Dep: punct, Head: was, Children: []\n",
            "Token: The, Lemma: the, POS: DET, Tag: DT, Dep: det, Head: biryani, Children: []\n",
            "Token: biryani, Lemma: biryani, POS: NOUN, Tag: NN, Dep: nsubj, Head: had, Children: ['The']\n",
            "Token: had, Lemma: have, POS: VERB, Tag: VBD, Dep: ROOT, Head: had, Children: ['biryani', 'blend', 'and', 'cooked', '.']\n",
            "Token: a, Lemma: a, POS: DET, Tag: DT, Dep: det, Head: blend, Children: []\n",
            "Token: perfect, Lemma: perfect, POS: ADJ, Tag: JJ, Dep: amod, Head: blend, Children: []\n",
            "Token: blend, Lemma: blend, POS: NOUN, Tag: NN, Dep: dobj, Head: had, Children: ['a', 'perfect', 'of']\n",
            "Token: of, Lemma: of, POS: ADP, Tag: IN, Dep: prep, Head: blend, Children: ['spices']\n",
            "Token: spices, Lemma: spice, POS: NOUN, Tag: NNS, Dep: pobj, Head: of, Children: []\n",
            "Token: and, Lemma: and, POS: CCONJ, Tag: CC, Dep: cc, Head: had, Children: []\n",
            "Token: was, Lemma: be, POS: AUX, Tag: VBD, Dep: auxpass, Head: cooked, Children: []\n",
            "Token: cooked, Lemma: cook, POS: VERB, Tag: VBN, Dep: conj, Head: had, Children: ['was', 'to']\n",
            "Token: to, Lemma: to, POS: ADP, Tag: IN, Dep: prep, Head: cooked, Children: ['perfection']\n",
            "Token: perfection, Lemma: perfection, POS: NOUN, Tag: NN, Dep: pobj, Head: to, Children: []\n",
            "Token: ., Lemma: ., POS: PUNCT, Tag: ., Dep: punct, Head: had, Children: []\n",
            "Token: It, Lemma: it, POS: PRON, Tag: PRP, Dep: nsubj, Head: was, Children: []\n",
            "Token: was, Lemma: be, POS: AUX, Tag: VBD, Dep: ROOT, Head: was, Children: ['It', 'biryani', '.']\n",
            "Token: an, Lemma: an, POS: DET, Tag: DT, Dep: det, Head: biryani, Children: []\n",
            "Token: average, Lemma: average, POS: ADJ, Tag: JJ, Dep: amod, Head: biryani, Children: []\n",
            "Token: biryani, Lemma: biryani, POS: NOUN, Tag: NN, Dep: attr, Head: was, Children: ['an', 'average', ',', 'nothing']\n",
            "Token: ,, Lemma: ,, POS: PUNCT, Tag: ,, Dep: punct, Head: biryani, Children: []\n",
            "Token: nothing, Lemma: nothing, POS: PRON, Tag: NN, Dep: appos, Head: biryani, Children: ['special']\n",
            "Token: special, Lemma: special, POS: ADJ, Tag: JJ, Dep: amod, Head: nothing, Children: []\n",
            "Token: ., Lemma: ., POS: PUNCT, Tag: ., Dep: punct, Head: was, Children: []\n",
            "Token: The, Lemma: the, POS: DET, Tag: DT, Dep: det, Head: biryani, Children: []\n",
            "Token: biryani, Lemma: biryani, POS: NOUN, Tag: NN, Dep: nsubj, Head: was, Children: ['The']\n",
            "Token: was, Lemma: be, POS: AUX, Tag: VBD, Dep: ROOT, Head: was, Children: ['biryani', 'spicy', 'for', ',', 'but', 'like']\n",
            "Token: too, Lemma: too, POS: ADV, Tag: RB, Dep: advmod, Head: spicy, Children: []\n",
            "Token: spicy, Lemma: spicy, POS: ADJ, Tag: JJ, Dep: acomp, Head: was, Children: ['too']\n",
            "Token: for, Lemma: for, POS: ADP, Tag: IN, Dep: prep, Head: was, Children: ['taste']\n",
            "Token: my, Lemma: my, POS: PRON, Tag: PRP$, Dep: poss, Head: taste, Children: []\n",
            "Token: taste, Lemma: taste, POS: NOUN, Tag: NN, Dep: pobj, Head: for, Children: ['my']\n",
            "Token: ,, Lemma: ,, POS: PUNCT, Tag: ,, Dep: punct, Head: was, Children: []\n",
            "Token: but, Lemma: but, POS: CCONJ, Tag: CC, Dep: cc, Head: was, Children: []\n",
            "Token: others, Lemma: other, POS: NOUN, Tag: NNS, Dep: nsubj, Head: like, Children: []\n",
            "Token: might, Lemma: might, POS: AUX, Tag: MD, Dep: aux, Head: like, Children: []\n",
            "Token: like, Lemma: like, POS: VERB, Tag: VB, Dep: conj, Head: was, Children: ['others', 'might', 'it', '.']\n",
            "Token: it, Lemma: it, POS: PRON, Tag: PRP, Dep: dobj, Head: like, Children: []\n",
            "Token: ., Lemma: ., POS: PUNCT, Tag: ., Dep: punct, Head: like, Children: []\n",
            "Token: Absolutely, Lemma: absolutely, POS: ADV, Tag: RB, Dep: advmod, Head: loved, Children: []\n",
            "Token: loved, Lemma: love, POS: VERB, Tag: VBD, Dep: ROOT, Head: loved, Children: ['Absolutely', 'biryani', '!']\n",
            "Token: the, Lemma: the, POS: DET, Tag: DT, Dep: det, Head: biryani, Children: []\n",
            "Token: biryani, Lemma: biryani, POS: NOUN, Tag: NN, Dep: dobj, Head: loved, Children: ['the']\n",
            "Token: !, Lemma: !, POS: PUNCT, Tag: ., Dep: punct, Head: loved, Children: []\n",
            "Token: Highly, Lemma: highly, POS: ADV, Tag: RB, Dep: advmod, Head: recommend, Children: []\n",
            "Token: recommend, Lemma: recommend, POS: VERB, Tag: VB, Dep: ROOT, Head: recommend, Children: ['Highly', 'it', '.']\n",
            "Token: it, Lemma: it, POS: PRON, Tag: PRP, Dep: dobj, Head: recommend, Children: []\n",
            "Token: ., Lemma: ., POS: PUNCT, Tag: ., Dep: punct, Head: recommend, Children: []\n",
            "Token: The, Lemma: the, POS: DET, Tag: DT, Dep: det, Head: rice, Children: []\n",
            "Token: rice, Lemma: rice, POS: NOUN, Tag: NN, Dep: nsubj, Head: was, Children: ['The', 'in']\n",
            "Token: in, Lemma: in, POS: ADP, Tag: IN, Dep: prep, Head: rice, Children: ['biryani']\n",
            "Token: the, Lemma: the, POS: DET, Tag: DT, Dep: det, Head: biryani, Children: []\n",
            "Token: biryani, Lemma: biryani, POS: NOUN, Tag: NN, Dep: pobj, Head: in, Children: ['the']\n",
            "Token: was, Lemma: be, POS: AUX, Tag: VBD, Dep: ROOT, Head: was, Children: ['rice', 'undercooked', ',', 'and', 'was']\n",
            "Token: undercooked, Lemma: undercooked, POS: ADJ, Tag: JJ, Dep: acomp, Head: was, Children: []\n",
            "Token: ,, Lemma: ,, POS: PUNCT, Tag: ,, Dep: punct, Head: was, Children: []\n",
            "Token: and, Lemma: and, POS: CCONJ, Tag: CC, Dep: cc, Head: was, Children: []\n",
            "Token: the, Lemma: the, POS: DET, Tag: DT, Dep: det, Head: meat, Children: []\n",
            "Token: meat, Lemma: meat, POS: NOUN, Tag: NN, Dep: nsubj, Head: was, Children: ['the']\n",
            "Token: was, Lemma: be, POS: AUX, Tag: VBD, Dep: conj, Head: was, Children: ['meat', 'tough', '.']\n",
            "Token: tough, Lemma: tough, POS: ADJ, Tag: JJ, Dep: acomp, Head: was, Children: []\n",
            "Token: ., Lemma: ., POS: PUNCT, Tag: ., Dep: punct, Head: was, Children: []\n"
          ]
        }
      ]
    },
    {
      "cell_type": "code",
      "source": [
        "from spacy import displacy\n",
        "\n",
        "# Visualize the dependency parsing\n",
        "displacy.render(doc, style='dep')"
      ],
      "metadata": {
        "colab": {
          "base_uri": "https://localhost:8080/",
          "height": 441
        },
        "id": "By9_HHay18Lt",
        "outputId": "0df4c873-3345-464e-d0d3-8e5251eac891"
      },
      "execution_count": 144,
      "outputs": [
        {
          "output_type": "display_data",
          "data": {
            "text/plain": [
              "<IPython.core.display.HTML object>"
            ],
            "text/html": [
              "<span class=\"tex2jax_ignore\"><svg xmlns=\"http://www.w3.org/2000/svg\" xmlns:xlink=\"http://www.w3.org/1999/xlink\" xml:lang=\"en\" id=\"da7bc73e9678489fae168dc38a2faf80-0\" class=\"displacy\" width=\"2150\" height=\"399.5\" direction=\"ltr\" style=\"max-width: none; height: 399.5px; color: #000000; background: #ffffff; font-family: Arial; direction: ltr\">\n",
              "<text class=\"displacy-token\" fill=\"currentColor\" text-anchor=\"middle\" y=\"309.5\">\n",
              "    <tspan class=\"displacy-word\" fill=\"currentColor\" x=\"50\">The</tspan>\n",
              "    <tspan class=\"displacy-tag\" dy=\"2em\" fill=\"currentColor\" x=\"50\">DET</tspan>\n",
              "</text>\n",
              "\n",
              "<text class=\"displacy-token\" fill=\"currentColor\" text-anchor=\"middle\" y=\"309.5\">\n",
              "    <tspan class=\"displacy-word\" fill=\"currentColor\" x=\"225\">rice</tspan>\n",
              "    <tspan class=\"displacy-tag\" dy=\"2em\" fill=\"currentColor\" x=\"225\">NOUN</tspan>\n",
              "</text>\n",
              "\n",
              "<text class=\"displacy-token\" fill=\"currentColor\" text-anchor=\"middle\" y=\"309.5\">\n",
              "    <tspan class=\"displacy-word\" fill=\"currentColor\" x=\"400\">in</tspan>\n",
              "    <tspan class=\"displacy-tag\" dy=\"2em\" fill=\"currentColor\" x=\"400\">ADP</tspan>\n",
              "</text>\n",
              "\n",
              "<text class=\"displacy-token\" fill=\"currentColor\" text-anchor=\"middle\" y=\"309.5\">\n",
              "    <tspan class=\"displacy-word\" fill=\"currentColor\" x=\"575\">the</tspan>\n",
              "    <tspan class=\"displacy-tag\" dy=\"2em\" fill=\"currentColor\" x=\"575\">DET</tspan>\n",
              "</text>\n",
              "\n",
              "<text class=\"displacy-token\" fill=\"currentColor\" text-anchor=\"middle\" y=\"309.5\">\n",
              "    <tspan class=\"displacy-word\" fill=\"currentColor\" x=\"750\">biryani</tspan>\n",
              "    <tspan class=\"displacy-tag\" dy=\"2em\" fill=\"currentColor\" x=\"750\">NOUN</tspan>\n",
              "</text>\n",
              "\n",
              "<text class=\"displacy-token\" fill=\"currentColor\" text-anchor=\"middle\" y=\"309.5\">\n",
              "    <tspan class=\"displacy-word\" fill=\"currentColor\" x=\"925\">was</tspan>\n",
              "    <tspan class=\"displacy-tag\" dy=\"2em\" fill=\"currentColor\" x=\"925\">AUX</tspan>\n",
              "</text>\n",
              "\n",
              "<text class=\"displacy-token\" fill=\"currentColor\" text-anchor=\"middle\" y=\"309.5\">\n",
              "    <tspan class=\"displacy-word\" fill=\"currentColor\" x=\"1100\">undercooked,</tspan>\n",
              "    <tspan class=\"displacy-tag\" dy=\"2em\" fill=\"currentColor\" x=\"1100\">ADJ</tspan>\n",
              "</text>\n",
              "\n",
              "<text class=\"displacy-token\" fill=\"currentColor\" text-anchor=\"middle\" y=\"309.5\">\n",
              "    <tspan class=\"displacy-word\" fill=\"currentColor\" x=\"1275\">and</tspan>\n",
              "    <tspan class=\"displacy-tag\" dy=\"2em\" fill=\"currentColor\" x=\"1275\">CCONJ</tspan>\n",
              "</text>\n",
              "\n",
              "<text class=\"displacy-token\" fill=\"currentColor\" text-anchor=\"middle\" y=\"309.5\">\n",
              "    <tspan class=\"displacy-word\" fill=\"currentColor\" x=\"1450\">the</tspan>\n",
              "    <tspan class=\"displacy-tag\" dy=\"2em\" fill=\"currentColor\" x=\"1450\">DET</tspan>\n",
              "</text>\n",
              "\n",
              "<text class=\"displacy-token\" fill=\"currentColor\" text-anchor=\"middle\" y=\"309.5\">\n",
              "    <tspan class=\"displacy-word\" fill=\"currentColor\" x=\"1625\">meat</tspan>\n",
              "    <tspan class=\"displacy-tag\" dy=\"2em\" fill=\"currentColor\" x=\"1625\">NOUN</tspan>\n",
              "</text>\n",
              "\n",
              "<text class=\"displacy-token\" fill=\"currentColor\" text-anchor=\"middle\" y=\"309.5\">\n",
              "    <tspan class=\"displacy-word\" fill=\"currentColor\" x=\"1800\">was</tspan>\n",
              "    <tspan class=\"displacy-tag\" dy=\"2em\" fill=\"currentColor\" x=\"1800\">AUX</tspan>\n",
              "</text>\n",
              "\n",
              "<text class=\"displacy-token\" fill=\"currentColor\" text-anchor=\"middle\" y=\"309.5\">\n",
              "    <tspan class=\"displacy-word\" fill=\"currentColor\" x=\"1975\">tough.</tspan>\n",
              "    <tspan class=\"displacy-tag\" dy=\"2em\" fill=\"currentColor\" x=\"1975\">ADJ</tspan>\n",
              "</text>\n",
              "\n",
              "<g class=\"displacy-arrow\">\n",
              "    <path class=\"displacy-arc\" id=\"arrow-da7bc73e9678489fae168dc38a2faf80-0-0\" stroke-width=\"2px\" d=\"M70,264.5 C70,177.0 215.0,177.0 215.0,264.5\" fill=\"none\" stroke=\"currentColor\"/>\n",
              "    <text dy=\"1.25em\" style=\"font-size: 0.8em; letter-spacing: 1px\">\n",
              "        <textPath xlink:href=\"#arrow-da7bc73e9678489fae168dc38a2faf80-0-0\" class=\"displacy-label\" startOffset=\"50%\" side=\"left\" fill=\"currentColor\" text-anchor=\"middle\">det</textPath>\n",
              "    </text>\n",
              "    <path class=\"displacy-arrowhead\" d=\"M70,266.5 L62,254.5 78,254.5\" fill=\"currentColor\"/>\n",
              "</g>\n",
              "\n",
              "<g class=\"displacy-arrow\">\n",
              "    <path class=\"displacy-arc\" id=\"arrow-da7bc73e9678489fae168dc38a2faf80-0-1\" stroke-width=\"2px\" d=\"M245,264.5 C245,2.0 925.0,2.0 925.0,264.5\" fill=\"none\" stroke=\"currentColor\"/>\n",
              "    <text dy=\"1.25em\" style=\"font-size: 0.8em; letter-spacing: 1px\">\n",
              "        <textPath xlink:href=\"#arrow-da7bc73e9678489fae168dc38a2faf80-0-1\" class=\"displacy-label\" startOffset=\"50%\" side=\"left\" fill=\"currentColor\" text-anchor=\"middle\">nsubj</textPath>\n",
              "    </text>\n",
              "    <path class=\"displacy-arrowhead\" d=\"M245,266.5 L237,254.5 253,254.5\" fill=\"currentColor\"/>\n",
              "</g>\n",
              "\n",
              "<g class=\"displacy-arrow\">\n",
              "    <path class=\"displacy-arc\" id=\"arrow-da7bc73e9678489fae168dc38a2faf80-0-2\" stroke-width=\"2px\" d=\"M245,264.5 C245,177.0 390.0,177.0 390.0,264.5\" fill=\"none\" stroke=\"currentColor\"/>\n",
              "    <text dy=\"1.25em\" style=\"font-size: 0.8em; letter-spacing: 1px\">\n",
              "        <textPath xlink:href=\"#arrow-da7bc73e9678489fae168dc38a2faf80-0-2\" class=\"displacy-label\" startOffset=\"50%\" side=\"left\" fill=\"currentColor\" text-anchor=\"middle\">prep</textPath>\n",
              "    </text>\n",
              "    <path class=\"displacy-arrowhead\" d=\"M390.0,266.5 L398.0,254.5 382.0,254.5\" fill=\"currentColor\"/>\n",
              "</g>\n",
              "\n",
              "<g class=\"displacy-arrow\">\n",
              "    <path class=\"displacy-arc\" id=\"arrow-da7bc73e9678489fae168dc38a2faf80-0-3\" stroke-width=\"2px\" d=\"M595,264.5 C595,177.0 740.0,177.0 740.0,264.5\" fill=\"none\" stroke=\"currentColor\"/>\n",
              "    <text dy=\"1.25em\" style=\"font-size: 0.8em; letter-spacing: 1px\">\n",
              "        <textPath xlink:href=\"#arrow-da7bc73e9678489fae168dc38a2faf80-0-3\" class=\"displacy-label\" startOffset=\"50%\" side=\"left\" fill=\"currentColor\" text-anchor=\"middle\">det</textPath>\n",
              "    </text>\n",
              "    <path class=\"displacy-arrowhead\" d=\"M595,266.5 L587,254.5 603,254.5\" fill=\"currentColor\"/>\n",
              "</g>\n",
              "\n",
              "<g class=\"displacy-arrow\">\n",
              "    <path class=\"displacy-arc\" id=\"arrow-da7bc73e9678489fae168dc38a2faf80-0-4\" stroke-width=\"2px\" d=\"M420,264.5 C420,89.5 745.0,89.5 745.0,264.5\" fill=\"none\" stroke=\"currentColor\"/>\n",
              "    <text dy=\"1.25em\" style=\"font-size: 0.8em; letter-spacing: 1px\">\n",
              "        <textPath xlink:href=\"#arrow-da7bc73e9678489fae168dc38a2faf80-0-4\" class=\"displacy-label\" startOffset=\"50%\" side=\"left\" fill=\"currentColor\" text-anchor=\"middle\">pobj</textPath>\n",
              "    </text>\n",
              "    <path class=\"displacy-arrowhead\" d=\"M745.0,266.5 L753.0,254.5 737.0,254.5\" fill=\"currentColor\"/>\n",
              "</g>\n",
              "\n",
              "<g class=\"displacy-arrow\">\n",
              "    <path class=\"displacy-arc\" id=\"arrow-da7bc73e9678489fae168dc38a2faf80-0-5\" stroke-width=\"2px\" d=\"M945,264.5 C945,177.0 1090.0,177.0 1090.0,264.5\" fill=\"none\" stroke=\"currentColor\"/>\n",
              "    <text dy=\"1.25em\" style=\"font-size: 0.8em; letter-spacing: 1px\">\n",
              "        <textPath xlink:href=\"#arrow-da7bc73e9678489fae168dc38a2faf80-0-5\" class=\"displacy-label\" startOffset=\"50%\" side=\"left\" fill=\"currentColor\" text-anchor=\"middle\">acomp</textPath>\n",
              "    </text>\n",
              "    <path class=\"displacy-arrowhead\" d=\"M1090.0,266.5 L1098.0,254.5 1082.0,254.5\" fill=\"currentColor\"/>\n",
              "</g>\n",
              "\n",
              "<g class=\"displacy-arrow\">\n",
              "    <path class=\"displacy-arc\" id=\"arrow-da7bc73e9678489fae168dc38a2faf80-0-6\" stroke-width=\"2px\" d=\"M945,264.5 C945,89.5 1270.0,89.5 1270.0,264.5\" fill=\"none\" stroke=\"currentColor\"/>\n",
              "    <text dy=\"1.25em\" style=\"font-size: 0.8em; letter-spacing: 1px\">\n",
              "        <textPath xlink:href=\"#arrow-da7bc73e9678489fae168dc38a2faf80-0-6\" class=\"displacy-label\" startOffset=\"50%\" side=\"left\" fill=\"currentColor\" text-anchor=\"middle\">cc</textPath>\n",
              "    </text>\n",
              "    <path class=\"displacy-arrowhead\" d=\"M1270.0,266.5 L1278.0,254.5 1262.0,254.5\" fill=\"currentColor\"/>\n",
              "</g>\n",
              "\n",
              "<g class=\"displacy-arrow\">\n",
              "    <path class=\"displacy-arc\" id=\"arrow-da7bc73e9678489fae168dc38a2faf80-0-7\" stroke-width=\"2px\" d=\"M1470,264.5 C1470,177.0 1615.0,177.0 1615.0,264.5\" fill=\"none\" stroke=\"currentColor\"/>\n",
              "    <text dy=\"1.25em\" style=\"font-size: 0.8em; letter-spacing: 1px\">\n",
              "        <textPath xlink:href=\"#arrow-da7bc73e9678489fae168dc38a2faf80-0-7\" class=\"displacy-label\" startOffset=\"50%\" side=\"left\" fill=\"currentColor\" text-anchor=\"middle\">det</textPath>\n",
              "    </text>\n",
              "    <path class=\"displacy-arrowhead\" d=\"M1470,266.5 L1462,254.5 1478,254.5\" fill=\"currentColor\"/>\n",
              "</g>\n",
              "\n",
              "<g class=\"displacy-arrow\">\n",
              "    <path class=\"displacy-arc\" id=\"arrow-da7bc73e9678489fae168dc38a2faf80-0-8\" stroke-width=\"2px\" d=\"M1645,264.5 C1645,177.0 1790.0,177.0 1790.0,264.5\" fill=\"none\" stroke=\"currentColor\"/>\n",
              "    <text dy=\"1.25em\" style=\"font-size: 0.8em; letter-spacing: 1px\">\n",
              "        <textPath xlink:href=\"#arrow-da7bc73e9678489fae168dc38a2faf80-0-8\" class=\"displacy-label\" startOffset=\"50%\" side=\"left\" fill=\"currentColor\" text-anchor=\"middle\">nsubj</textPath>\n",
              "    </text>\n",
              "    <path class=\"displacy-arrowhead\" d=\"M1645,266.5 L1637,254.5 1653,254.5\" fill=\"currentColor\"/>\n",
              "</g>\n",
              "\n",
              "<g class=\"displacy-arrow\">\n",
              "    <path class=\"displacy-arc\" id=\"arrow-da7bc73e9678489fae168dc38a2faf80-0-9\" stroke-width=\"2px\" d=\"M945,264.5 C945,2.0 1800.0,2.0 1800.0,264.5\" fill=\"none\" stroke=\"currentColor\"/>\n",
              "    <text dy=\"1.25em\" style=\"font-size: 0.8em; letter-spacing: 1px\">\n",
              "        <textPath xlink:href=\"#arrow-da7bc73e9678489fae168dc38a2faf80-0-9\" class=\"displacy-label\" startOffset=\"50%\" side=\"left\" fill=\"currentColor\" text-anchor=\"middle\">conj</textPath>\n",
              "    </text>\n",
              "    <path class=\"displacy-arrowhead\" d=\"M1800.0,266.5 L1808.0,254.5 1792.0,254.5\" fill=\"currentColor\"/>\n",
              "</g>\n",
              "\n",
              "<g class=\"displacy-arrow\">\n",
              "    <path class=\"displacy-arc\" id=\"arrow-da7bc73e9678489fae168dc38a2faf80-0-10\" stroke-width=\"2px\" d=\"M1820,264.5 C1820,177.0 1965.0,177.0 1965.0,264.5\" fill=\"none\" stroke=\"currentColor\"/>\n",
              "    <text dy=\"1.25em\" style=\"font-size: 0.8em; letter-spacing: 1px\">\n",
              "        <textPath xlink:href=\"#arrow-da7bc73e9678489fae168dc38a2faf80-0-10\" class=\"displacy-label\" startOffset=\"50%\" side=\"left\" fill=\"currentColor\" text-anchor=\"middle\">acomp</textPath>\n",
              "    </text>\n",
              "    <path class=\"displacy-arrowhead\" d=\"M1965.0,266.5 L1973.0,254.5 1957.0,254.5\" fill=\"currentColor\"/>\n",
              "</g>\n",
              "</svg></span>"
            ]
          },
          "metadata": {}
        }
      ]
    },
    {
      "cell_type": "code",
      "source": [
        "# Sentiment Analysis\n",
        "\"\"\"\n",
        "Sentiment Analysis: Determine the sentiment of each review.\n",
        "\"\"\"\n",
        "print(\"\\nSentiment Analysis:\")\n",
        "for review in reviews:\n",
        "    blob = TextBlob(review)\n",
        "    sentiment_polarity = blob.sentiment.polarity\n",
        "    if sentiment_polarity > 0:\n",
        "        sentiment = 'Positive'\n",
        "    elif sentiment_polarity < 0:\n",
        "        sentiment = 'Negative'\n",
        "    else:\n",
        "        sentiment = 'Neutral'\n",
        "    print(f\"\\nReview: {review}\")\n",
        "    print(f\"Sentiment: {sentiment}\")"
      ],
      "metadata": {
        "colab": {
          "base_uri": "https://localhost:8080/"
        },
        "id": "63iRhzJm1o36",
        "outputId": "71d0a222-a26e-45f9-ffc5-90be6034a036"
      },
      "execution_count": 145,
      "outputs": [
        {
          "output_type": "stream",
          "name": "stdout",
          "text": [
            "\n",
            "Sentiment Analysis:\n",
            "\n",
            "Review: The biryani was fantastic, full of flavor and spices!\n",
            "Sentiment: Positive\n",
            "\n",
            "Review: I didn't like the biryani at all. It was too bland.\n",
            "Sentiment: Negative\n",
            "\n",
            "Review: The biryani had a perfect blend of spices and was cooked to perfection.\n",
            "Sentiment: Positive\n",
            "\n",
            "Review: It was an average biryani, nothing special.\n",
            "Sentiment: Positive\n",
            "\n",
            "Review: The biryani was too spicy for my taste, but others might like it.\n",
            "Sentiment: Neutral\n",
            "\n",
            "Review: Absolutely loved the biryani! Highly recommend it.\n",
            "Sentiment: Positive\n",
            "\n",
            "Review: The rice in the biryani was undercooked, and the meat was tough.\n",
            "Sentiment: Negative\n"
          ]
        }
      ]
    },
    {
      "cell_type": "code",
      "source": [
        "# Rating\n",
        "\"\"\"\n",
        "Rating: Assign a rating based on sentiment analysis.\n",
        "\"\"\"\n",
        "print(\"\\nRating:\")\n",
        "for review in reviews:\n",
        "    blob = TextBlob(review)\n",
        "    sentiment_polarity = blob.sentiment.polarity\n",
        "    if sentiment_polarity > 0:\n",
        "        rating = 5\n",
        "    elif sentiment_polarity < 0:\n",
        "        rating = 1\n",
        "    else:\n",
        "        rating = 3\n",
        "    print(f\"\\nReview: {review}\")\n",
        "    print(f\"Rating: {rating}\")"
      ],
      "metadata": {
        "colab": {
          "base_uri": "https://localhost:8080/"
        },
        "id": "SqwRcLsI1t2o",
        "outputId": "36bda359-82f3-488a-9e8a-b3c019b45cfb"
      },
      "execution_count": 146,
      "outputs": [
        {
          "output_type": "stream",
          "name": "stdout",
          "text": [
            "\n",
            "Rating:\n",
            "\n",
            "Review: The biryani was fantastic, full of flavor and spices!\n",
            "Rating: 5\n",
            "\n",
            "Review: I didn't like the biryani at all. It was too bland.\n",
            "Rating: 1\n",
            "\n",
            "Review: The biryani had a perfect blend of spices and was cooked to perfection.\n",
            "Rating: 5\n",
            "\n",
            "Review: It was an average biryani, nothing special.\n",
            "Rating: 5\n",
            "\n",
            "Review: The biryani was too spicy for my taste, but others might like it.\n",
            "Rating: 3\n",
            "\n",
            "Review: Absolutely loved the biryani! Highly recommend it.\n",
            "Rating: 5\n",
            "\n",
            "Review: The rice in the biryani was undercooked, and the meat was tough.\n",
            "Rating: 1\n"
          ]
        }
      ]
    },
    {
      "cell_type": "code",
      "source": [
        "import matplotlib.pyplot as plt"
      ],
      "metadata": {
        "id": "lUstuEWy5_14"
      },
      "execution_count": 147,
      "outputs": []
    },
    {
      "cell_type": "code",
      "source": [
        "# Combine all reviews into a single text\n",
        "text = ' '.join(reviews)\n",
        "\n",
        "# Tokenize the text\n",
        "words = word_tokenize(text.lower())\n",
        "\n",
        "# Remove stopwords\n",
        "stop_words = set(stopwords.words('english'))\n",
        "filtered_words = [word for word in words if word.isalnum() and word not in stop_words]\n",
        "\n",
        "# Compute word frequency\n",
        "from collections import Counter\n",
        "word_freq = Counter(filtered_words)\n",
        "\n",
        "# Plot word frequency\n",
        "plt.figure(figsize=(9, 8))\n",
        "plt.bar(word_freq.keys(), word_freq.values(), color='skyblue')\n",
        "plt.xlabel('Words')\n",
        "plt.ylabel('Frequency')\n",
        "plt.title('Word Frequency in Reviews')\n",
        "plt.xticks(rotation=45)\n",
        "plt.tight_layout()\n",
        "plt.show()"
      ],
      "metadata": {
        "colab": {
          "base_uri": "https://localhost:8080/",
          "height": 807
        },
        "id": "XTD_qG_s56By",
        "outputId": "5bd690b6-4d36-4c83-ced5-30849580388b"
      },
      "execution_count": 148,
      "outputs": [
        {
          "output_type": "display_data",
          "data": {
            "text/plain": [
              "<Figure size 900x800 with 1 Axes>"
            ],
            "image/png": "[encoded data removed]"
          },
          "metadata": {}
        }
      ]
    }
  ]
}
