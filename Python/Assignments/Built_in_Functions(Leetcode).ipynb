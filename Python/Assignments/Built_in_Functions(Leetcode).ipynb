{
  "nbformat": 4,
  "nbformat_minor": 0,
  "metadata": {
    "colab": {
      "provenance": []
    },
    "kernelspec": {
      "name": "python3",
      "display_name": "Python 3"
    },
    "language_info": {
      "name": "python"
    }
  },
  "cells": [
    {
      "cell_type": "markdown",
      "source": [
        "# Built-in functions (leetcode)(26-06-2024)"
      ],
      "metadata": {
        "id": "LmpXiN8etGvP"
      }
    },
    {
      "cell_type": "markdown",
      "source": [
        "58. Given a string s consisting of words and spaces, return the length of the last word in the string.\n",
        "\n",
        "A word is a maximal substring consisting of non-space characters only.\n",
        "Example 1:\n",
        "\n",
        "Input: s = \"Hello World\"\n",
        "Output: 5\n",
        "Explanation: The last word is \"World\" with length 5.\n",
        "Example 2:\n",
        "\n",
        "Input: s = \"   fly me   to   the moon  \"\n",
        "Output: 4\n",
        "Explanation: The last word is \"moon\" with length 4.\n",
        "Example 3:\n",
        "\n",
        "Input: s = \"luffy is still joyboy\"\n",
        "Output: 6\n",
        "Explanation: The last word is \"joyboy\" with length 6.\n",
        "\n",
        " Constraints:\n",
        "\n",
        "1 <= s.length <= 104\n",
        "s consists of only English letters and spaces ' '.\n",
        "There will be at least one word in s."
      ],
      "metadata": {
        "id": "cFHrdqE5tNmP"
      }
    },
    {
      "cell_type": "code",
      "execution_count": 3,
      "metadata": {
        "colab": {
          "base_uri": "https://localhost:8080/"
        },
        "id": "bRPza03FtGSe",
        "outputId": "6b5f2396-2640-41d0-ad3f-3ee57a325d97"
      },
      "outputs": [
        {
          "output_type": "stream",
          "name": "stdout",
          "text": [
            "hello world\n",
            "5\n"
          ]
        }
      ],
      "source": [
        "class Solution(object):\n",
        "    def lengthOfLastWord(self, s):\n",
        "        i=len(s)-1\n",
        "        while i >= 0 and s[i] == ' ':\n",
        "            i -= 1\n",
        "        j = i\n",
        "        while j >= 0 and s[j] != ' ':\n",
        "            j -= 1\n",
        "        return i - j\n",
        "s=input()\n",
        "print(Solution().lengthOfLastWord(s))"
      ]
    },
    {
      "cell_type": "markdown",
      "source": [
        "709. To lower case\n",
        "Given a string s, return the string after replacing every uppercase letter with the same lowercase letter.\n",
        "\n",
        "Example 1:\n",
        "Input: s = \"Hello\"\n",
        "Output: \"hello\"\n",
        "\n",
        "Example 2:\n",
        "Input: s = \"here\"\n",
        "Output: \"here\"\n",
        "\n",
        "Example 3:\n",
        "Input: s = \"LOVELY\"\n",
        "Output: \"lovely\"\n",
        "\n",
        "Constraints:\n",
        "\n",
        "1 <= s.length <= 100\n",
        "s consists of printable ASCII characters."
      ],
      "metadata": {
        "id": "LsFbNo1Tt11-"
      }
    },
    {
      "cell_type": "code",
      "source": [
        "class Solution(object):\n",
        "    def toLowerCase(self, s):\n",
        "        return s.lower()\n",
        "\n",
        "s=input()\n",
        "print(Solution().toLowerCase(s))"
      ],
      "metadata": {
        "colab": {
          "base_uri": "https://localhost:8080/"
        },
        "id": "Ju1Au2b7uDke",
        "outputId": "e09dd667-47ff-4c47-d7e5-a9b138294f16"
      },
      "execution_count": 10,
      "outputs": [
        {
          "output_type": "stream",
          "name": "stdout",
          "text": [
            "EEE\n",
            "eee\n"
          ]
        }
      ]
    }
  ]
}
