{
  "nbformat": 4,
  "nbformat_minor": 0,
  "metadata": {
    "colab": {
      "provenance": []
    },
    "kernelspec": {
      "name": "python3",
      "display_name": "Python 3"
    },
    "language_info": {
      "name": "python"
    }
  },
  "cells": [
    {
      "cell_type": "markdown",
      "source": [
        "# **STRING MANIPULATION**\n",
        "# Haritha P V\n",
        "(MST03-0058)\n",
        "\n",
        "June (week 2)"
      ],
      "metadata": {
        "id": "lkvy_-WGsFn2"
      }
    },
    {
      "cell_type": "markdown",
      "source": [
        "# 1. Python program to check whether the string is palindrome or not.\n"
      ],
      "metadata": {
        "id": "3Fa2VxrKsKex"
      }
    },
    {
      "cell_type": "code",
      "source": [
        "def is_palindrome(s):\n",
        "  s=s.lower()\n",
        "  return s==s[::-1]\n",
        "s=input()\n",
        "if is_palindrome(s):\n",
        "  print(\"The string is a palindrome\")\n",
        "else:\n",
        "  print(\"The string is not a palindrome\")\n"
      ],
      "metadata": {
        "colab": {
          "base_uri": "https://localhost:8080/"
        },
        "id": "SJfPd2c6wvAd",
        "outputId": "a01e29e7-9ed9-4f0c-e262-39ba6970f8a5"
      },
      "execution_count": 11,
      "outputs": [
        {
          "output_type": "stream",
          "name": "stdout",
          "text": [
            "ded\n",
            "The string is a palindrome\n"
          ]
        }
      ]
    },
    {
      "cell_type": "markdown",
      "source": [
        "# 2. Count the number of D's in a string inputted by the user. This will be case insensitive."
      ],
      "metadata": {
        "id": "O1_s955IujsW"
      }
    },
    {
      "cell_type": "code",
      "source": [
        "#store user input in variable\n",
        "user_string= 'Debris was scattered all over the place in the denset region of Denmark'\n",
        "\n",
        "#store the count of D\n",
        "D_counts=user_string.upper().count('D')\n",
        "\n",
        "#printing the result\n",
        "print(f\"The total occurance of D in the user string is {D_counts}\")\n"
      ],
      "metadata": {
        "colab": {
          "base_uri": "https://localhost:8080/"
        },
        "id": "ZTwNSCVMvKJd",
        "outputId": "0c266630-bb3c-46e4-96b7-288ab18b23fa"
      },
      "execution_count": 5,
      "outputs": [
        {
          "output_type": "stream",
          "name": "stdout",
          "text": [
            "The total occurance of D in the user string is 4\n"
          ]
        }
      ]
    },
    {
      "cell_type": "markdown",
      "source": [
        "# 3.Python program to print even length words in a string."
      ],
      "metadata": {
        "id": "NkYVY-unvXuf"
      }
    },
    {
      "cell_type": "code",
      "source": [
        "def printWords(s):\n",
        "\n",
        "    # split the string\n",
        "    s = s.split(' ')\n",
        "\n",
        "    # iterate in words of string\n",
        "    for word in s:\n",
        "\n",
        "        # if length is even\n",
        "        if len(word)%2==0:\n",
        "            print(word)\n",
        "\n",
        "\n",
        "# Driver Code\n",
        "s = \"she is good and all ok \"\n",
        "printWords(s)"
      ],
      "metadata": {
        "colab": {
          "base_uri": "https://localhost:8080/"
        },
        "id": "5eglcjOHyw6U",
        "outputId": "99397442-4501-46a1-eec9-4e59e7ab2261"
      },
      "execution_count": 12,
      "outputs": [
        {
          "output_type": "stream",
          "name": "stdout",
          "text": [
            "is\n",
            "good\n",
            "ok\n",
            "\n"
          ]
        }
      ]
    },
    {
      "cell_type": "markdown",
      "source": [
        "# 4.Python program to capitalize the first and last character of each word in a string"
      ],
      "metadata": {
        "id": "28Y5Q-qdzL4W"
      }
    },
    {
      "cell_type": "code",
      "source": [
        "s = \"python is an interpreted, object-oriented, high-level programming language\"\n",
        "print(\"String before:\", s)\n",
        "a = s.split()\n",
        "res = []\n",
        "for i in a:\n",
        "    x = i[0].upper()+i[1:-1]+i[-1].upper()\n",
        "    res.append(x)\n",
        "res = \" \".join(res)\n",
        "print(\"String after:\", res)"
      ],
      "metadata": {
        "colab": {
          "base_uri": "https://localhost:8080/"
        },
        "id": "4k4dzmKIzbol",
        "outputId": "77fa7117-a686-4275-a7cd-102817bebe24"
      },
      "execution_count": 13,
      "outputs": [
        {
          "output_type": "stream",
          "name": "stdout",
          "text": [
            "String before: python is an interpreted, object-oriented, high-level programming language\n",
            "String after: PythoN IS AN Interpreted, Object-oriented, High-leveL ProgramminG LanguagE\n"
          ]
        }
      ]
    },
    {
      "cell_type": "markdown",
      "source": [
        "# 5.Split String on vowels"
      ],
      "metadata": {
        "id": "3J_PRIes0379"
      }
    },
    {
      "cell_type": "code",
      "source": [
        "test_str = 'qwsertyposdafg'\n",
        "\n",
        "# printing original string\n",
        "print(\"The original string is : \" + str(test_str))\n",
        "\n",
        "# splitting on vowels\n",
        "vow=\"aeiouAEIOU\"\n",
        "for i in test_str:\n",
        "    if i in vow:\n",
        "        test_str=test_str.replace(i,\"*\")\n",
        "res=test_str.split(\"*\")\n",
        "\n",
        "# printing result\n",
        "print(\"The splitted string : \" + str(res))"
      ],
      "metadata": {
        "colab": {
          "base_uri": "https://localhost:8080/"
        },
        "id": "Z2q-0geW03gL",
        "outputId": "9eb877bf-3463-4e24-8dcf-5a3b5a47e430"
      },
      "execution_count": 14,
      "outputs": [
        {
          "output_type": "stream",
          "name": "stdout",
          "text": [
            "The original string is : qwsertyposdafg\n",
            "The splitted string : ['qws', 'rtyp', 'sd', 'fg']\n"
          ]
        }
      ]
    }
  ]
}