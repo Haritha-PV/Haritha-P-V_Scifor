{
  "nbformat": 4,
  "nbformat_minor": 0,
  "metadata": {
    "colab": {
      "provenance": []
    },
    "kernelspec": {
      "name": "python3",
      "display_name": "Python 3"
    },
    "language_info": {
      "name": "python"
    }
  },
  "cells": [
    {
      "cell_type": "markdown",
      "source": [
        "# **Encapsulation**"
      ],
      "metadata": {
        "id": "yKBQH4Y4b9-2"
      }
    },
    {
      "cell_type": "markdown",
      "source": [
        "Wrapping up of data into single unit\n",
        "\n",
        "Public: Accessible from outside the class.\n",
        "\n",
        "Private: Accessible only within the class.\n",
        "\n",
        "Benifits:Data hiding,Flexebility,Resusability"
      ],
      "metadata": {
        "id": "iWUWhIMklp01"
      }
    },
    {
      "cell_type": "markdown",
      "source": [
        "**Practice 1**"
      ],
      "metadata": {
        "id": "78Ssp3TZuE0D"
      }
    },
    {
      "cell_type": "code",
      "execution_count": 1,
      "metadata": {
        "colab": {
          "base_uri": "https://localhost:8080/"
        },
        "id": "40LF8mcAb9Ux",
        "outputId": "4de3ccd2-2cc7-402d-a294-8528088bd71e"
      },
      "outputs": [
        {
          "output_type": "stream",
          "name": "stdout",
          "text": [
            "x5\n",
            "bmw\n",
            "2022\n"
          ]
        }
      ],
      "source": [
        "class Car:\n",
        "  def __init__(self,brand,model,year):\n",
        "    self.__brand=brand # encapsulated with double underscore- making private\n",
        "    self.model=model\n",
        "    self.year=year\n",
        "\n",
        "  def get_brand(self): #public method to acess private attribute\n",
        "    return self.__brand\n",
        "\n",
        "  def accelerate(self): #method\n",
        "    print(f'the {self.model} is accelerating')\n",
        "\n",
        "\n",
        "#create a car object\n",
        "my_car=Car('bmw','x5',2022)\n",
        "\n",
        "#access public attribute\n",
        "print(my_car.model) #output:model\n",
        "\n",
        "print(my_car.get_brand()) #output:bmw\n",
        "\n",
        "print(my_car.year)"
      ]
    },
    {
      "cell_type": "code",
      "source": [
        "my_car.accelerate()"
      ],
      "metadata": {
        "colab": {
          "base_uri": "https://localhost:8080/"
        },
        "id": "m2tFXCOKnW2m",
        "outputId": "a6005430-4b6d-4fef-eb31-a28bce68954f"
      },
      "execution_count": 27,
      "outputs": [
        {
          "output_type": "stream",
          "name": "stdout",
          "text": [
            "the x5 is accelerating\n"
          ]
        }
      ]
    },
    {
      "cell_type": "markdown",
      "source": [
        "**Practice 2**"
      ],
      "metadata": {
        "id": "vi911zRRt8ZM"
      }
    },
    {
      "cell_type": "code",
      "source": [
        "class Student:\n",
        "  def __init__(self,name,rollno,age):\n",
        "    #Initializes the instance variables. name is public, __age is private, and rollno.\n",
        "    self.name=name #public instance variable\n",
        "    self.__age=age  #private\n",
        "    self.rollno=rollno\n",
        "\n",
        "  def get_age(self):    #public method to acess private attribute\n",
        "    return self.__age\n",
        "\n",
        "  def height(self,height): #method\n",
        "    print(f'the height of {self.name} is {height}')\n",
        "\n",
        "\n",
        "  def set_age(self,new_age):\n",
        "    if new_age>30:\n",
        "      self.__age=new_age\n",
        "    else:\n",
        "      print('invalid age')\n",
        "\n",
        "s1=Student('John',101,20)\n",
        "print(s1.get_age())\n",
        "s1.set_age(25)\n",
        "#print(s1.get_age())"
      ],
      "metadata": {
        "colab": {
          "base_uri": "https://localhost:8080/"
        },
        "id": "PnEfVQqSj_89",
        "outputId": "91d55612-3e85-40e8-a76d-226e7d129e06"
      },
      "execution_count": 23,
      "outputs": [
        {
          "output_type": "stream",
          "name": "stdout",
          "text": [
            "20\n",
            "invalid age\n"
          ]
        }
      ]
    },
    {
      "cell_type": "code",
      "source": [
        "s1.height(180) #calling method"
      ],
      "metadata": {
        "colab": {
          "base_uri": "https://localhost:8080/"
        },
        "id": "9uEiX8i5sFj6",
        "outputId": "20cdf6ce-e32d-40b6-b409-f1bd5152ec63"
      },
      "execution_count": 26,
      "outputs": [
        {
          "output_type": "stream",
          "name": "stdout",
          "text": [
            "the height of John is 180\n"
          ]
        }
      ]
    }
  ]
}