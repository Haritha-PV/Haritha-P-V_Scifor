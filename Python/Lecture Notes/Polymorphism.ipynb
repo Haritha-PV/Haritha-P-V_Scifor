{
  "nbformat": 4,
  "nbformat_minor": 0,
  "metadata": {
    "colab": {
      "provenance": []
    },
    "kernelspec": {
      "name": "python3",
      "display_name": "Python 3"
    },
    "language_info": {
      "name": "python"
    }
  },
  "cells": [
    {
      "cell_type": "markdown",
      "source": [
        "# **04-06-2024**"
      ],
      "metadata": {
        "id": "q1xnxsUEplgN"
      }
    },
    {
      "cell_type": "markdown",
      "source": [
        "# **Polymorphism**\n",
        "\n",
        "many forms\n",
        "\n",
        "only single function we are having is 'addition', but it exhibit many forms. in first giving addition , in second concatination of two string.\n"
      ],
      "metadata": {
        "id": "36SUv0zCddaw"
      }
    },
    {
      "cell_type": "code",
      "source": [
        "def addition(a,b):\n",
        "  s=a+b\n",
        "  return s\n"
      ],
      "metadata": {
        "id": "9onxhwSSYg7n"
      },
      "execution_count": 1,
      "outputs": []
    },
    {
      "cell_type": "code",
      "execution_count": 2,
      "metadata": {
        "colab": {
          "base_uri": "https://localhost:8080/"
        },
        "id": "yn13rCiFQvJz",
        "outputId": "d903a8eb-1efa-4721-a254-486ea7d27696"
      },
      "outputs": [
        {
          "output_type": "execute_result",
          "data": {
            "text/plain": [
              "15"
            ]
          },
          "metadata": {},
          "execution_count": 2
        }
      ],
      "source": [
        "addition(10,5)"
      ]
    },
    {
      "cell_type": "code",
      "source": [
        "addition('ml','python')"
      ],
      "metadata": {
        "colab": {
          "base_uri": "https://localhost:8080/",
          "height": 36
        },
        "id": "YEjgZ2IO7AVe",
        "outputId": "baea3c3c-02c1-401b-fde5-e92ae4668454"
      },
      "execution_count": 3,
      "outputs": [
        {
          "output_type": "execute_result",
          "data": {
            "text/plain": [
              "'mlpython'"
            ],
            "application/vnd.google.colaboratory.intrinsic+json": {
              "type": "string"
            }
          },
          "metadata": {},
          "execution_count": 3
        }
      ]
    },
    {
      "cell_type": "code",
      "source": [
        "#another example\n",
        "\n",
        "class Animal:\n",
        "  def make_sound(self):\n",
        "    print(\"Generic animal sound\")\n",
        "\n",
        "class Dog(Animal):   #subclass \"dog\" inheriting from Animal\n",
        "  def make_sound(self):\n",
        "    print('woof')\n",
        "\n",
        "class Cat(Animal):\n",
        "  def make_sound(self):\n",
        "    print('meow')\n",
        "\n",
        "def speak(animal):#animal is object ,speak is a method\n",
        "  animal.make_sound() #polymorphic object\n",
        "\n",
        "#single function giving different output for different class\n",
        "#We have one parent class Animal,sub class dog and cow, each with a make_sound method.\n",
        "#The speak function takes an animal object and calls its make_sound method.\n",
        "\n",
        "\n",
        "#create animal objects\n",
        "\n",
        "dog=Dog()\n",
        "cat=Cat()\n",
        "\n",
        "speak(dog)\n",
        "speak(cat)\n",
        "\n"
      ],
      "metadata": {
        "colab": {
          "base_uri": "https://localhost:8080/"
        },
        "id": "PjD0KsWNk3jQ",
        "outputId": "62cfaa79-6f8f-497d-be99-61006d0a2353"
      },
      "execution_count": null,
      "outputs": [
        {
          "output_type": "stream",
          "name": "stdout",
          "text": [
            "woof\n",
            "meow\n"
          ]
        }
      ]
    }
  ]
}