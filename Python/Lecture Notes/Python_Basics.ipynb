{
  "nbformat": 4,
  "nbformat_minor": 0,
  "metadata": {
    "colab": {
      "provenance": []
    },
    "kernelspec": {
      "name": "python3",
      "display_name": "Python 3"
    },
    "language_info": {
      "name": "python"
    }
  },
  "cells": [
    {
      "cell_type": "markdown",
      "source": [
        "# **30-05-2024**"
      ],
      "metadata": {
        "id": "R5kPKbXLj42B"
      }
    },
    {
      "cell_type": "markdown",
      "source": [
        "# **Variable**\n",
        "\n",
        "\n"
      ],
      "metadata": {
        "id": "Kcm96Ka2kJZf"
      }
    },
    {
      "cell_type": "code",
      "source": [
        "message =\"Hello world\"\n",
        "print(message)"
      ],
      "metadata": {
        "colab": {
          "base_uri": "https://localhost:8080/"
        },
        "id": "X9i7bLV-kHvC",
        "outputId": "f63292d7-9b73-461a-96f4-337a22836feb"
      },
      "execution_count": null,
      "outputs": [
        {
          "output_type": "stream",
          "name": "stdout",
          "text": [
            "Hello world\n"
          ]
        }
      ]
    },
    {
      "cell_type": "markdown",
      "source": [
        "# **Data Types**"
      ],
      "metadata": {
        "id": "tj5zqmfWknZ_"
      }
    },
    {
      "cell_type": "markdown",
      "source": [
        "Integer= 1,2,3..\n",
        "\n",
        "Float= 0.1,0.2,..\n",
        "\n",
        "Character= a,p,c...\n",
        "\n",
        "String= 'python','news'\n",
        "\n",
        "Boolean=True or False, 0 or 1"
      ],
      "metadata": {
        "id": "dkPoN7v-lnYK"
      }
    },
    {
      "cell_type": "markdown",
      "source": [
        "# **CONDITIONAL STATEMENTS**"
      ],
      "metadata": {
        "id": "poeioKWBmJm0"
      }
    },
    {
      "cell_type": "markdown",
      "source": [
        "# **If else**"
      ],
      "metadata": {
        "id": "d9QkTjLwmNNW"
      }
    },
    {
      "cell_type": "code",
      "source": [
        "i=20\n",
        "if i>10:\n",
        "    print(\"i is greater than 10\")\n",
        "else:\n",
        "    print(\"i is less than 10\")\n"
      ],
      "metadata": {
        "colab": {
          "base_uri": "https://localhost:8080/"
        },
        "id": "_2W4k3rIkmJP",
        "outputId": "9528c348-e4a8-47c9-ffb0-9e5543bbc17e"
      },
      "execution_count": null,
      "outputs": [
        {
          "output_type": "stream",
          "name": "stdout",
          "text": [
            "i is greater than 10\n"
          ]
        }
      ]
    },
    {
      "cell_type": "markdown",
      "source": [
        "# **Nested if**"
      ],
      "metadata": {
        "id": "-QGDysgomp6M"
      }
    },
    {
      "cell_type": "code",
      "source": [
        "value=100\n",
        "if value>10:\n",
        "    if value<100:\n",
        "        print(\"value is greater than 10 and less than 100\")\n",
        "if value==100:\n",
        "        print(\"value is equal to 100\")"
      ],
      "metadata": {
        "colab": {
          "base_uri": "https://localhost:8080/"
        },
        "id": "JDVDtg7cmxY5",
        "outputId": "7f1017e8-f052-440b-fd95-349915540ff4"
      },
      "execution_count": null,
      "outputs": [
        {
          "output_type": "stream",
          "name": "stdout",
          "text": [
            "value is equal to 100\n"
          ]
        }
      ]
    },
    {
      "cell_type": "markdown",
      "source": [
        "# **Switch case**"
      ],
      "metadata": {
        "id": "3wrUpV6eohXt"
      }
    },
    {
      "cell_type": "code",
      "source": [
        "def number(a):\n",
        "  match a:\n",
        "    case 1:\n",
        "      print(\"one\")\n",
        "    case 2:\n",
        "      print(\"two\")\n",
        "    case 3:\n",
        "      print(\"three\")\n",
        "    case _:\n",
        "      print(\"invalid\")\n",
        "number(3)"
      ],
      "metadata": {
        "colab": {
          "base_uri": "https://localhost:8080/"
        },
        "id": "0PITsn_-ola6",
        "outputId": "41632210-6e27-4a86-9612-9f5f6aa53244"
      },
      "execution_count": 19,
      "outputs": [
        {
          "output_type": "stream",
          "name": "stdout",
          "text": [
            "three\n"
          ]
        }
      ]
    },
    {
      "cell_type": "markdown",
      "source": [
        "# **FUNCTIONS**"
      ],
      "metadata": {
        "id": "gLWKUZ-OncAk"
      }
    },
    {
      "cell_type": "markdown",
      "source": [
        "Helps to reuse the same piece of code again and again\n",
        "Used in oops,class,objects."
      ],
      "metadata": {
        "id": "7WfYFCVDn4tC"
      }
    },
    {
      "cell_type": "code",
      "source": [
        "def greet():\n",
        "    print(\"Hello\")\n",
        "    print(\"Welcome\")\n",
        "greet()\n",
        "greet()"
      ],
      "metadata": {
        "colab": {
          "base_uri": "https://localhost:8080/"
        },
        "id": "_D7ZnplGm1VM",
        "outputId": "5ee3e759-e65d-4b25-ee18-840aad26b882"
      },
      "execution_count": null,
      "outputs": [
        {
          "output_type": "stream",
          "name": "stdout",
          "text": [
            "Hello\n",
            "Welcome\n",
            "Hello\n",
            "Welcome\n"
          ]
        }
      ]
    },
    {
      "cell_type": "code",
      "source": [
        "def function(a,b):\n",
        "  avearge=(a+b)/2\n",
        "  print(avearge)\n",
        "function(10,20)"
      ],
      "metadata": {
        "colab": {
          "base_uri": "https://localhost:8080/"
        },
        "id": "PxL1N5bYmpJ4",
        "outputId": "a94d2598-3e75-4946-c248-69b576f405f1"
      },
      "execution_count": null,
      "outputs": [
        {
          "output_type": "stream",
          "name": "stdout",
          "text": [
            "15.0\n"
          ]
        }
      ]
    },
    {
      "cell_type": "markdown",
      "source": [
        "# **31-05-2024**\n"
      ],
      "metadata": {
        "id": "yLzOVV8-KADq"
      }
    },
    {
      "cell_type": "markdown",
      "source": [
        "# **LOOPS**\n",
        "\n",
        "for loop\n",
        "\n",
        "do while\n",
        "\n",
        "while loop\n"
      ],
      "metadata": {
        "id": "fnop3FGLtfV_"
      }
    },
    {
      "cell_type": "markdown",
      "source": [
        "# **For loop**"
      ],
      "metadata": {
        "id": "jXusPTodKLov"
      }
    },
    {
      "cell_type": "code",
      "source": [
        "#for loop\n",
        "for i in range(1,11):\n",
        "  print(i)"
      ],
      "metadata": {
        "colab": {
          "base_uri": "https://localhost:8080/"
        },
        "id": "xHMv97Ybtm2s",
        "outputId": "119c9981-d4e4-4b2c-bce2-baa83e271878"
      },
      "execution_count": null,
      "outputs": [
        {
          "output_type": "stream",
          "name": "stdout",
          "text": [
            "1\n",
            "2\n",
            "3\n",
            "4\n",
            "5\n",
            "6\n",
            "7\n",
            "8\n",
            "9\n",
            "10\n"
          ]
        }
      ]
    },
    {
      "cell_type": "code",
      "source": [
        "for i in range(1,10,2):\n",
        "\n",
        "  print(i)"
      ],
      "metadata": {
        "colab": {
          "base_uri": "https://localhost:8080/"
        },
        "id": "UQO11HN1rmet",
        "outputId": "ae330d9e-4435-43c8-f0d0-e79c364a6067"
      },
      "execution_count": null,
      "outputs": [
        {
          "output_type": "stream",
          "name": "stdout",
          "text": [
            "1\n",
            "3\n",
            "5\n",
            "7\n",
            "9\n"
          ]
        }
      ]
    },
    {
      "cell_type": "code",
      "source": [
        "l=['python','ML','AI']\n",
        "for i in l:\n",
        "  print(i)"
      ],
      "metadata": {
        "colab": {
          "base_uri": "https://localhost:8080/"
        },
        "id": "CDz8kM8FuBas",
        "outputId": "6e05aed6-c96b-4c80-e12d-3d0daa64754d"
      },
      "execution_count": null,
      "outputs": [
        {
          "output_type": "stream",
          "name": "stdout",
          "text": [
            "python\n",
            "ML\n",
            "AI\n"
          ]
        }
      ]
    },
    {
      "cell_type": "markdown",
      "source": [
        "# **While loop**"
      ],
      "metadata": {
        "id": "xUUBOfSwuekE"
      }
    },
    {
      "cell_type": "code",
      "source": [
        "i=1\n",
        "while i<=10:\n",
        "  print(i)\n",
        "  i=i+1"
      ],
      "metadata": {
        "colab": {
          "base_uri": "https://localhost:8080/"
        },
        "id": "VhrlpnR2ueL0",
        "outputId": "2af13f57-75bc-4fd2-c99e-f13492820568"
      },
      "execution_count": null,
      "outputs": [
        {
          "output_type": "stream",
          "name": "stdout",
          "text": [
            "1\n",
            "2\n",
            "3\n",
            "4\n",
            "5\n",
            "6\n",
            "7\n",
            "8\n",
            "9\n",
            "10\n"
          ]
        }
      ]
    },
    {
      "cell_type": "markdown",
      "source": [
        "it excecutes as long as the condition is true\n",
        "\n",
        "no. of iteration is not known to us"
      ],
      "metadata": {
        "id": "HvCeeSCUujjc"
      }
    },
    {
      "cell_type": "markdown",
      "source": [
        "# **Do while loop**"
      ],
      "metadata": {
        "id": "kpVsmU8PrpCD"
      }
    },
    {
      "cell_type": "code",
      "source": [
        "i=1\n",
        "while True:\n",
        "  print(i)\n",
        "  i=i+1\n",
        "  if i>5:\n",
        "    break"
      ],
      "metadata": {
        "colab": {
          "base_uri": "https://localhost:8080/"
        },
        "id": "eFQYIVyzvMzc",
        "outputId": "57c3e2d0-a41d-4885-be7c-183951d86a6e"
      },
      "execution_count": null,
      "outputs": [
        {
          "output_type": "stream",
          "name": "stdout",
          "text": [
            "1\n",
            "2\n",
            "3\n",
            "4\n",
            "5\n"
          ]
        }
      ]
    },
    {
      "cell_type": "markdown",
      "source": [
        "loop body executes atleast once before checking the condition"
      ],
      "metadata": {
        "id": "HQIRQ5MUHG8u"
      }
    },
    {
      "cell_type": "code",
      "source": [
        "while True:\n",
        "  user_input=input(\"enter a number\")\n",
        "  if user_input.isdigit():\n",
        "    number=int(user_input)\n",
        "    if number>0:\n",
        "     break\n",
        "  else:\n",
        "    print(\"invalid input\")"
      ],
      "metadata": {
        "id": "wRHafQkQrpgG",
        "colab": {
          "base_uri": "https://localhost:8080/"
        },
        "outputId": "1bca59f0-3875-4437-ab4a-a6566deec62c"
      },
      "execution_count": 9,
      "outputs": [
        {
          "name": "stdout",
          "output_type": "stream",
          "text": [
            "enter a number-4\n",
            "invalid input\n",
            "enter a number7\n"
          ]
        }
      ]
    },
    {
      "cell_type": "markdown",
      "source": [
        "# **Typecast- one data type to another**"
      ],
      "metadata": {
        "id": "_TdFRtxTJLS3"
      }
    },
    {
      "cell_type": "code",
      "source": [
        "y='10'\n",
        "print(type(y))\n",
        "x=int(y)\n",
        "print(type(x))"
      ],
      "metadata": {
        "colab": {
          "base_uri": "https://localhost:8080/"
        },
        "id": "QMqhUzL_JJtU",
        "outputId": "e59d5790-ac88-4e30-b386-b91b8df9533b"
      },
      "execution_count": 10,
      "outputs": [
        {
          "output_type": "stream",
          "name": "stdout",
          "text": [
            "<class 'str'>\n",
            "<class 'int'>\n"
          ]
        }
      ]
    },
    {
      "cell_type": "code",
      "source": [
        "y='25a'\n",
        "y.isdigit()"
      ],
      "metadata": {
        "colab": {
          "base_uri": "https://localhost:8080/"
        },
        "id": "nH_Ot2pcJYhO",
        "outputId": "684635f8-8b4a-47b9-ce11-b36cd1e5f3a6"
      },
      "execution_count": 11,
      "outputs": [
        {
          "output_type": "execute_result",
          "data": {
            "text/plain": [
              "False"
            ]
          },
          "metadata": {},
          "execution_count": 11
        }
      ]
    },
    {
      "cell_type": "code",
      "source": [
        "y=30\n",
        "y=str(y)\n",
        "print(type(y))"
      ],
      "metadata": {
        "colab": {
          "base_uri": "https://localhost:8080/"
        },
        "id": "wnQ-PIWIJgf7",
        "outputId": "f9ad5b17-298a-49a1-f084-25b527aaa1fd"
      },
      "execution_count": 12,
      "outputs": [
        {
          "output_type": "stream",
          "name": "stdout",
          "text": [
            "<class 'str'>\n"
          ]
        }
      ]
    },
    {
      "cell_type": "code",
      "source": [
        "y=30\n",
        "y.isdigit()3# cannot be used on integer"
      ],
      "metadata": {
        "colab": {
          "base_uri": "https://localhost:8080/",
          "height": 165
        },
        "id": "N5bOqON_JmQd",
        "outputId": "7f5ad83e-cc6a-436d-d725-f4d2a0adaa55"
      },
      "execution_count": 13,
      "outputs": [
        {
          "output_type": "error",
          "ename": "AttributeError",
          "evalue": "'int' object has no attribute 'isdigit'",
          "traceback": [
            "\u001b[0;31m---------------------------------------------------------------------------\u001b[0m",
            "\u001b[0;31mAttributeError\u001b[0m                            Traceback (most recent call last)",
            "\u001b[0;32m<ipython-input-13-b2c5b95e2dd8>\u001b[0m in \u001b[0;36m<cell line: 2>\u001b[0;34m()\u001b[0m\n\u001b[1;32m      1\u001b[0m \u001b[0my\u001b[0m\u001b[0;34m=\u001b[0m\u001b[0;36m30\u001b[0m\u001b[0;34m\u001b[0m\u001b[0;34m\u001b[0m\u001b[0m\n\u001b[0;32m----> 2\u001b[0;31m \u001b[0my\u001b[0m\u001b[0;34m.\u001b[0m\u001b[0misdigit\u001b[0m\u001b[0;34m(\u001b[0m\u001b[0;34m)\u001b[0m\u001b[0;34m\u001b[0m\u001b[0;34m\u001b[0m\u001b[0m\n\u001b[0m",
            "\u001b[0;31mAttributeError\u001b[0m: 'int' object has no attribute 'isdigit'"
          ]
        }
      ]
    },
    {
      "cell_type": "code",
      "source": [
        "y=str(30)\n",
        "print(type(y) )\n",
        "y.isdigit()\n"
      ],
      "metadata": {
        "colab": {
          "base_uri": "https://localhost:8080/"
        },
        "id": "SVvPLRqxJsQ-",
        "outputId": "801b9140-1911-4575-9627-41a64ddc4ee2"
      },
      "execution_count": 17,
      "outputs": [
        {
          "output_type": "stream",
          "name": "stdout",
          "text": [
            "<class 'str'>\n"
          ]
        },
        {
          "output_type": "execute_result",
          "data": {
            "text/plain": [
              "True"
            ]
          },
          "metadata": {},
          "execution_count": 17
        }
      ]
    }
  ]
}