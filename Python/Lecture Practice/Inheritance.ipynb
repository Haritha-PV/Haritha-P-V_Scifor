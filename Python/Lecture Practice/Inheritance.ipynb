{
  "nbformat": 4,
  "nbformat_minor": 0,
  "metadata": {
    "colab": {
      "provenance": []
    },
    "kernelspec": {
      "name": "python3",
      "display_name": "Python 3"
    },
    "language_info": {
      "name": "python"
    }
  },
  "cells": [
    {
      "cell_type": "markdown",
      "source": [
        "# **06-06-2024**"
      ],
      "metadata": {
        "id": "e2Az_BCa8kGc"
      }
    },
    {
      "cell_type": "markdown",
      "source": [
        "# **INHERITANCE**"
      ],
      "metadata": {
        "id": "kqzkU62tqyoQ"
      }
    },
    {
      "cell_type": "markdown",
      "source": [
        "Inheritance is pillar of oops,through which we are having characteristics of parent class and existing unique characteristic of child/sub class.\n",
        "\n",
        "eg:\n",
        "Class India\n",
        "subclass different state\n",
        "\n",
        "Inheriting features from parents"
      ],
      "metadata": {
        "id": "_xyVKWtrrGkZ"
      }
    },
    {
      "cell_type": "code",
      "source": [
        "class Human:\n",
        "  def eat(self):\n",
        "    print(\"eating\")\n",
        "  def sleep(self):\n",
        "    print(\"sleeping\")\n",
        "class Male(Human):\n",
        "  pass\n",
        "male=Male()\n",
        "male.eat()\n",
        "male.sleep()"
      ],
      "metadata": {
        "colab": {
          "base_uri": "https://localhost:8080/"
        },
        "id": "qGmSj9-GngVS",
        "outputId": "d18ccab6-052f-44cc-97df-3ab4f0787e21"
      },
      "execution_count": null,
      "outputs": [
        {
          "output_type": "stream",
          "name": "stdout",
          "text": [
            "eating\n",
            "sleeping\n"
          ]
        }
      ]
    },
    {
      "cell_type": "code",
      "source": [
        "class Animal:\n",
        "  def make_sound(self):\n",
        "    print(\"making_sound\")\n",
        "\n",
        "class Dog(Animal):\n",
        "  def make_sound(self):\n",
        "    print(\"woof\")\n",
        "\n",
        "class Cat(Dog):\n",
        "  def make_sound(self):\n",
        "    print(\"meow\")\n",
        "\n",
        "dog=Dog()\n",
        "cat=Cat()\n",
        "a=Animal()\n",
        "dog.make_sound()\n",
        "cat.make_sound()\n",
        "a.make_sound()"
      ],
      "metadata": {
        "colab": {
          "base_uri": "https://localhost:8080/"
        },
        "outputId": "3ff517db-fe3d-41ab-a1a7-0bfa49ef15b9",
        "id": "5jVL2FxX-8l2"
      },
      "execution_count": null,
      "outputs": [
        {
          "output_type": "stream",
          "name": "stdout",
          "text": [
            "woof\n",
            "meow\n",
            "making_sound\n"
          ]
        }
      ]
    },
    {
      "cell_type": "markdown",
      "source": [
        "Levels of inheritance(categories)\n",
        "1. Single-level: one child class and one parent class\n",
        "2. Multi-level:child class act as parent class for another child class\n",
        "3. Multiple level:more than one parent class\n",
        "4. Hybrid:combining more than one type of inheritance\n",
        "5. Hierarchial: parent class is inherited by many subclasses"
      ],
      "metadata": {
        "id": "13Oh5N0Hr65k"
      }
    },
    {
      "cell_type": "markdown",
      "source": [
        "# **Single level inheritance**"
      ],
      "metadata": {
        "id": "OgzO-xRN0wzk"
      }
    },
    {
      "cell_type": "code",
      "source": [
        "\n",
        "#base class\n",
        "class Animal:\n",
        "  def speak(self): #speak method\n",
        "    print(\"Speaking\")\n",
        "\n",
        "#derived class\n",
        "class Dog(Animal):\n",
        "  def bark(self): #bark method\n",
        "    print(\"Barking\")\n",
        "\n",
        "#create an instance of dog\n",
        "dog=Dog()\n",
        "dog.speak()   #inherited method\n",
        "dog.bark()    #method of dog class"
      ],
      "metadata": {
        "colab": {
          "base_uri": "https://localhost:8080/"
        },
        "id": "DNojHN6Kz5DL",
        "outputId": "f7b24036-2271-4663-d3dc-74c34472acbd"
      },
      "execution_count": null,
      "outputs": [
        {
          "output_type": "stream",
          "name": "stdout",
          "text": [
            "Speaking\n",
            "Barking\n"
          ]
        }
      ]
    },
    {
      "cell_type": "markdown",
      "source": [
        "# **Multi level inheritance**"
      ],
      "metadata": {
        "id": "nlKHfO_81IYC"
      }
    },
    {
      "cell_type": "code",
      "source": [
        "#it act as chain\n",
        "#child class have another subclass\n",
        "#animal-dog-puppy"
      ],
      "metadata": {
        "id": "WR7_LUi91M1p"
      },
      "execution_count": null,
      "outputs": []
    },
    {
      "cell_type": "code",
      "source": [
        "class Animal:\n",
        "    def make_sound(self):\n",
        "        return \"making_sound\"\n",
        "\n",
        "class Dog(Animal):\n",
        "    def make_sound(self):\n",
        "        return \"woof\"\n",
        "\n",
        "class Cat(Animal):\n",
        "    def make_sound(self):\n",
        "        return \"meow\"\n",
        "\n",
        "# Create instances of Dog and Cat\n",
        "dog = Dog()\n",
        "cat = Cat()\n",
        "\n",
        "# Print the output of the make_sound method on each instance\n",
        "print(dog.make_sound())  # Output: \"woof\"\n",
        "print(cat.make_sound())  # Output: \"meow\"\n"
      ],
      "metadata": {
        "colab": {
          "base_uri": "https://localhost:8080/"
        },
        "id": "mc42GRJZE0ow",
        "outputId": "5850ae1b-2209-4393-d1ef-1a5ca1fdcd64"
      },
      "execution_count": null,
      "outputs": [
        {
          "output_type": "stream",
          "name": "stdout",
          "text": [
            "woof\n",
            "meow\n"
          ]
        }
      ]
    },
    {
      "cell_type": "markdown",
      "source": [
        "# **Multiple level**"
      ],
      "metadata": {
        "id": "7EuQRjqC7qxq"
      }
    },
    {
      "cell_type": "code",
      "source": [
        "class Father:\n",
        "  def skills(self):\n",
        "    print(\"Father's skills\")\n",
        "\n",
        "class Mother:\n",
        "  def skills(self):\n",
        "    print(\"Mother's skills\")\n",
        "\n",
        "class Child(Father,Mother):#child,father,mother\n",
        "  def skills(self):\n",
        "    super().skills()#calls the first class in the MRO(Method Resolution Oder)\n",
        "    print(\"child's skills\")\n",
        "\n",
        "#create an instance of child\n",
        "child=Child()\n",
        "father=Father()\n",
        "mother=Mother()\n",
        "child.skills()#childs skills method\n",
        "father.skills()#fathers skills method\n",
        "mother.skills()#mothers skills method"
      ],
      "metadata": {
        "colab": {
          "base_uri": "https://localhost:8080/"
        },
        "id": "k_mq0JlN7uIE",
        "outputId": "88a06c94-99e2-425a-a91e-97490f1383e1"
      },
      "execution_count": null,
      "outputs": [
        {
          "output_type": "stream",
          "name": "stdout",
          "text": [
            "Father's skills\n",
            "child's skills\n",
            "Father's skills\n",
            "Mother's skills\n"
          ]
        }
      ]
    },
    {
      "cell_type": "markdown",
      "source": [
        "# **11-06-24**"
      ],
      "metadata": {
        "id": "H_dzWQn6o-EF"
      }
    },
    {
      "cell_type": "markdown",
      "source": [
        "# **Hierarchial Inheritance**"
      ],
      "metadata": {
        "id": "vdEuf1o_FNUm"
      }
    },
    {
      "cell_type": "markdown",
      "source": [
        "Arrangement according to level.\n",
        "\n",
        "Multiple derived child class Inherited from single parent class.\n",
        "\n",
        "Each child class has its own properties and methods.\n",
        "\n",
        "Animal-parent class\n",
        "\n",
        "dog and cat-child class"
      ],
      "metadata": {
        "id": "qFteRX6MF7yF"
      }
    },
    {
      "cell_type": "code",
      "source": [
        "#base class\n",
        "class Animal:\n",
        "  def speak(self):\n",
        "    print(\"Speaking\")\n",
        "\n",
        "#derived class1\n",
        "class Dog(Animal):\n",
        "  def bark(self):\n",
        "    print(\"Barking\")\n",
        "\n",
        "#derived class2\n",
        "class Cat(Animal):\n",
        "  def meow(self):\n",
        "    print(\"Meowing\")\n",
        "\n",
        "#create an instance of dog\n",
        "dog=Dog()\n",
        "cat=Cat()\n",
        "\n",
        "dog.speak()  #inherited method\n",
        "dog.bark()   #method of dog class\n",
        "\n",
        "cat.speak()  #inherited method\n",
        "cat.meow()   #method of cat class"
      ],
      "metadata": {
        "colab": {
          "base_uri": "https://localhost:8080/"
        },
        "id": "vf4LaSMGFTq6",
        "outputId": "3f865871-5a81-4425-8ce0-d81e97160a79"
      },
      "execution_count": null,
      "outputs": [
        {
          "output_type": "stream",
          "name": "stdout",
          "text": [
            "Speaking\n",
            "Barking\n",
            "Speaking\n",
            "Meowing\n"
          ]
        }
      ]
    },
    {
      "cell_type": "markdown",
      "source": [
        "# **12-06-24**"
      ],
      "metadata": {
        "id": "yfRYyPldpGp-"
      }
    },
    {
      "cell_type": "markdown",
      "source": [
        "# **Hybrid Inheritance**"
      ],
      "metadata": {
        "id": "mCp7Q8GwpMy8"
      }
    },
    {
      "cell_type": "markdown",
      "source": [
        "combination of multiple and multi level inheritance"
      ],
      "metadata": {
        "id": "4HI-AKT9p5lh"
      }
    },
    {
      "cell_type": "code",
      "source": [
        "#Base class\n",
        "class Animal:\n",
        "  def __init__(self,name):\n",
        "    self.name=name\n",
        "\n",
        "  def speak(self):\n",
        "    print(f\"{self.name} make a sound\")\n",
        "\n",
        "#single inheritance\n",
        "class Dog(Animal):\n",
        "  def speak(self):\n",
        "    print(f\"{self.name} says woof!\")\n",
        "\n",
        "#multilevel inheritance\n",
        "class Puppy(Dog):\n",
        "  def speak(self):\n",
        "    print(f\"{self.name} says yip!\")\n",
        "\n",
        "#another base class\n",
        "class Bird:\n",
        "  def __init__(self,name):\n",
        "    self.name=name\n",
        "\n",
        "  def fly(self):\n",
        "     print(f\"{self.name} is flying\")\n",
        "\n",
        "\n",
        "#multiple inheritance\n",
        "#flyingdog is a parent class inherited from dog and bird\n",
        "class Flyingdog(Dog,Bird):\n",
        "  def __init__(self,name):\n",
        "    Dog. __init__(self,name)\n",
        "    Bird. __init__(self,name)\n",
        "\n",
        "  def speak(self):\n",
        "    Dog.speak(self)\n",
        "    Bird.fly(self)\n",
        "\n",
        "\n",
        "#hybrid inheritance\n",
        "\n",
        "class Flyingpuppy(Puppy,Bird):\n",
        "  def __init__(self,name):\n",
        "    Puppy. __init__(self,name)\n",
        "    Bird. __init__(self,name)\n",
        "\n",
        "  def speak(self):\n",
        "    Puppy.speak(self)\n",
        "    Bird.fly(self)\n",
        "\n",
        "dog=Dog('buddy')\n",
        "puppy=Puppy('fluffy')\n",
        "flyingdog = Flyingdog('Sky')\n",
        "flyingpuppy = Flyingpuppy('Tiny')\n",
        "\n",
        "dog.speak()\n",
        "puppy.speak()\n",
        "flyingdog.speak()\n",
        "flyingpuppy.speak()\n",
        "\n",
        "\n",
        "\n",
        "\n"
      ],
      "metadata": {
        "colab": {
          "base_uri": "https://localhost:8080/"
        },
        "id": "NmNXkbmIqC_F",
        "outputId": "cdbb3dca-1f93-4b66-9258-94badce1f401"
      },
      "execution_count": 8,
      "outputs": [
        {
          "output_type": "stream",
          "name": "stdout",
          "text": [
            "buddy says woof!\n",
            "fluffy says yip!\n",
            "Sky says woof!\n",
            "Sky is flying\n",
            "Tiny says yip!\n",
            "Tiny is flying\n"
          ]
        }
      ]
    }
  ]
}