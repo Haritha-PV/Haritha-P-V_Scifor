{
  "nbformat": 4,
  "nbformat_minor": 0,
  "metadata": {
    "colab": {
      "provenance": []
    },
    "kernelspec": {
      "name": "python3",
      "display_name": "Python 3"
    },
    "language_info": {
      "name": "python"
    }
  },
  "cells": [
    {
      "cell_type": "markdown",
      "source": [
        "# **03-06-2024**"
      ],
      "metadata": {
        "id": "qWidB-j7QwG8"
      }
    },
    {
      "cell_type": "markdown",
      "source": [
        "# **OOPS**"
      ],
      "metadata": {
        "id": "DRHNHG5AQ0BC"
      }
    },
    {
      "cell_type": "markdown",
      "source": [
        "can divide into certain module\n",
        "\n",
        "features:\n",
        "\n",
        "encapsulation\n",
        "\n",
        "abstraction\n",
        "\n",
        "inheritance\n",
        "\n",
        "polymorphism"
      ],
      "metadata": {
        "id": "u38p6ZvtYFfY"
      }
    },
    {
      "cell_type": "markdown",
      "source": [
        "# **objects and classes**:\n",
        "objects are subset of class\n",
        "\n",
        "eg: class name- birds,colours\n",
        "\n",
        "peacock is a object in bird class.\n"
      ],
      "metadata": {
        "id": "4TDZu4RJYioD"
      }
    },
    {
      "cell_type": "markdown",
      "source": [
        "# **Method**\n",
        "class name:car\n",
        "object1:ferrari\n",
        "object2:thar\n",
        "\n",
        "methods are actions to trigger functionality of class(not function)\n",
        "like:\n",
        "speed of car\n",
        "milege\n",
        "fuel type\n",
        "\n",
        "for methods we need a class\n"
      ],
      "metadata": {
        "id": "YCj7kM2Kbsa1"
      }
    },
    {
      "cell_type": "markdown",
      "source": [
        "# **Encapsulation**\n",
        "\n",
        "makes data secure\n"
      ],
      "metadata": {
        "id": "Dr780XlmfFpp"
      }
    },
    {
      "cell_type": "code",
      "source": [
        "class Car:\n",
        "  def __init__(self,brand,model,year):\n",
        "    self.__brand=brand # encapsulated with double underscore- making private\n",
        "    self.model=model\n",
        "    self.year=year\n",
        "\n",
        "  def get_brand(self): #public method to acess private attribute\n",
        "    return self.__brand\n",
        "\n",
        "  def accelerate(self):\n",
        "    print(f'the {self.model} is accelerating')\n",
        "\n",
        "\n",
        "    #create a car object\n",
        "my_car=Car('bmw','x5',2022)\n",
        "\n",
        "#access public attribute\n",
        "print(my_car.model) #output:model\n",
        "\n",
        "print(my_car.get_brand()) #output:bmw\n",
        "\n",
        "print(my_car.year)\n",
        "\n"
      ],
      "metadata": {
        "colab": {
          "base_uri": "https://localhost:8080/"
        },
        "id": "VZTyHz22hEuH",
        "outputId": "dee8ff1b-d4d2-4c0b-c6e4-36c6c4c8c3ad"
      },
      "execution_count": null,
      "outputs": [
        {
          "output_type": "stream",
          "name": "stdout",
          "text": [
            "x5\n",
            "bmw\n",
            "2022\n"
          ]
        }
      ]
    },
    {
      "cell_type": "code",
      "source": [
        "print(my_car.accelerate()) #The accelerate method prints the acceleration message but does not return any value, so it implicitly returns None."
      ],
      "metadata": {
        "colab": {
          "base_uri": "https://localhost:8080/"
        },
        "id": "5fOjcAD4lMRq",
        "outputId": "9e1f7e11-c555-4606-8553-96b8838b59d3"
      },
      "execution_count": null,
      "outputs": [
        {
          "output_type": "stream",
          "name": "stdout",
          "text": [
            "the x5 is accelerating\n",
            "None\n"
          ]
        }
      ]
    },
    {
      "cell_type": "code",
      "source": [
        "my_car.accelerate"
      ],
      "metadata": {
        "colab": {
          "base_uri": "https://localhost:8080/",
          "height": 104
        },
        "id": "tc-ABsKcmKyK",
        "outputId": "b2923bc5-439b-46c9-a244-1cd60cea62da"
      },
      "execution_count": null,
      "outputs": [
        {
          "output_type": "execute_result",
          "data": {
            "text/plain": [
              "<bound method Car.accelerate of <__main__.Car object at 0x795044445780>>"
            ],
            "text/html": [
              "<div style=\"max-width:800px; border: 1px solid var(--colab-border-color);\"><style>\n",
              "      pre.function-repr-contents {\n",
              "        overflow-x: auto;\n",
              "        padding: 8px 12px;\n",
              "        max-height: 500px;\n",
              "      }\n",
              "\n",
              "      pre.function-repr-contents.function-repr-contents-collapsed {\n",
              "        cursor: pointer;\n",
              "        max-height: 100px;\n",
              "      }\n",
              "    </style>\n",
              "    <pre style=\"white-space: initial; background:\n",
              "         var(--colab-secondary-surface-color); padding: 8px 12px;\n",
              "         border-bottom: 1px solid var(--colab-border-color);\"><b>Car.accelerate</b><br/>def accelerate()</pre><pre class=\"function-repr-contents function-repr-contents-collapsed\" style=\"\"><a class=\"filepath\" style=\"display:none\" href=\"#\">/content/&lt;ipython-input-14-c9ed3105facb&gt;</a>&lt;no docstring&gt;</pre></div>"
            ]
          },
          "metadata": {},
          "execution_count": 23
        }
      ]
    },
    {
      "cell_type": "code",
      "source": [
        "my_car.accelerate()"
      ],
      "metadata": {
        "colab": {
          "base_uri": "https://localhost:8080/"
        },
        "id": "m2tFXCOKnW2m",
        "outputId": "ebfdf5b3-5b9b-4c4a-8af0-e6c22662357d"
      },
      "execution_count": null,
      "outputs": [
        {
          "output_type": "stream",
          "name": "stdout",
          "text": [
            "the x5 is accelerating\n"
          ]
        }
      ]
    },
    {
      "cell_type": "code",
      "source": [
        "my_car.model"
      ],
      "metadata": {
        "colab": {
          "base_uri": "https://localhost:8080/",
          "height": 36
        },
        "id": "NQd2Tm2InADj",
        "outputId": "d6f61017-8f88-4a16-9b4b-441d71935d85"
      },
      "execution_count": null,
      "outputs": [
        {
          "output_type": "execute_result",
          "data": {
            "text/plain": [
              "'x5'"
            ],
            "application/vnd.google.colaboratory.intrinsic+json": {
              "type": "string"
            }
          },
          "metadata": {},
          "execution_count": 22
        }
      ]
    }
  ]
}
