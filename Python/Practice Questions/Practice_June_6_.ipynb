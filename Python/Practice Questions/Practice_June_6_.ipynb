{
  "nbformat": 4,
  "nbformat_minor": 0,
  "metadata": {
    "colab": {
      "provenance": []
    },
    "kernelspec": {
      "name": "python3",
      "display_name": "Python 3"
    },
    "language_info": {
      "name": "python"
    }
  },
  "cells": [
    {
      "cell_type": "markdown",
      "source": [
        "# **Practice section of 06-06-2024**"
      ],
      "metadata": {
        "id": "LIhqANB8krAC"
      }
    },
    {
      "cell_type": "markdown",
      "source": [
        "# 1. Code on polymorphism"
      ],
      "metadata": {
        "id": "_ITBXNrhti-2"
      }
    },
    {
      "cell_type": "code",
      "execution_count": 9,
      "metadata": {
        "id": "c_SeQoR0sIQd",
        "colab": {
          "base_uri": "https://localhost:8080/"
        },
        "outputId": "6c676019-7463-4079-ad79-eb06c2fc4e49"
      },
      "outputs": [
        {
          "output_type": "stream",
          "name": "stdout",
          "text": [
            "I am a crow\n",
            "I am a duck\n"
          ]
        }
      ],
      "source": [
        "class Bird:\n",
        "    def fly(self):\n",
        "      print('Flyning')\n",
        "\n",
        "class Crow(Bird):\n",
        "    def fly(self):\n",
        "      print('I am a crow')\n",
        "\n",
        "class Duck(Bird):\n",
        "    def fly(self):\n",
        "      print('I am a duck')\n",
        "\n",
        "def birdsflying(status):\n",
        "    status.fly()\n",
        "\n",
        "crow=Crow()\n",
        "duck=Duck()\n",
        "\n",
        "birdsflying(crow)\n",
        "birdsflying(duck)\n"
      ]
    },
    {
      "cell_type": "markdown",
      "source": [
        "# 2. Code in encapsulation"
      ],
      "metadata": {
        "id": "sU_lbFB7wY1p"
      }
    },
    {
      "cell_type": "code",
      "source": [
        "class Student:\n",
        "  def __init__(self,age,name):\n",
        "    self.__age=age\n",
        "    self.name=name\n",
        "\n",
        "  def get_age(self):\n",
        "    return self.__age\n",
        "\n",
        "s1=Student(23,'John')\n",
        "print(s1.get_age())\n",
        "print(s1.name)"
      ],
      "metadata": {
        "colab": {
          "base_uri": "https://localhost:8080/"
        },
        "id": "6yAduwOCwYnR",
        "outputId": "17673c27-0924-4c01-d9e9-99ef7a5b827d"
      },
      "execution_count": 18,
      "outputs": [
        {
          "output_type": "stream",
          "name": "stdout",
          "text": [
            "23\n",
            "John\n"
          ]
        }
      ]
    },
    {
      "cell_type": "markdown",
      "source": [
        "# 3. Find the factorial of a number by giving input we need.\n"
      ],
      "metadata": {
        "id": "7rx9u9d210E5"
      }
    },
    {
      "cell_type": "code",
      "source": [
        "def factorial(n):\n",
        "  if n==0:\n",
        "    return 1\n",
        "  else:\n",
        "    return n*factorial(n-1)\n",
        "\n",
        "num=int(input('Enter a number: '))\n",
        "print(factorial(num))"
      ],
      "metadata": {
        "colab": {
          "base_uri": "https://localhost:8080/"
        },
        "id": "QG0jUEdS1zsS",
        "outputId": "683927c5-f9e6-4724-e6c8-b6c2281c0684"
      },
      "execution_count": 17,
      "outputs": [
        {
          "output_type": "stream",
          "name": "stdout",
          "text": [
            "Enter a number: 5\n",
            "120\n"
          ]
        }
      ]
    },
    {
      "cell_type": "markdown",
      "source": [
        "# 4.Write a function to reverse the list [2, 3,4]."
      ],
      "metadata": {
        "id": "T1sVAl0A272r"
      }
    },
    {
      "cell_type": "code",
      "source": [
        "def reverse_list(list):\n",
        "  return list[::-1]\n",
        "\n",
        "list=[2,3,4]\n",
        "print(reverse_list(list))"
      ],
      "metadata": {
        "colab": {
          "base_uri": "https://localhost:8080/"
        },
        "id": "b8d6UtnS3O_o",
        "outputId": "8a0b948d-1f59-4274-ca0f-00f56b9d4a51"
      },
      "execution_count": 19,
      "outputs": [
        {
          "output_type": "stream",
          "name": "stdout",
          "text": [
            "[4, 3, 2]\n"
          ]
        }
      ]
    },
    {
      "cell_type": "markdown",
      "source": [
        "# 5.Create a calculator using switch case"
      ],
      "metadata": {
        "id": "jAWn7dBT3oCf"
      }
    },
    {
      "cell_type": "code",
      "source": [
        "def operation():\n",
        " num1 = int(input(\"Enter your number1: \"))\n",
        " num2 = int(input(\"Enter your number2: \"))\n",
        " option = int(input(\"Enter your option(1-Addition, 2-Subtraction, 3-Multiplication, 4-Division, 5-Module):\"))\n",
        " match option:\n",
        "        case 1:\n",
        "           result= num1+num2\n",
        "\n",
        "        case 2:\n",
        "            result= num1-num2\n",
        "\n",
        "        case 3:\n",
        "            result= num1*num2\n",
        "\n",
        "        case 4:\n",
        "            if num2 == 0:\n",
        "                return \"Error: Division by zero\"\n",
        "            result= num1/num2\n",
        "\n",
        "        case 5:\n",
        "            result= num1%num2\n",
        "\n",
        "        case _:\n",
        "            result ='invalid'\n",
        "\n",
        " return f\"The result is: {result}\"\n"
      ],
      "metadata": {
        "id": "fTR1_EIo-WRU"
      },
      "execution_count": 7,
      "outputs": []
    },
    {
      "cell_type": "code",
      "source": [
        "print(operation())"
      ],
      "metadata": {
        "colab": {
          "base_uri": "https://localhost:8080/"
        },
        "id": "3Myjsx1T-afg",
        "outputId": "4d31b0d1-68b3-43fa-880c-284a577e1510"
      },
      "execution_count": 11,
      "outputs": [
        {
          "output_type": "stream",
          "name": "stdout",
          "text": [
            "Enter your number1: 4\n",
            "Enter your number2: 5\n",
            "Enter your option(1-Addition, 2-Subtraction, 3-Multiplication, 4-Division, 5-Module):1\n",
            "The result is: 9\n"
          ]
        }
      ]
    },
    {
      "cell_type": "markdown",
      "source": [
        "# 6. Write a code on python by using a function, search for position of 3 in a list and also add a number and print updated list [2,3,4,5]"
      ],
      "metadata": {
        "id": "sEp23o4ajlc1"
      }
    },
    {
      "cell_type": "code",
      "source": [
        "def search_and_add(input_list, number_to_add):\n",
        "\n",
        "    if 3 in input_list:\n",
        "        position_of_3 = input_list.index(3)\n",
        "        print(f\"The position of 3 in the list is: {position_of_3}\")\n",
        "    else:\n",
        "        print(\"The number 3 is not in the list.\")\n",
        "\n",
        "    # Add the specified number to the list\n",
        "    input_list.append(number_to_add)\n",
        "\n",
        "    # Print the updated list\n",
        "    print(\"Updated list:\", input_list)\n",
        "\n",
        "my_list = [2, 3, 4, 5]\n",
        "number_to_add = 6\n",
        "search_and_add(my_list, number_to_add)\n"
      ],
      "metadata": {
        "colab": {
          "base_uri": "https://localhost:8080/"
        },
        "id": "9ZvLL7TvkVIH",
        "outputId": "7a5d1e58-efc1-410b-b72c-102fc61f5734"
      },
      "execution_count": 1,
      "outputs": [
        {
          "output_type": "stream",
          "name": "stdout",
          "text": [
            "The position of 3 in the list is: 1\n",
            "Updated list: [2, 3, 4, 5, 6]\n"
          ]
        }
      ]
    }
  ]
}