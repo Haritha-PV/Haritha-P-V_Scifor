{
  "nbformat": 4,
  "nbformat_minor": 0,
  "metadata": {
    "colab": {
      "provenance": []
    },
    "kernelspec": {
      "name": "python3",
      "display_name": "Python 3"
    },
    "language_info": {
      "name": "python"
    }
  },
  "cells": [
    {
      "cell_type": "markdown",
      "source": [
        "*Use case of Oops*\n",
        "You have to make a Bank class which have two case executing 1. Withdrawal 2. Deposit\n",
        "And the Edge case will be ATM  Pin Verification\n",
        "In details\n",
        "Once your ATM pin will get verified then only you can withdrawal and it also shows withdrawal amount as well existing balance\n",
        "And same goes for second case, after verification of pin your deposition of amount take place it should show deposited amount and existing balance after deposit take place\n",
        "And if you encounter incorrect pin then your program should give the output invalid pin"
      ],
      "metadata": {
        "id": "T--mvIyNLK2f"
      }
    },
    {
      "cell_type": "code",
      "source": [
        "class Bank:\n",
        "    def __init__(self, pin, balance):\n",
        "        self.pin = pin\n",
        "        self.balance = balance\n",
        "\n",
        "    def verify_pin(self, pin_entered):\n",
        "        return pin_entered == self.pin\n",
        "\n",
        "    def withdraw_money(self, amount, pin_entered):\n",
        "        if not self.verify_pin(pin_entered):\n",
        "            return \"Invalid pin\"\n",
        "        if amount > self.balance:\n",
        "            return \"Insufficient funds\"\n",
        "        self.balance -= amount\n",
        "        return f\"Withdrawal amount: {amount}, Existing balance: {self.balance}\"\n",
        "\n",
        "    def deposit_money(self, amount, pin_entered):\n",
        "        if not self.verify_pin(pin_entered):\n",
        "            return \"Invalid pin\"\n",
        "        self.balance += amount\n",
        "        return f\"Deposited amount: {amount}, Existing balance: {self.balance}\"\n",
        "\n",
        "# bank account with ATM pin '1234' and initial balance of 10000\n",
        "bank_account = Bank('1111', 10000)\n",
        "\n",
        "#  withdrawal\n",
        "enter_pin = input(\"Enter your pin to withdraw: \")\n",
        "enter_amount = int(input(\"Enter amount to withdraw: \"))\n",
        "print(bank_account.withdraw_money(enter_amount, enter_pin))\n",
        "\n",
        "#  deposit\n",
        "enter_pin = input(\"Enter your pin to deposit: \")\n",
        "enter_amount = int(input(\"Enter amount to deposit: \"))\n",
        "print(bank_account.deposit_money(enter_amount, enter_pin))\n"
      ],
      "metadata": {
        "colab": {
          "base_uri": "https://localhost:8080/"
        },
        "id": "b8JeXUhkRbP9",
        "outputId": "dea795d6-7082-42f4-bf53-fe083a11672d"
      },
      "execution_count": 20,
      "outputs": [
        {
          "output_type": "stream",
          "name": "stdout",
          "text": [
            "Enter your pin to withdraw: 1111\n",
            "Enter amount to withdraw: 1000\n",
            "Withdrawal amount: 1000, Existing balance: 9000\n",
            "Enter your pin to deposit: 1111\n",
            "Enter amount to deposit: 1001\n",
            "Deposited amount: 1001, Existing balance: 10001\n"
          ]
        }
      ]
    },
    {
      "cell_type": "code",
      "source": [
        "bank_account.balance"
      ],
      "metadata": {
        "colab": {
          "base_uri": "https://localhost:8080/"
        },
        "id": "slcJ8SeMTYH1",
        "outputId": "ad580d02-c67e-4cd1-bc40-1085c61b2079"
      },
      "execution_count": 21,
      "outputs": [
        {
          "output_type": "execute_result",
          "data": {
            "text/plain": [
              "10001"
            ]
          },
          "metadata": {},
          "execution_count": 21
        }
      ]
    }
  ]
}