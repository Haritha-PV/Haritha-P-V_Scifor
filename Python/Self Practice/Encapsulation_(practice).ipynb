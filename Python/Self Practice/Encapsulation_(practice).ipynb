{
  "nbformat": 4,
  "nbformat_minor": 0,
  "metadata": {
    "colab": {
      "provenance": []
    },
    "kernelspec": {
      "name": "python3",
      "display_name": "Python 3"
    },
    "language_info": {
      "name": "python"
    }
  },
  "cells": [
    {
      "cell_type": "code",
      "source": [
        "class Student:\n",
        "  def __init__(self,name,rollno,age):\n",
        "    self.name=name #public instance variable\n",
        "    self._age=age  #protected instance variable\n",
        "    self.__rollno=rollno #private\n",
        "\n",
        "  def __display(self): #private method -it can only be accessed within the class. It prints the details of the student.\n",
        "    print(f'name:{self.name},rollno:{self.__rollno},age:{self._age}') #private method\n",
        "\n",
        "  def display_info(self):  #public method-It can be accessed outside the class and is used to call the private method __display.\n",
        "    self.__display()\n",
        "\n",
        "s1=Student('John',101,20)\n",
        "#Calling s1.display_info() will invoke the private method and print\n",
        "s1.display_info()\n"
      ],
      "metadata": {
        "colab": {
          "base_uri": "https://localhost:8080/"
        },
        "id": "6tcmBI5lh2zH",
        "outputId": "517e8d4b-5ae1-4c0f-d0a2-358ab0f98cbf"
      },
      "execution_count": null,
      "outputs": [
        {
          "output_type": "stream",
          "name": "stdout",
          "text": [
            "name:John,rollno:101,age:20\n"
          ]
        }
      ]
    },
    {
      "cell_type": "code",
      "source": [
        "s1._Student__display() #using name mangling calling display"
      ],
      "metadata": {
        "colab": {
          "base_uri": "https://localhost:8080/"
        },
        "id": "SHtLFq9DihLf",
        "outputId": "42bbf4ab-ef99-4d31-ff6f-51984c89e05a"
      },
      "execution_count": null,
      "outputs": [
        {
          "output_type": "stream",
          "name": "stdout",
          "text": [
            "name:John,rollno:101,age:20\n"
          ]
        }
      ]
    },
    {
      "cell_type": "code",
      "source": [
        "print(s1._Student__rollno)"
      ],
      "metadata": {
        "colab": {
          "base_uri": "https://localhost:8080/"
        },
        "id": "DVxyQbdPjdQl",
        "outputId": "ffb00c01-a225-4e5b-c65c-97dec51c80ab"
      },
      "execution_count": null,
      "outputs": [
        {
          "output_type": "stream",
          "name": "stdout",
          "text": [
            "101\n"
          ]
        }
      ]
    }
  ]
}