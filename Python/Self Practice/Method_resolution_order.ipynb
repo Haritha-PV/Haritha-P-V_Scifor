{
  "nbformat": 4,
  "nbformat_minor": 0,
  "metadata": {
    "colab": {
      "provenance": []
    },
    "kernelspec": {
      "name": "python3",
      "display_name": "Python 3"
    },
    "language_info": {
      "name": "python"
    }
  },
  "cells": [
    {
      "cell_type": "code",
      "execution_count": null,
      "metadata": {
        "colab": {
          "base_uri": "https://localhost:8080/"
        },
        "id": "M9-js6Dp-TqZ",
        "outputId": "0fd41d5d-000e-4ef3-f322-31523856bcc9"
      },
      "outputs": [
        {
          "output_type": "stream",
          "name": "stdout",
          "text": [
            "eating\n",
            "walking\n",
            "2\n",
            "1\n",
            "eating\n",
            "running\n"
          ]
        }
      ],
      "source": [
        "#Using super\n",
        "class Human:\n",
        "  def __init__(self):\n",
        "    self.num_eyes=2\n",
        "    self.num_nose=1\n",
        "  def eat(self):\n",
        "    print('eating')\n",
        "  def sleep(self):\n",
        "    print('sleeping')\n",
        "\n",
        "class Male(Human):\n",
        "  def walk(self):\n",
        "    super().eat()\n",
        "    print('walking')\n",
        "  def run(self):\n",
        "    super().eat()\n",
        "    print('running')\n",
        "\n",
        "male=Male()\n",
        "male.walk()\n",
        "print(male.num_eyes)\n",
        "print(male.num_nose)\n",
        "male.run()\n"
      ]
    },
    {
      "cell_type": "code",
      "source": [
        "#Multiple level inheritance\n",
        "class Human:\n",
        "  def eat(self):\n",
        "    print('eating')\n",
        "  def sleep(self):\n",
        "    print('sleeping')\n",
        "\n",
        "class Male:\n",
        "  def walk(self):\n",
        "    print('walking')\n",
        "  def sleep(self):\n",
        "    print('not sleeping')\n",
        "\n",
        "class Boy(Male,Human):\n",
        "  def run(self):\n",
        "    print('running')\n",
        "  def sleep(self):\n",
        "    super().sleep()     #from male(not sleeping) and from boy(feeling sleepy)\n",
        "    print('feeling sleepy')\n",
        "\n",
        "boy=Boy()\n",
        "boy.run()\n",
        "boy.sleep()\n",
        "print(Boy.mro()) # it is a function, showing the order"
      ],
      "metadata": {
        "colab": {
          "base_uri": "https://localhost:8080/"
        },
        "id": "KYIm8qYcEPi5",
        "outputId": "294ec197-4231-4e94-a6bc-26e7d6decffd"
      },
      "execution_count": null,
      "outputs": [
        {
          "output_type": "stream",
          "name": "stdout",
          "text": [
            "running\n",
            "not sleeping\n",
            "feeling sleepy\n",
            "[<class '__main__.Boy'>, <class '__main__.Male'>, <class '__main__.Human'>, <class 'object'>]\n"
          ]
        }
      ]
    },
    {
      "cell_type": "code",
      "source": [
        "#Multiple level inheritance\n",
        "class Human:\n",
        "  def __init__(self, num_heart):\n",
        "    print('calling from human')\n",
        "    self.num_heart=num_heart\n",
        "    self.num_nose=1\n",
        "    self.num_eyes=2\n",
        "  def eat(self):\n",
        "    print('eating')\n",
        "  def sleep(self):\n",
        "    print('sleeping')\n",
        "\n",
        "class Male:\n",
        "  def __init__(self,name):\n",
        "    print('calling from male')\n",
        "    self.name=name\n",
        "  def walk(self):\n",
        "    print('walking')\n",
        "  def sleep(self):\n",
        "    print('not sleeping')\n",
        "\n",
        "class Boy(Male,Human):\n",
        "  def __init__(self,name1,heart,age):\n",
        "    Human.__init__(self,heart)\n",
        "    Male.__init__(self,name1)\n",
        "  def run(self):\n",
        "    print('running')\n",
        "  def sleep(self):\n",
        "    print('feeling sleepy')\n",
        "\n",
        "\n",
        "boy=Boy('raj',1,22)\n",
        "boy.run()\n",
        "boy.sleep()\n",
        "print(Boy.mro())\n",
        "print(boy.num_heart)\n",
        "print(boy.num_eyes)\n",
        "print(boy.num_nose)\n",
        "print(boy.name)\n",
        "boy.walk()\n",
        "Male.sleep(boy)\n",
        "Human.sleep(boy)\n",
        "\n"
      ],
      "metadata": {
        "colab": {
          "base_uri": "https://localhost:8080/"
        },
        "id": "M8MwHuO5SX_5",
        "outputId": "728567ef-196e-4241-a51a-85d0a847d4f0"
      },
      "execution_count": null,
      "outputs": [
        {
          "output_type": "stream",
          "name": "stdout",
          "text": [
            "calling from human\n",
            "calling from male\n",
            "running\n",
            "feeling sleepy\n",
            "[<class '__main__.Boy'>, <class '__main__.Male'>, <class '__main__.Human'>, <class 'object'>]\n",
            "1\n",
            "2\n",
            "1\n",
            "raj\n",
            "walking\n",
            "not sleeping\n",
            "sleeping\n"
          ]
        }
      ]
    },
    {
      "cell_type": "code",
      "source": [
        "#Multiple level inheritance\n",
        "class Human:\n",
        "  def __init__(self, num_heart):\n",
        "    print('calling from human')\n",
        "    self.num_heart=num_heart\n",
        "    self.num_nose=1\n",
        "    self.num_eyes=2\n",
        "  def eat(self):\n",
        "    print('eating')\n",
        "  def sleep(self):\n",
        "    print('sleeping')\n",
        "\n",
        "class Male:\n",
        "  def __init__(self,name):\n",
        "    print('calling from male')\n",
        "    self.name='Rahul'\n",
        "  def walk(self):\n",
        "    print('walking')\n",
        "  def sleep(self):\n",
        "    print('not sleeping')\n",
        "\n",
        "class Boy(Male,Human):\n",
        "  def __init__(self,name1,heart,age):\n",
        "    Human.__init__(self,heart)\n",
        "    #Male.__init__(self,name1)\n",
        "  def run(self):\n",
        "    print('running')\n",
        "  def sleep(self):\n",
        "    print('feeling sleepy')\n",
        "\n",
        "boy=Boy('raj',1,22)\n",
        "boy.run()   #class Boy\n",
        "boy.sleep()    # Class Boy\n",
        "print(Boy.mro())    #order\n",
        "print(boy.num_heart)    #class Human\n",
        "print(boy.num_eyes)     # class Human\n",
        "print(boy.num_nose)     #class Human\n",
        "#print(boy.name)\n",
        "\n",
        "boy.walk()               #class Male\n",
        "\n",
        "Male.sleep(boy)           #accessing male class with boy\n",
        "Human.sleep(boy)          #accessing Human class with boy\n",
        "print(male.name)\n",
        "male.sleep()              #accessing male class\n",
        "\n",
        "\n",
        "\n"
      ],
      "metadata": {
        "colab": {
          "base_uri": "https://localhost:8080/"
        },
        "outputId": "cb38835f-435e-497c-b219-a7e3cfbd13e8",
        "id": "78DJj73sWF66"
      },
      "execution_count": null,
      "outputs": [
        {
          "output_type": "stream",
          "name": "stdout",
          "text": [
            "calling from human\n",
            "running\n",
            "feeling sleepy\n",
            "[<class '__main__.Boy'>, <class '__main__.Male'>, <class '__main__.Human'>, <class 'object'>]\n",
            "1\n",
            "2\n",
            "1\n",
            "walking\n",
            "not sleeping\n",
            "sleeping\n",
            "Rahul\n",
            "not sleeping\n"
          ]
        }
      ]
    }
  ]
}