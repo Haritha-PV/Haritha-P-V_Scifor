{
  "nbformat": 4,
  "nbformat_minor": 0,
  "metadata": {
    "colab": {
      "provenance": []
    },
    "kernelspec": {
      "name": "python3",
      "display_name": "Python 3"
    },
    "language_info": {
      "name": "python"
    }
  },
  "cells": [
    {
      "cell_type": "code",
      "source": [
        "#Example 1\n",
        "\n",
        "class Shape:\n",
        "    def area(self):\n",
        "        pass  # Base class with no specific implementation\n",
        "\n",
        "class Rectangle(Shape):  # Subclass Rectangle of Shape\n",
        "    def __init__(self, width, height):\n",
        "        self.width = width\n",
        "        self.height = height\n",
        "\n",
        "    def area(self):\n",
        "        return self.width * self.height  # Specific implementation for Rectangle\n",
        "\n",
        "class Circle(Shape):  # Subclass Circle of Shape\n",
        "     def __init__(self, radius):\n",
        "        self.radius = radius\n",
        "\n",
        "     def area(self):\n",
        "        return (3.14)* self.radius ** 2  # Specific implementation for Circle\n",
        "\n",
        "def print_area(shape):  # Function that takes a Shape object\n",
        "    print(f\"The area is: {shape.area()}\")  # Calls the area method of the given shape object\n",
        "\n",
        "\n",
        "#the print_area function can operate on objects of different types (Rectangle and Circle),\n",
        "#and calls the appropriate area method for each type.\n",
        "\n",
        "\n",
        "# Creating shape objects\n",
        "rectangle = Rectangle(5, 10)\n",
        "circle = Circle(5)\n",
        "\n",
        "# Calling the print_area function with different shape objects\n",
        "print_area(rectangle)\n",
        "print_area(circle)\n"
      ],
      "metadata": {
        "colab": {
          "base_uri": "https://localhost:8080/"
        },
        "id": "tfw02t-9YQSL",
        "outputId": "d510c940-ae94-4aaa-9e03-48fe2523de17"
      },
      "execution_count": 4,
      "outputs": [
        {
          "output_type": "stream",
          "name": "stdout",
          "text": [
            "The area is: 50\n",
            "The area is: 78.5\n"
          ]
        }
      ]
    },
    {
      "cell_type": "code",
      "source": [
        "#example 2\n",
        "\n",
        "class Employee:\n",
        "    def get_salary(self):\n",
        "        pass\n",
        "\n",
        "class FullTimeEmployee(Employee):  # Subclass FullTimeEmployee inheriting from Employee\n",
        "    def __init__(self, annual_salary):\n",
        "        self.annual_salary = annual_salary\n",
        "\n",
        "    def get_salary(self):\n",
        "        return self.annual_salary\n",
        "\n",
        "class PartTimeEmployee(Employee):  # Subclass PartTimeEmployee inheriting from Employee\n",
        "    def __init__(self, hourly_wage, hours_worked):\n",
        "        self.hourly_wage = hourly_wage\n",
        "        self.hours_worked = hours_worked\n",
        "\n",
        "    def get_salary(self):\n",
        "        return self.hourly_wage * self.hours_worked\n",
        "\n",
        "def print_salary(employee):  # Function that takes an Employee object\n",
        "    print(f\"The salary is: {employee.get_salary()}\")  # Calls the get_salary method of the given employee object\n",
        "\n",
        "#the print_salary function can operate on objects of different types (FullTimeEmployee and PartTimeEmployee),\n",
        "# and calls the appropriate get_salary method for each type.\n",
        "\n",
        "# Creating employee objects\n",
        "full_time_employee = FullTimeEmployee(50000)\n",
        "part_time_employee = PartTimeEmployee(90, 150)\n",
        "\n",
        "# Calling the print_salary function with different employee objects\n",
        "print_salary(full_time_employee)\n",
        "print_salary(part_time_employee)\n"
      ],
      "metadata": {
        "colab": {
          "base_uri": "https://localhost:8080/"
        },
        "id": "bzLzZplqeWlx",
        "outputId": "758e4337-80e9-4c8c-acca-2123032984ec"
      },
      "execution_count": 7,
      "outputs": [
        {
          "output_type": "stream",
          "name": "stdout",
          "text": [
            "The salary is: 50000\n",
            "The salary is: 13500\n"
          ]
        }
      ]
    }
  ]
}