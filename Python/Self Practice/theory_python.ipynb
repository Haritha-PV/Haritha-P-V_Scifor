{
  "nbformat": 4,
  "nbformat_minor": 0,
  "metadata": {
    "colab": {
      "provenance": []
    },
    "kernelspec": {
      "name": "python3",
      "display_name": "Python 3"
    },
    "language_info": {
      "name": "python"
    }
  },
  "cells": [
    {
      "cell_type": "markdown",
      "source": [
        "**Objects**"
      ],
      "metadata": {
        "id": "mxnQ1HkNjyEn"
      }
    },
    {
      "cell_type": "markdown",
      "source": [
        " *   It represents an instance of the class and encapsulates both data (attributes) and behavior (methods). The term \"object\" emphasizes the actual entity that exists in memory during program execution.\n",
        "\n",
        " *   Focuses on the actual entity in memory."
      ],
      "metadata": {
        "id": "kPGYFKFPj2nC"
      }
    },
    {
      "cell_type": "markdown",
      "source": [
        "**Instance**"
      ],
      "metadata": {
        "id": "QPBru2xRyFfd"
      }
    },
    {
      "cell_type": "markdown",
      "source": [
        "*   An instance specifically refers to the realization of a class; it is a concrete occurrence of any object. The term \"instance\" highlights the relationship between the object and its class. When you create an object from a class, you are creating an instance of that class.\n",
        "\n",
        "*   Emphasizes the relationship to the class."
      ],
      "metadata": {
        "id": "WrtZLV-ryJgv"
      }
    },
    {
      "cell_type": "markdown",
      "source": [
        "**Attributes**"
      ],
      "metadata": {
        "id": "SO1XuOI2yepd"
      }
    },
    {
      "cell_type": "markdown",
      "source": [
        "*   Attributes store data relevant to the object.\n",
        "\n",
        "*   Attributes are defined within a class and are accessed through instances of the class (objects).\n",
        "\n",
        "*   Attributes can be of any data type (integer, string, list, another object, etc.)."
      ],
      "metadata": {
        "id": "iJassJhXyhqD"
      }
    },
    {
      "cell_type": "markdown",
      "source": [
        "**Methods**"
      ],
      "metadata": {
        "id": "4DAKwaNU7Izm"
      }
    },
    {
      "cell_type": "code",
      "source": [
        "class Sports:\n",
        "  def __init__ (self,sport_name,accessories):\n",
        "    self.sport_name=sport_name\n",
        "    self.accessories=accessories\n",
        "\n",
        "def display(self):\n",
        "  print(self.sport_name,self.accessories)\n",
        "\n",
        "def is_outdoor(sport_name):\n",
        "        outdoor_sports = ['cricket', 'hockey', 'football']\n",
        "        return sport_name in outdoor_sports\n",
        "\n",
        "sport1= Sports('cricket','bat')\n",
        "\n",
        "sport2=Sports('hockey','hockeystick')\n",
        "\n",
        "display(sport1)\n",
        "display(sport2)\n",
        "print(sport1.accessories)\n",
        "print(sport2.sport_name)\n",
        "print(is_outdoor(sport1.sport_name))"
      ],
      "metadata": {
        "colab": {
          "base_uri": "https://localhost:8080/"
        },
        "id": "BNx-fDoX2ENF",
        "outputId": "f5d0238d-8f65-46e5-aad0-f18faa606019"
      },
      "execution_count": null,
      "outputs": [
        {
          "output_type": "stream",
          "name": "stdout",
          "text": [
            "cricket bat\n",
            "hockey hockeystick\n",
            "bat\n",
            "hockey\n",
            "True\n"
          ]
        }
      ]
    },
    {
      "cell_type": "markdown",
      "source": [
        "Class: Sports\n",
        "\n",
        "Object: sport1 and sport2\n",
        "\n",
        "Instance: sport1 and sport are instance of Sports class (specific realizations of the Sports class)\n",
        "\n",
        "Attributes: sports_name and accessories(instance attribute)\n",
        "\n",
        "Method:is_outdoor\n"
      ],
      "metadata": {
        "id": "FbyyHee15Wz7"
      }
    },
    {
      "cell_type": "markdown",
      "source": [
        "**Conditional statements**"
      ],
      "metadata": {
        "id": "kZZbicJUfaxg"
      }
    },
    {
      "cell_type": "markdown",
      "source": [
        "*   Conditional statements (if, else, and elif) are fundamental programming constructs that allow you to control the flow of your program based on conditions that you specify.\n",
        "\n",
        "*   They provide a way to make decisions in your program and execute different code based on those decisions."
      ],
      "metadata": {
        "id": "xVSlwNuqGHtI"
      }
    },
    {
      "cell_type": "code",
      "source": [
        "age = int(input(\"Enter your age: \"))\n",
        "if age >= 18:\n",
        "    print(\"You are eligible to vote\")\n",
        "else:\n",
        "    print(\"You are not eligible to vote\")\n"
      ],
      "metadata": {
        "colab": {
          "base_uri": "https://localhost:8080/"
        },
        "id": "XKttt_9wGHKQ",
        "outputId": "fb1dce7d-6297-4f68-ec18-5dc2986471cf"
      },
      "execution_count": null,
      "outputs": [
        {
          "output_type": "stream",
          "name": "stdout",
          "text": [
            "Enter your age: 25\n",
            "You are eligible to vote\n"
          ]
        }
      ]
    },
    {
      "cell_type": "markdown",
      "source": [
        "**Decision making statement**"
      ],
      "metadata": {
        "id": "Mb8Qu6KTf1yv"
      }
    },
    {
      "cell_type": "markdown",
      "source": [
        "*   A decision-making statement in programming is used to make decisions based on certain conditions.\n",
        "\n",
        "*   They let programs decide what to do and run distinct code blocks according to predefined conditions."
      ],
      "metadata": {
        "id": "Zt51lPzhHR-r"
      }
    },
    {
      "cell_type": "code",
      "source": [
        "for i in range(10):\n",
        " if i % 2 == 0:\n",
        "  print(f\"{i} is even.\")\n",
        " else:\n",
        "  print(f\"{i} is odd.\")"
      ],
      "metadata": {
        "colab": {
          "base_uri": "https://localhost:8080/"
        },
        "id": "hmHCOd5yGvxH",
        "outputId": "546ddd5e-3f8e-477d-ae38-dea33272ad5c"
      },
      "execution_count": 7,
      "outputs": [
        {
          "output_type": "stream",
          "name": "stdout",
          "text": [
            "0 is even.\n",
            "1 is odd.\n",
            "2 is even.\n",
            "3 is odd.\n",
            "4 is even.\n",
            "5 is odd.\n",
            "6 is even.\n",
            "7 is odd.\n",
            "8 is even.\n",
            "9 is odd.\n"
          ]
        }
      ]
    },
    {
      "cell_type": "markdown",
      "source": [
        "**Functions in python**"
      ],
      "metadata": {
        "id": "3xik3dQ_gLV5"
      }
    },
    {
      "cell_type": "markdown",
      "source": [
        "Functions in Python are blocks of reusable code designed to perform a specific task.\n",
        "They enhance code modularity and readability.\n",
        " They are defined using the def keyword followed by the function name and parameters"
      ],
      "metadata": {
        "id": "foOFRGTsIPOI"
      }
    },
    {
      "cell_type": "code",
      "source": [
        "def function(a,b):\n",
        "  avearge=(a+b)/2\n",
        "  print(avearge)\n",
        "function(10,20)"
      ],
      "metadata": {
        "colab": {
          "base_uri": "https://localhost:8080/"
        },
        "id": "PxL1N5bYmpJ4",
        "outputId": "b47c7b7e-e4a9-40ec-d234-49be06a25455"
      },
      "execution_count": null,
      "outputs": [
        {
          "output_type": "stream",
          "name": "stdout",
          "text": [
            "15.0\n"
          ]
        }
      ]
    },
    {
      "cell_type": "markdown",
      "source": [
        "**Purpose of __init__ method in python**"
      ],
      "metadata": {
        "id": "xs3q0xijWaTI"
      }
    },
    {
      "cell_type": "markdown",
      "source": [
        "\n",
        "*   In Python class methods, when instance of a class is created, self allows to access the instance attributes and methods from with in the class.\n",
        "\n",
        "*   It differentiates instance methods from class, thus making python know which instances attributes or methods to use.\n",
        "\n",
        "*   Using self ensures consistency and readability in method definitions.\n",
        "\n",
        "\n",
        "\n",
        "\n",
        "\n"
      ],
      "metadata": {
        "id": "qVFNQXuUT1I4"
      }
    },
    {
      "cell_type": "markdown",
      "source": [
        "**Difference btw instance and class**"
      ],
      "metadata": {
        "id": "jmCulOybdgvx"
      }
    },
    {
      "cell_type": "markdown",
      "source": [
        "*   instances are individual objects created from a class, each with its own set of attributes and methods. They represent specific occurrences or realizations of the class blueprint.\n",
        "\n",
        "*   Classes, on the other hand, are blueprints or templates for creating objects, defining their attributes and behaviors.\n",
        "\n",
        "*   Class variables are shared across all instances, while instance variables are unique to each instance.\n",
        "\n",
        "*   Eg: my_car is an instance of the 'Car' class\n",
        "  my_car=Car('mahindra','xuv')"
      ],
      "metadata": {
        "id": "Jcxb4zZWeA1o"
      }
    },
    {
      "cell_type": "markdown",
      "source": [
        "**Difference between class and instance variables in python**"
      ],
      "metadata": {
        "id": "RKjQhQXfV1oZ"
      }
    },
    {
      "cell_type": "markdown",
      "source": [
        "\n",
        "*   Class variables are shared across all instances of a class and are defined within the class but outside any methods.  They are used to define attributes that should have the same value for every instance.\n",
        "\n",
        "*   Instance variables are unique to each instance and are defined within methods, typically the __init__ method, using self.  These variables store data that can vary from one instance to another.\n",
        "\n",
        "*   Changes to class variables affect all instances, while changes to instance variables only affect the specific instance."
      ],
      "metadata": {
        "id": "GYQ9sYz8WYOe"
      }
    },
    {
      "cell_type": "markdown",
      "source": [
        "**Self**"
      ],
      "metadata": {
        "id": "S90NowBFTzTy"
      }
    },
    {
      "cell_type": "markdown",
      "source": [
        "*   __init__ method in python is a special method called constructor.\n",
        "\n",
        "*   It is automatically called when a new instance of a class is created.\n",
        "\n",
        "*   It is used to initialize the objects attributes .\n",
        "\n",
        "*   Eg: Car class has __init__ method that takes brand,model,year as parameters and initaiaze corresponding attributes of the car object"
      ],
      "metadata": {
        "id": "jOzuk9bRcYyS"
      }
    },
    {
      "cell_type": "markdown",
      "source": [
        "**OOP**"
      ],
      "metadata": {
        "id": "EmxXX39JLfU5"
      }
    },
    {
      "cell_type": "markdown",
      "source": [
        "*   Object-oriented programming (OOP) is a method of structuring a program by the concept of objects.\n",
        "\n",
        "*   OOP structures a program by bundling related properties(data) and behaviors(methods or functions) into individual objects and classes.\n",
        "\n",
        "*   The oops concept focuses on promoting code reusability,encapsulation and modularity.\n",
        "\n",
        "*   For example, an object could represent a person with properties like a name, age, and address and behaviors such as walking, talking, breathing, and running\n",
        "\n"
      ],
      "metadata": {
        "id": "oxUePLlILjuz"
      }
    },
    {
      "cell_type": "markdown",
      "source": [
        "**Features or principles of oop**\n",
        "\n",
        "\n"
      ],
      "metadata": {
        "id": "30O1f5OJSKP_"
      }
    },
    {
      "cell_type": "markdown",
      "source": [
        "*   Encapsulation: Encapsulation bundles data and methods that operate on the data within a single unit, restricting direct access to some of the object's components.\n",
        "\n",
        "*   Abstraction: Abstraction hides the complex implementation details and shows only the essential features of an object.\n",
        "\n",
        "*   Inheritance: Inheritance allows a class to inherit properties and methods from another class, promoting code reuse.\n",
        "\n",
        "*   Polymorphism: Polymorphism enables methods to process objects differently based on their class, allowing a single interface to represent different data types.\n",
        "\n",
        "\n",
        "\n",
        "\n"
      ],
      "metadata": {
        "id": "4HA9kn0fS-eh"
      }
    },
    {
      "cell_type": "markdown",
      "source": [
        "**Polymorphism with eg**"
      ],
      "metadata": {
        "id": "T-FqQbVkhLGG"
      }
    },
    {
      "cell_type": "markdown",
      "source": [
        "*   Polymorphism in OOP allows objects of different classes to be treated as objects of a common superclass.\n",
        "*   It enables methods to do different things based on the object it is acting upon.\n",
        "*   For example, both Dell and Hp class might have a ram_storage() method, but each implementation produces output(different gb)."
      ],
      "metadata": {
        "id": "CNj053RUhYWw"
      }
    },
    {
      "cell_type": "code",
      "source": [
        "class Laptop:\n",
        "    def ram_storage(self):\n",
        "        return \"Different storage\"\n",
        "\n",
        "class Dell(Laptop):\n",
        "    def ram_storage(self):\n",
        "        return \"8gb\"\n",
        "\n",
        "class Hp(Laptop):\n",
        "    def ram_storage(self):\n",
        "        return \"16gb\"\n",
        "\n",
        "# Usage\n",
        "dell = Dell()\n",
        "hp = Hp()\n",
        "print(dell.ram_storage())\n",
        "print(hp.ram_storage())\n",
        "\n"
      ],
      "metadata": {
        "colab": {
          "base_uri": "https://localhost:8080/"
        },
        "id": "99Lnp1FBky04",
        "outputId": "9647c72f-afb4-44e3-af43-b89e8c881b8a"
      },
      "execution_count": null,
      "outputs": [
        {
          "output_type": "stream",
          "name": "stdout",
          "text": [
            "8gb\n",
            "16gb\n"
          ]
        }
      ]
    },
    {
      "cell_type": "markdown",
      "source": [
        "**Encapsulation**"
      ],
      "metadata": {
        "id": "B-3LsaUdlsIq"
      }
    },
    {
      "cell_type": "markdown",
      "source": [
        "*   Encapsulation in OOP refers to bundling data and methods within a class, where data is typically hidden from outside access.\n",
        "\n",
        "*   It promotes data integrity and abstraction.\n",
        "\n",
        "*   For example, a Person class might have private attributes like name and age, accessed through get methods."
      ],
      "metadata": {
        "id": "AhGSQwJllvti"
      }
    },
    {
      "cell_type": "code",
      "source": [
        "class Person:\n",
        "    def __init__(self, name, age):\n",
        "        self.__name = name  # private attribute\n",
        "        self.__age = age    # private attribute\n",
        "\n",
        "    # Getter methods\n",
        "    def get_name(self):\n",
        "        return self.__name\n",
        "\n",
        "    def get_age(self):\n",
        "        return self.__age\n",
        "\n",
        "    # Setter methods\n",
        "    def set_name(self, name):\n",
        "        self.__name = name\n",
        "\n",
        "    def set_age(self, age):\n",
        "        self.__age = age\n",
        "\n",
        "# Usage\n",
        "person = Person(\"Alice\", 30)\n",
        "print(person.get_name())  # Output: Alice\n",
        "print(person.get_age())   # Output: 30\n",
        "\n",
        "person.set_name(\"Bob\")\n",
        "person.set_age(25)\n",
        "\n",
        "print(person.get_name())  # Output: Bob\n",
        "print(person.get_age())   # Output: 25\n"
      ],
      "metadata": {
        "id": "aOTAnDeTl3HC"
      },
      "execution_count": null,
      "outputs": []
    },
    {
      "cell_type": "markdown",
      "source": [
        "**Inheritance with example**"
      ],
      "metadata": {
        "id": "S9Qbxa5qhAlx"
      }
    },
    {
      "cell_type": "markdown",
      "source": [
        "*   Inheritance in OOP allows a new class (subclass) to inherit attributes and methods from an existing class (superclass).\n",
        "*   This promotes code reuse and establishes a hierarchical relationship between classes.\n",
        "*   For example, a Dog class can inherit from an Animal class, gaining attributes and methods such as eat() and sleep() while adding its own unique behavior such as bark()."
      ],
      "metadata": {
        "id": "QvV2qTTShEUR"
      }
    },
    {
      "cell_type": "code",
      "source": [
        "class Animal:\n",
        "    def eat(self):\n",
        "        print(\"Animal is eating.\")\n",
        "\n",
        "    def sleep(self):\n",
        "        print(\"Animal is sleeping.\")\n",
        "\n",
        "class Dog(Animal):  # Dog class inherits from Animal class\n",
        "    def bark(self):\n",
        "        print(\"Dog is barking.\")\n",
        "\n",
        "# Usage\n",
        "dog = Dog()\n",
        "dog.eat()    # Output: Animal is eating. (inherited from Animal class)\n",
        "dog.sleep()  # Output: Animal is sleeping. (inherited from Animal class)\n",
        "dog.bark()   # Output: Dog is barking. (specific to Dog class)\n"
      ],
      "metadata": {
        "colab": {
          "base_uri": "https://localhost:8080/"
        },
        "id": "0AWv45M_cYR6",
        "outputId": "18a635ba-1a4c-488e-afdb-4d9cc4ec5cd5"
      },
      "execution_count": null,
      "outputs": [
        {
          "output_type": "stream",
          "name": "stdout",
          "text": [
            "Animal is eating.\n",
            "Animal is sleeping.\n",
            "Dog is barking.\n"
          ]
        }
      ]
    },
    {
      "cell_type": "markdown",
      "source": [
        "**Single level inheritance**"
      ],
      "metadata": {
        "id": "A1XyniZQhKzt"
      }
    },
    {
      "cell_type": "markdown",
      "source": [
        "*   Single-level inheritance is a type of inheritance in object-oriented programming where a single child class inherits from another parent class.\n",
        "*   There will be one child class and one parent class,allowing code reuse.\n",
        "*   Eg: here exist a single parent class Vehicle and a single child class Truck.\n",
        "The `Truck` class inherits from the `Vehicle` class and has its own method `drive()`"
      ],
      "metadata": {
        "id": "tssWPcQ28zWv"
      }
    },
    {
      "cell_type": "code",
      "source": [
        "class Vehicle:\n",
        "    def start_engine(self):\n",
        "        print(\"Engine started\")\n",
        "\n",
        "class Truck(Vehicle):\n",
        "    def drive(self):\n",
        "        print(\"Heavy Driving\")\n",
        "\n",
        "# Creating an object of the Truck class\n",
        "my_truck = Truck()\n",
        "my_truck.start_engine()  # Inherited method from Vehicle class\n",
        "my_truck.drive()\n"
      ],
      "metadata": {
        "colab": {
          "base_uri": "https://localhost:8080/"
        },
        "id": "bmvYs_0O9_8o",
        "outputId": "07155878-09d8-48f1-9962-008e45e4c93f"
      },
      "execution_count": null,
      "outputs": [
        {
          "output_type": "stream",
          "name": "stdout",
          "text": [
            "Engine started\n",
            "Heavy Driving\n"
          ]
        }
      ]
    },
    {
      "cell_type": "markdown",
      "source": [
        "**Multiple level inheritance**"
      ],
      "metadata": {
        "id": "jxuNbdj-hTOW"
      }
    },
    {
      "cell_type": "markdown",
      "source": [
        "*   In Multiple-level inheritance  a class (Birds) inherits from another\n",
        "class (Animal), which in turn inherits from a base class (Mammal).\n",
        "*    This creates a chain of inheritance, allowing the child class to inherit attributes and methods from both the intermediate and base classes."
      ],
      "metadata": {
        "id": "zqbClalw_0cr"
      }
    },
    {
      "cell_type": "code",
      "source": [
        "class Mammal:\n",
        "  def walk(self):\n",
        "    print(\"breath\")\n",
        "\n",
        "class Animal:\n",
        "  def walk(self):\n",
        "    print(\"move\")\n",
        "\n",
        "class Birds(Mammal,Animal):\n",
        "  def walk(self):\n",
        "    super().walk()\n",
        "    print(\"fly\")\n",
        "\n",
        "\n",
        "birds=Birds()\n",
        "mammal=Mammal()\n",
        "animal=Animal()\n",
        "\n",
        "\n",
        "birds.walk()#birds walk method(output- breath and fly)\n",
        "mammal.walk()#mammal walk method\n",
        "animal.walk()#animal walk method"
      ],
      "metadata": {
        "colab": {
          "base_uri": "https://localhost:8080/"
        },
        "id": "k_mq0JlN7uIE",
        "outputId": "4b79a925-afaf-4aa4-998b-7b3961ef99e5"
      },
      "execution_count": null,
      "outputs": [
        {
          "output_type": "stream",
          "name": "stdout",
          "text": [
            "breath\n",
            "fly\n",
            "breath\n",
            "move\n"
          ]
        }
      ]
    },
    {
      "cell_type": "markdown",
      "source": [
        "**Multi level inheritance**"
      ],
      "metadata": {
        "id": "cSA8e3xphe9a"
      }
    },
    {
      "cell_type": "markdown",
      "source": [
        " *   In multi level inheritance subclass inherits from another subclass, which itself inherits from a base class.\n",
        "\n",
        "*   Child class act as parent for another child class."
      ],
      "metadata": {
        "id": "AWkiV-ZXEjxb"
      }
    },
    {
      "cell_type": "code",
      "source": [
        "class Animal:\n",
        "  def speak(self):\n",
        "    print(\"Speak\")\n",
        "\n",
        "class Lion(Animal):\n",
        "  def bark(self):\n",
        "    print(\"roar\")\n",
        "\n",
        "class Cub(Lion):\n",
        "  def cry(self):\n",
        "    print(\"cring\")\n",
        "\n",
        "#instance of cub\n",
        "cub=Cub()\n",
        "cub.speak()\n",
        "cub.bark()\n",
        "cub.cry()\n"
      ],
      "metadata": {
        "colab": {
          "base_uri": "https://localhost:8080/"
        },
        "id": "_GcYFZei1yBy",
        "outputId": "030743dc-7085-43a1-d663-57106e61d9c3"
      },
      "execution_count": null,
      "outputs": [
        {
          "output_type": "stream",
          "name": "stdout",
          "text": [
            "Speak\n",
            "roar\n",
            "cring\n"
          ]
        }
      ]
    },
    {
      "cell_type": "markdown",
      "source": [
        "**Super function**"
      ],
      "metadata": {
        "id": "rdchh4Vth-NM"
      }
    },
    {
      "cell_type": "markdown",
      "source": [
        "*   The super() function is used to refer to the parent class or superclass.\n",
        "*   It allows you to call methods defined in the superclass from the subclass, enabling you to extend and customize the functionality inherited from the parent class.\n",
        "*   super() is a built-in function used to call methods defined in the parent class."
      ],
      "metadata": {
        "id": "S4hYIRGNiBn3"
      }
    },
    {
      "cell_type": "code",
      "execution_count": null,
      "metadata": {
        "colab": {
          "base_uri": "https://localhost:8080/"
        },
        "id": "M9-js6Dp-TqZ",
        "outputId": "0fd41d5d-000e-4ef3-f322-31523856bcc9"
      },
      "outputs": [
        {
          "output_type": "stream",
          "name": "stdout",
          "text": [
            "eating\n",
            "walking\n",
            "2\n",
            "1\n",
            "eating\n",
            "running\n"
          ]
        }
      ],
      "source": [
        "#Using super\n",
        "class Human:\n",
        "  def __init__(self):\n",
        "    self.num_eyes=2\n",
        "    self.num_nose=1\n",
        "  def eat(self):\n",
        "    print('eating')\n",
        "  def sleep(self):\n",
        "    print('sleeping')\n",
        "\n",
        "class Male(Human):\n",
        "  def walk(self):\n",
        "    super().eat()\n",
        "    print('walking')\n",
        "  def run(self):\n",
        "    super().eat()\n",
        "    print('running')\n",
        "\n",
        "male=Male()\n",
        "male.walk()\n",
        "print(male.num_eyes)\n",
        "print(male.num_nose)\n",
        "male.run()\n"
      ]
    }
  ]
}