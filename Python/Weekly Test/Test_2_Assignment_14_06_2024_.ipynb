{
  "nbformat": 4,
  "nbformat_minor": 0,
  "metadata": {
    "colab": {
      "provenance": []
    },
    "kernelspec": {
      "name": "python3",
      "display_name": "Python 3"
    },
    "language_info": {
      "name": "python"
    }
  },
  "cells": [
    {
      "cell_type": "markdown",
      "source": [
        "# **ENCAPSULATION**(Test/Assignment)(14-06-2024)"
      ],
      "metadata": {
        "id": "5lKY_3cN8Br3"
      }
    },
    {
      "cell_type": "markdown",
      "source": [
        "*   Encapsulation is a fundamental concept in object-oriented programming (OOP)\n",
        "that involves bundling data (attributes) and methods (functions) that operate on the data into a single unit or class.\n",
        "*   This helps to protect the data from unauthorized access and modification by restricting access to it through public methods.\n",
        "\n",
        "In Python, encapsulation is achieved through the use of private and protected access modifiers:\n",
        "*   Public: Attributes and methods that can be accessed from anywhere.\n",
        "*   Protected: Attributes and methods that should not be accessed outside the class or subclass (denoted by a single underscore _).\n",
        "*   Private: Attributes and methods that cannot be accessed or modified outside the class (denoted by a double underscore __)."
      ],
      "metadata": {
        "id": "NNT-HPZ18E9e"
      }
    },
    {
      "cell_type": "markdown",
      "source": [
        "Example:\n",
        "Consider a LinkedInAccount class that encapsulates details about a LinkedIn account and restricts direct access to the password and account type.\n",
        "Also the access of users differs with account type like premium and non-premium account.Only premium users can use premium features."
      ],
      "metadata": {
        "id": "Q2bP0Ky-9MoO"
      }
    },
    {
      "cell_type": "code",
      "execution_count": null,
      "metadata": {
        "id": "X1prR0StMaZ4",
        "colab": {
          "base_uri": "https://localhost:8080/"
        },
        "outputId": "c7ff5445-d026-4cc8-cf68-0b76f5a63731"
      },
      "outputs": [
        {
          "output_type": "stream",
          "name": "stdout",
          "text": [
            "Enter username: Raj\n",
            "password: 123\n",
            "Welcome, Raj\n",
            "Account type: PREMIUM\n",
            "Accessing premium feature...\n",
            "Performing exclusive premium action...\n",
            "Fetching job references for top companies...\n",
            "Job references available at Google\n",
            "Job references available at Microsoft\n",
            "Job references available at Apple\n",
            "Job references available at Amazon\n"
          ]
        }
      ],
      "source": [
        "class LinkedIn_account:\n",
        "  def __init__(self,username,password,accounttype):\n",
        "    self.username=username\n",
        "    self.__password=password    #private attribute\n",
        "    self.__accounttype=accounttype    #private attribute\n",
        "\n",
        "#verifying the provided user name and password\n",
        "  def login(self,username,password):\n",
        "       return username==self.username and password==self.__password\n",
        "\n",
        "#checking user has premium account or not\n",
        "  def access_premium_feature(self):\n",
        "    if self.__accounttype=='PREMIUM':\n",
        "      print(\"Accessing premium feature...\")\n",
        "    else:\n",
        "      print(\"Upgrade to premium to access this feature.\")\n",
        "\n",
        "#allowing premium account access\n",
        "  def perform_premium_action(self):\n",
        "    if self.__accounttype=='PREMIUM':\n",
        "      print(\"Performing exclusive premium action...\")\n",
        "      top_companies = [\"Google\", \"Microsoft\", \"Apple\", \"Amazon\"]\n",
        "      print(\"Fetching job references for top companies...\")\n",
        "      for company in top_companies:\n",
        "        print(f\"Job references available at {company}\")\n",
        "      return True\n",
        "    else:\n",
        "      print(\"Upgrade to premium to access this feature.\")\n",
        "      return False\n",
        "\n",
        "# public method to access private attribute\n",
        "  def get_account_type(self):\n",
        "    if self.login(self.username, self.__password):\n",
        "      return self.__accounttype\n",
        "    else:\n",
        "      print(\"Invalid username or password.\")\n",
        "      return None\n",
        "\n",
        "#creating instance of LinkedIn_account class\n",
        "account=LinkedIn_account('Raj','123','PREMIUM')\n",
        "\n",
        "#User input\n",
        "enter_username = input(\"Enter username: \")\n",
        "enter_password = input(\"password: \")\n",
        "\n",
        "#calling login with userinput\n",
        "login_success=account.login(enter_username,enter_password)\n",
        "\n",
        "#checking if login was successful\n",
        "if login_success:\n",
        "    print(f\"Welcome, {account.username}\")  # Print welcome message after successful login\n",
        "    print(\"Account type:\", account.get_account_type())  # Print account type after login\n",
        "    account.access_premium_feature()      #accessing premium features for premium members\n",
        "    accesspremium=account.perform_premium_action()\n",
        "else:\n",
        "    print(\"Login failed.\")\n"
      ]
    },
    {
      "cell_type": "code",
      "source": [
        "#same code for free Linkedin account(NO PREMIUM ACESS)\n",
        "account=LinkedIn_account('Raj','123','FREE')\n",
        "\n",
        "#User input\n",
        "enter_username = input(\"Enter username: \")\n",
        "enter_password = input(\"password: \")\n",
        "\n",
        "login_success=account.login(enter_username,enter_password)\n",
        "\n",
        "if login_success:\n",
        "    print(f\"Welcome, {account.username}\")\n",
        "    print(\"Account type:\", account.get_account_type())  # Print account type after login\n",
        "    account.access_premium_feature()\n",
        "else:\n",
        "    print(\"Login failed.\")\n"
      ],
      "metadata": {
        "colab": {
          "base_uri": "https://localhost:8080/"
        },
        "id": "qjB8KalwSQDe",
        "outputId": "f739f099-ad66-497c-fa2c-098f9f135b2b"
      },
      "execution_count": null,
      "outputs": [
        {
          "output_type": "stream",
          "name": "stdout",
          "text": [
            "Enter username: Raj\n",
            "password: 123\n",
            "Welcome, Raj\n",
            "Account type: FREE\n",
            "Upgrade to premium to access this feature.\n"
          ]
        }
      ]
    }
  ]
}