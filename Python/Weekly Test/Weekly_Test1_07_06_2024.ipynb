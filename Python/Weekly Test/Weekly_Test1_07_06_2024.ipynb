{
  "nbformat": 4,
  "nbformat_minor": 0,
  "metadata": {
    "colab": {
      "provenance": []
    },
    "kernelspec": {
      "name": "python3",
      "display_name": "Python 3"
    },
    "language_info": {
      "name": "python"
    }
  },
  "cells": [
    {
      "cell_type": "markdown",
      "source": [
        "# **HARITHA P V (MST03-0058)**\n",
        "  07-06-2024\n"
      ],
      "metadata": {
        "id": "PbEzn0OyvKC5"
      }
    },
    {
      "cell_type": "markdown",
      "source": [
        "# 1. Explain Encapsulation with example and write python code  \n",
        "\n",
        "\n"
      ],
      "metadata": {
        "id": "jFInRdjMvpuI"
      }
    },
    {
      "cell_type": "markdown",
      "source": [
        "*   Encapsulation in OOP refers to bundling data and methods within a class, where data is typically hidden from outside access.\n",
        "\n",
        "*   It promotes data integrity and abstraction.\n",
        "\n",
        "*   For example, a Student class might have attributes like name and age,in which age is private attribute that can be accessed through get method."
      ],
      "metadata": {
        "id": "AhGSQwJllvti"
      }
    },
    {
      "cell_type": "code",
      "source": [
        "class Student:\n",
        "  def __init__(self,age,name):\n",
        "    self.__age=age #private attribute\n",
        "    self.name=name\n",
        "\n",
        "  def get_age(self): #public method to access private attribute\n",
        "    return self.__age\n",
        "\n",
        "s1=Student(23,'John')  #object creation\n",
        "print(s1.get_age())\n",
        "print(s1.name)"
      ],
      "metadata": {
        "colab": {
          "base_uri": "https://localhost:8080/"
        },
        "id": "6yAduwOCwYnR",
        "outputId": "5eb8d0d7-a44a-4e11-c817-984454cbd0f3"
      },
      "execution_count": null,
      "outputs": [
        {
          "output_type": "stream",
          "name": "stdout",
          "text": [
            "23\n",
            "John\n"
          ]
        }
      ]
    },
    {
      "cell_type": "markdown",
      "source": [
        "# 2.Explain polymorphism with example and write python code"
      ],
      "metadata": {
        "id": "Pn5VlSQP55vJ"
      }
    },
    {
      "cell_type": "markdown",
      "source": [
        "*   Polymorphism in OOP allows objects of different classes to be treated as objects of a common superclass.\n",
        "*   It enables methods to do different things based on the object it is acting upon.\n",
        "*   For example, both Dell and Hp class might have a ram_storage() method, but each implementation produces output(different gb)."
      ],
      "metadata": {
        "id": "CNj053RUhYWw"
      }
    },
    {
      "cell_type": "code",
      "source": [
        "class Laptop:\n",
        "    def ram_storage(self):\n",
        "        return \"Different storage\"\n",
        "\n",
        "class Dell(Laptop):\n",
        "    def ram_storage(self):\n",
        "        return \"8gb\"\n",
        "\n",
        "class Hp(Laptop):\n",
        "    def ram_storage(self):\n",
        "        return \"16gb\"\n",
        "\n",
        "# Usage\n",
        "dell = Dell()\n",
        "hp = Hp()\n",
        "print(dell.ram_storage())\n",
        "print(hp.ram_storage())\n",
        "\n"
      ],
      "metadata": {
        "colab": {
          "base_uri": "https://localhost:8080/"
        },
        "id": "99Lnp1FBky04",
        "outputId": "2dc8eb54-dbda-4698-9b68-ced6d1d05470"
      },
      "execution_count": null,
      "outputs": [
        {
          "output_type": "stream",
          "name": "stdout",
          "text": [
            "8gb\n",
            "16gb\n"
          ]
        }
      ]
    },
    {
      "cell_type": "markdown",
      "source": [
        "# 3.Explain single level inheritance with python code"
      ],
      "metadata": {
        "id": "livHCLHv8ex1"
      }
    },
    {
      "cell_type": "markdown",
      "source": [
        "*   Single-level inheritance is a type of inheritance in object-oriented programming where a single child class inherits from another parent class.\n",
        "*   There will be one child class and one parent class,allowing code reuse.\n",
        "*   Eg: here exist a single parent class Vehicle and a single child class Truck.\n",
        "The `Truck` class inherits from the `Vehicle` class and has its own method `drive()`"
      ],
      "metadata": {
        "id": "tssWPcQ28zWv"
      }
    },
    {
      "cell_type": "code",
      "source": [
        "class Vehicle:\n",
        "    def start_engine(self):\n",
        "        print(\"Engine started\")\n",
        "\n",
        "class Truck(Vehicle):\n",
        "    def drive(self):\n",
        "        print(\"Heavy Driving\")\n",
        "\n",
        "# Creating an object of the Truck class\n",
        "my_truck = Truck()\n",
        "my_truck.start_engine()  # Inherited method from Vehicle class\n",
        "my_truck.drive()\n"
      ],
      "metadata": {
        "colab": {
          "base_uri": "https://localhost:8080/"
        },
        "id": "bmvYs_0O9_8o",
        "outputId": "07155878-09d8-48f1-9962-008e45e4c93f"
      },
      "execution_count": null,
      "outputs": [
        {
          "output_type": "stream",
          "name": "stdout",
          "text": [
            "Engine started\n",
            "Heavy Driving\n"
          ]
        }
      ]
    },
    {
      "cell_type": "markdown",
      "source": [
        "# 4. Explain Multiple level inheritance with python code"
      ],
      "metadata": {
        "id": "-e4tW2Od_Jw6"
      }
    },
    {
      "cell_type": "markdown",
      "source": [
        "*   In Multiple-level inheritance  a class (Birds) inherits from another\n",
        "class (Animal), which in turn inherits from a base class (Mammal).\n",
        "*    This creates a chain of inheritance, allowing the child class to inherit attributes and methods from both the intermediate and base classes."
      ],
      "metadata": {
        "id": "zqbClalw_0cr"
      }
    },
    {
      "cell_type": "code",
      "source": [
        "class Mammal:\n",
        "  def walk(self):\n",
        "    print(\"breath\")\n",
        "\n",
        "class Animal:\n",
        "  def walk(self):\n",
        "    print(\"move\")\n",
        "\n",
        "class Birds(Mammal,Animal):\n",
        "  def walk(self):\n",
        "    super().walk()\n",
        "    print(\"fly\")\n",
        "\n",
        "\n",
        "birds=Birds()\n",
        "mammal=Mammal()\n",
        "animal=Animal()\n",
        "\n",
        "\n",
        "birds.walk()#birds walk method(output- breath and fly)\n",
        "mammal.walk()#mammal walk method\n",
        "animal.walk()#animal walk method"
      ],
      "metadata": {
        "colab": {
          "base_uri": "https://localhost:8080/"
        },
        "id": "k_mq0JlN7uIE",
        "outputId": "4b79a925-afaf-4aa4-998b-7b3961ef99e5"
      },
      "execution_count": null,
      "outputs": [
        {
          "output_type": "stream",
          "name": "stdout",
          "text": [
            "breath\n",
            "fly\n",
            "breath\n",
            "move\n"
          ]
        }
      ]
    },
    {
      "cell_type": "markdown",
      "source": [
        "# 5. Expalin multilevel inheritance with python code"
      ],
      "metadata": {
        "id": "uDKre5mnDR3q"
      }
    },
    {
      "cell_type": "markdown",
      "source": [
        " *   In multi level inheritance subclass inherits from another subclass, which itself inherits from a base class.\n",
        "\n",
        "*   Child class act as parent for another child class."
      ],
      "metadata": {
        "id": "AWkiV-ZXEjxb"
      }
    },
    {
      "cell_type": "code",
      "source": [
        "class Animal:\n",
        "  def speak(self):\n",
        "    print(\"Speak\")\n",
        "\n",
        "class Lion(Animal):\n",
        "  def bark(self):\n",
        "    print(\"roar\")\n",
        "\n",
        "class Cub(Lion):\n",
        "  def cry(self):\n",
        "    print(\"cring\")\n",
        "\n",
        "#instance of cub\n",
        "cub=Cub()\n",
        "cub.speak()\n",
        "cub.bark()\n",
        "cub.cry()\n"
      ],
      "metadata": {
        "colab": {
          "base_uri": "https://localhost:8080/"
        },
        "id": "_GcYFZei1yBy",
        "outputId": "030743dc-7085-43a1-d663-57106e61d9c3"
      },
      "execution_count": null,
      "outputs": [
        {
          "output_type": "stream",
          "name": "stdout",
          "text": [
            "Speak\n",
            "roar\n",
            "cring\n"
          ]
        }
      ]
    },
    {
      "cell_type": "markdown",
      "source": [
        "# 6. What do you mean by conditional statement. Explain with python code\n"
      ],
      "metadata": {
        "id": "ygIbrUIpFoTJ"
      }
    },
    {
      "cell_type": "markdown",
      "source": [
        "*   Conditional statements (if, else, and elif) are fundamental programming constructs that allow you to control the flow of your program based on conditions that you specify.\n",
        "\n",
        "*   They provide a way to make decisions in your program and execute different code based on those decisions."
      ],
      "metadata": {
        "id": "xVSlwNuqGHtI"
      }
    },
    {
      "cell_type": "code",
      "source": [
        "age = int(input(\"Enter your age: \"))\n",
        "if age >= 18:\n",
        "    print(\"You are eligible to vote\")\n",
        "else:\n",
        "    print(\"You are not eligible to vote\")\n"
      ],
      "metadata": {
        "colab": {
          "base_uri": "https://localhost:8080/"
        },
        "id": "XKttt_9wGHKQ",
        "outputId": "fb1dce7d-6297-4f68-ec18-5dc2986471cf"
      },
      "execution_count": null,
      "outputs": [
        {
          "output_type": "stream",
          "name": "stdout",
          "text": [
            "Enter your age: 25\n",
            "You are eligible to vote\n"
          ]
        }
      ]
    },
    {
      "cell_type": "markdown",
      "source": [
        "# 7.What do you mean bye decision making statement . Explain with python code."
      ],
      "metadata": {
        "id": "SGUr08qJGwkV"
      }
    },
    {
      "cell_type": "markdown",
      "source": [
        "*   A decision-making statement in programming is used to make decisions based on certain conditions.\n",
        "\n",
        "*   They let programs decide what to do and run distinct code blocks according to predefined conditions."
      ],
      "metadata": {
        "id": "Zt51lPzhHR-r"
      }
    },
    {
      "cell_type": "code",
      "source": [
        "num = 11\n",
        "if num % 2 == 0:\n",
        "  print(\"The number is even.\")\n",
        "else:\n",
        "  print(\"The number is odd.\")"
      ],
      "metadata": {
        "colab": {
          "base_uri": "https://localhost:8080/"
        },
        "id": "hmHCOd5yGvxH",
        "outputId": "bc018e6b-c119-4156-a64d-e94c5f9fa029"
      },
      "execution_count": null,
      "outputs": [
        {
          "output_type": "stream",
          "name": "stdout",
          "text": [
            "The number is odd.\n"
          ]
        }
      ]
    },
    {
      "cell_type": "markdown",
      "source": [
        "# 8.Write a program of factorial in python"
      ],
      "metadata": {
        "id": "t6mL1aZVHijA"
      }
    },
    {
      "cell_type": "code",
      "source": [
        "def factorial(n):\n",
        "  if n==0:\n",
        "    return 1\n",
        "  else:\n",
        "    return n*factorial(n-1)\n",
        "\n",
        "num=int(input('Enter a number: '))\n",
        "print(factorial(num))"
      ],
      "metadata": {
        "colab": {
          "base_uri": "https://localhost:8080/"
        },
        "id": "QG0jUEdS1zsS",
        "outputId": "6769dd07-89f9-4ed6-eabc-d983da3e8e6a"
      },
      "execution_count": null,
      "outputs": [
        {
          "output_type": "stream",
          "name": "stdout",
          "text": [
            "Enter a number: 6\n",
            "720\n"
          ]
        }
      ]
    },
    {
      "cell_type": "markdown",
      "source": [
        "# 9. What do you understand by function explain with python code"
      ],
      "metadata": {
        "id": "Jskur2-mH16w"
      }
    },
    {
      "cell_type": "markdown",
      "source": [
        "Functions in Python are blocks of reusable code designed to perform a specific task.\n",
        "They enhance code modularity and readability.\n",
        " They are defined using the def keyword followed by the function name and parameters"
      ],
      "metadata": {
        "id": "foOFRGTsIPOI"
      }
    },
    {
      "cell_type": "code",
      "source": [
        "def function(a,b):\n",
        "  avearge=(a+b)/2\n",
        "  print(avearge)\n",
        "function(10,20)"
      ],
      "metadata": {
        "colab": {
          "base_uri": "https://localhost:8080/"
        },
        "id": "PxL1N5bYmpJ4",
        "outputId": "b47c7b7e-e4a9-40ec-d234-49be06a25455"
      },
      "execution_count": null,
      "outputs": [
        {
          "output_type": "stream",
          "name": "stdout",
          "text": [
            "15.0\n"
          ]
        }
      ]
    },
    {
      "cell_type": "markdown",
      "source": [
        "# 10.How many pillers of oops have in python?"
      ],
      "metadata": {
        "id": "GCNqncq1Ii74"
      }
    },
    {
      "cell_type": "markdown",
      "source": [
        "In python , there are four pillers of OOPs:\n",
        "\n",
        "**Inheritance**\n",
        "*   Inheritance in OOP allows a new class (subclass) to inherit attributes and methods from an existing class (superclass).\n",
        "*   This promotes code reuse and establishes a hierarchical relationship between classes.\n",
        "\n",
        "**Encapsulation**\n",
        "*   Encapsulation in OOP refers to bundling data and methods within a class, where data is typically hidden from outside access.\n",
        "*   It promotes data integrity and abstraction.\n",
        "\n",
        "**Polymorphism**\n",
        "*   Polymorphism in OOP allows objects of different classes to be treated as objects of a common superclass.\n",
        "*   It enables methods to do different things based on the object it is acting upon.\n",
        "\n",
        "**Abstraction**\n",
        "*   Abstraction involves hiding the complex implementation details and showing only the essential features of an object.\n",
        "*   It focuses on what an object does rather than how it does it, simplifying the programming model and reducing complexity.\n",
        "\n"
      ],
      "metadata": {
        "id": "M6T-35HcImLk"
      }
    }
  ]
}