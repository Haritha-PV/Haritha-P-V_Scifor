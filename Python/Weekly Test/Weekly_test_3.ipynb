{
  "nbformat": 4,
  "nbformat_minor": 0,
  "metadata": {
    "colab": {
      "provenance": []
    },
    "kernelspec": {
      "name": "python3",
      "display_name": "Python 3"
    },
    "language_info": {
      "name": "python"
    }
  },
  "cells": [
    {
      "cell_type": "markdown",
      "source": [
        "# Python weekly test-3 (21-06-2024)"
      ],
      "metadata": {
        "id": "3eGW8j2VPByP"
      }
    },
    {
      "cell_type": "markdown",
      "source": [
        "## 1. Write a code including all levels of inheritance"
      ],
      "metadata": {
        "id": "5WUSxCs3O6pw"
      }
    },
    {
      "cell_type": "code",
      "source": [
        "#Base class\n",
        "class Animal:\n",
        "  def __init__(self,name):\n",
        "    self.name=name\n",
        "\n",
        "  def speak(self):\n",
        "    print(f\"{self.name} make a sound\")\n",
        "\n",
        "#single inheritance\n",
        "class Lion(Animal):\n",
        "  def speak(self):\n",
        "    print(f\"{self.name} says grr!\")\n",
        "\n",
        "#multilevel inheritance\n",
        "class Cub(Lion):\n",
        "  def speak(self):\n",
        "    print(f\"{self.name} says purr!\")\n",
        "\n",
        "#another base class\n",
        "class Reptilia:\n",
        "  def __init__(self,name):\n",
        "    self.name=name\n",
        "\n",
        "  def jump(self):\n",
        "     print(f\"{self.name} is jumping\")\n",
        "\n",
        "\n",
        "#multiple inheritance\n",
        "# is a parent class inherited from lion and reptile\n",
        "class reptlion(Lion,Reptilia):\n",
        "  def __init__(self,name):\n",
        "    Lion. __init__(self,name)\n",
        "    Reptilia. __init__(self,name)\n",
        "\n",
        "  def speak(self):\n",
        "    Lion.speak(self)\n",
        "    Reptilia.jump(self)\n",
        "\n",
        "\n",
        "#hybrid inheritance\n",
        "\n",
        "class cubrept(Cub,Reptilia):\n",
        "  def __init__(self,name):\n",
        "    Reptilia. __init__(self,name)\n",
        "    Cub. __init__(self,name)\n",
        "\n",
        "  def speak(self):\n",
        "    Cub.speak(self)\n",
        "    Reptilia.jump(self)\n",
        "\n",
        "#hierarchial inheritance\n",
        "class Tiger(Animal):\n",
        "  def speak(self):\n",
        "    print(f\"{self.name} says roar!\")\n",
        "\n",
        "# Single inheritance\n",
        "lion = Lion(\"Simba\")\n",
        "lion.speak()\n",
        "\n",
        "\n",
        " # Multilevel inheritance\n",
        "cub = Cub(\"Cub Simba\")\n",
        "cub.speak()\n",
        "\n",
        "\n",
        "# Multiple inheritance\n",
        "reptilian_lion = reptlion(\"Reptilian Simba\")\n",
        "reptilian_lion.speak()\n",
        "\n",
        "\n",
        "# Hierarchical inheritance\n",
        "tiger = Tiger(\"Tigger\")\n",
        "tiger.speak()\n",
        "\n",
        "# Hybrid inheritance\n",
        "cub_rept =cubrept(\"Cub Rept\")\n",
        "cub_rept.speak()\n",
        "\n",
        "\n",
        "\n",
        "\n"
      ],
      "metadata": {
        "colab": {
          "base_uri": "https://localhost:8080/"
        },
        "id": "NmNXkbmIqC_F",
        "outputId": "724dec9b-b4c2-4d69-9465-40df44b63c75"
      },
      "execution_count": 8,
      "outputs": [
        {
          "output_type": "stream",
          "name": "stdout",
          "text": [
            "Simba says grr!\n",
            "Cub Simba says purr!\n",
            "Reptilian Simba says grr!\n",
            "Reptilian Simba is jumping\n",
            "Tigger says roar!\n",
            "Cub Rept says purr!\n",
            "Cub Rept is jumping\n"
          ]
        }
      ]
    },
    {
      "cell_type": "markdown",
      "source": [
        "## 2. Write a code of method overriding"
      ],
      "metadata": {
        "id": "Y1mZshWgPOJx"
      }
    },
    {
      "cell_type": "markdown",
      "source": [
        "Method overriding occurs when a subclass provides a specific implementation of a method that is already defined in its superclass."
      ],
      "metadata": {
        "id": "nqyD4dGkV3dL"
      }
    },
    {
      "cell_type": "code",
      "source": [
        "#super class\n",
        "class Animal:\n",
        "  def speak(self):\n",
        "    print(\"Animal makes a sound\")\n",
        "\n",
        "#sub class\n",
        "class Lion(Animal):\n",
        "  def speak(self):\n",
        "    print(\"Lion says grr!\")\n",
        "\n",
        "#sub class\n",
        "class Cub(Animal):\n",
        "  def speak(self):\n",
        "    print(\"cub says prr!\")\n",
        "\n",
        "#creating instance\n",
        "lion= Lion()\n",
        "lion.speak()\n",
        "\n",
        "#calling\n",
        "cub= Cub()\n",
        "cub.speak()\n"
      ],
      "metadata": {
        "colab": {
          "base_uri": "https://localhost:8080/"
        },
        "id": "mCbU7JbAPN0p",
        "outputId": "a0369660-de9b-4e8d-da36-d457495f2c99"
      },
      "execution_count": 32,
      "outputs": [
        {
          "output_type": "stream",
          "name": "stdout",
          "text": [
            "Lion says grr!\n",
            "cub says prr!\n"
          ]
        }
      ]
    },
    {
      "cell_type": "markdown",
      "source": [
        "## 3. Write a code of method overloading"
      ],
      "metadata": {
        "id": "rwtF-MQcSv9J"
      }
    },
    {
      "cell_type": "markdown",
      "source": [
        "Method overloading refers to defining multiple methods in a class with the same name but with different parameter lists.Example demonstrates method overloading-like behavior by having the bloom() method in the Lily class accept different parameters to handle different cases of lily blooming."
      ],
      "metadata": {
        "id": "q390M3qqWVno"
      }
    },
    {
      "cell_type": "code",
      "source": [
        "class Flower:\n",
        "    def bloom(self):\n",
        "        print(\"blooms.\")\n",
        "\n",
        "class Rose(Flower):\n",
        "    def bloom(self):\n",
        "        print(\"blooming.\")\n",
        "\n",
        "class Lily(Flower):\n",
        "    def bloom(self,color):\n",
        "      if color == \"red\":\n",
        "        print(\"red lilly.\")\n",
        "      else:\n",
        "        print(\"white lily.\")\n",
        "\n",
        "# Creating instances of flowers\n",
        "rose = Rose()\n",
        "lily = Lily()\n",
        "\n",
        "# Calling the bloom method\n",
        "rose.bloom()\n",
        "lily.bloom('red')\n",
        "lily.bloom('white')\n"
      ],
      "metadata": {
        "colab": {
          "base_uri": "https://localhost:8080/"
        },
        "id": "AWzrMXZnWtnK",
        "outputId": "a576e271-0424-4e43-fec1-c2b64eebef97"
      },
      "execution_count": 33,
      "outputs": [
        {
          "output_type": "stream",
          "name": "stdout",
          "text": [
            "blooming.\n",
            "red lilly.\n",
            "white lily.\n"
          ]
        }
      ]
    }
  ]
}