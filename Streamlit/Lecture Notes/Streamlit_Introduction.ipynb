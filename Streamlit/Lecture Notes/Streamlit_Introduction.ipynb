{
  "nbformat": 4,
  "nbformat_minor": 0,
  "metadata": {
    "colab": {
      "provenance": []
    },
    "kernelspec": {
      "name": "python3",
      "display_name": "Python 3"
    },
    "language_info": {
      "name": "python"
    }
  },
  "cells": [
    {
      "cell_type": "markdown",
      "source": [
        "# **Streamlit Introduction(26-06-2024)**"
      ],
      "metadata": {
        "id": "xJ-1xOSyLruH"
      }
    },
    {
      "cell_type": "markdown",
      "source": [
        "Streamlit is a powerful tool for creating data applications with minimal effort. Here are some important points from the Streamlit documentation:\n",
        "\n",
        "**Basics Installation:**\n",
        "\n",
        "Install Streamlit using pip: pip install streamlit.\n",
        "\n",
        "**Running a Streamlit App:**\n",
        "\n",
        "To run a Streamlit app, use the command: streamlit run your_script.py.\n",
        "\n",
        "**Basic Structure:**\n",
        "\n",
        "A Streamlit script is a Python script that starts with import streamlit as st.\n",
        "Streamlit automatically reruns the script from top to bottom every time the user interacts with a widget.\n",
        "\n",
        "**Streamlit Sharing:**\n",
        "Streamlit provides a cloud platform for sharing apps easily.\n",
        "Alternatively, apps can be deployed using other cloud services like, AWS etc.\n",
        "\n",
        "**Core Components**\n",
        "\n",
        "**Text Elements:**\n",
        "\n",
        "st.title(): Display a title.\n",
        "\n",
        "st.header(): Display a header.\n",
        "\n",
        "st.subheader(): Display a subheader.\n",
        "\n",
        "st.text(): Display text.\n",
        "\n",
        "st.markdown(): Display Markdown-formatted text.\n",
        "\n",
        "st.code(): Display code with syntax highlighting.\n",
        "\n",
        "st.latex(): Display LaTeX-formatted mathematical expressions.\n",
        "\n",
        "\n",
        "**Data Display Elements:**\n",
        "\n",
        "st.dataframe(): Display a dataframe.\n",
        "\n",
        "st.table(): Display a static table.\n",
        "\n",
        "st.json(): Display JSON-formatted data.\n",
        "\n",
        "st.metric(): Display a metric with a label, value, and delta.\n",
        "\n",
        "**Charts and Graphs:**\n",
        "\n",
        "st.line_chart(), st.area_chart(), st.bar_chart(): Display simple line, area, and bar charts.\n",
        "\n",
        "st.pyplot(): Display a Matplotlib figure.\n",
        "\n",
        "st.altair_chart(), st.vega_lite_chart(): Display Altair charts.\n",
        "\n",
        "st.plotly_chart(): Display Plotly figures.\n",
        "\n",
        "**Media Elements:**\n",
        "\n",
        "st.image(): Display an image.\n",
        "\n",
        "st.audio(): Play audio.\n",
        "\n",
        "st.video(): Play video.\n",
        "\n",
        "\n",
        "**Widgets:**\n",
        "\n",
        "\n",
        "Input Widgets: st.button(), st.checkbox(), st.radio(), st.selectbox(), st.multiselect(), st.slider(), st.select_slider(), st.text_input(), st.text_area(), st.number_input(), st.date_input(), st.time_input(), st.file_uploader().\n",
        "\n",
        "These widgets return values that can be used within the script.\n",
        "\n",
        "\n",
        "**Layouts and Containers**\n",
        "\n",
        "**Layout:**\n",
        "\n",
        "st.sidebar: Create a sidebar for navigation or controls.\n",
        "\n",
        "st.columns: Create multiple columns for organizing content.\n",
        "\n",
        "st.expander: Create expandable/collapsible sections.\n",
        "\n",
        "**Containers:**\n",
        "\n",
        "st.container(): Group multiple elements together.\n",
        "\n"
      ],
      "metadata": {
        "id": "20ftApLvtdli"
      }
    }
  ]
}