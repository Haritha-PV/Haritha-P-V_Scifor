{
  "nbformat": 4,
  "nbformat_minor": 0,
  "metadata": {
    "colab": {
      "provenance": []
    },
    "kernelspec": {
      "name": "python3",
      "display_name": "Python 3"
    },
    "language_info": {
      "name": "python"
    }
  },
  "cells": [
    {
      "cell_type": "markdown",
      "source": [
        "# **Streamlit - Deployment Module**(27-04-2024)\n",
        "\n",
        "## **Subjective Test**"
      ],
      "metadata": {
        "id": "r86qszg05qoQ"
      }
    },
    {
      "cell_type": "markdown",
      "source": [
        "**1. What is Streamlit and what are its main features?**\n",
        "\n",
        "* Streamlit is a Python library used to create interactive web apps for machine learning and data science projects.\n",
        "* Build and deploy powerful data apps in minutes.\n",
        "* Key features include a straightforward syntax that integrates seamlessly with Python code.\n",
        "* It supports real-time updates and easy integration with popular data science libraries like Pandas and Matplotlib, enabling rapid prototyping and deployment of data-driven applications."
      ],
      "metadata": {
        "id": "A_pAuXXi5u6w"
      }
    },
    {
      "cell_type": "markdown",
      "source": [
        "**2. How does Streamlit differ from other web application frameworks like Flask or Django?**\n",
        "\n",
        "* Streamlit simplifies web app development by focusing on data-centric applications with minimal code, automatic reactive updates, and seamless integration with data science libraries.\n",
        "* Unlike Flask or Django, where developers typically define routes and handle HTTP requests manually,, making Streamlit more suitable for dynamic data visualization and exploration tasks.\n",
        "\n",
        "\n",
        "\n",
        "\n",
        "\n"
      ],
      "metadata": {
        "id": "XVBJsolR6y-6"
      }
    },
    {
      "cell_type": "markdown",
      "source": [
        "**3. What are some typical use cases for Streamlit?**\n",
        "*  Streamlit finds diverse applications across data science and machine learning domains, serving as a versatile tool for creating interactive web applications.\n",
        "*  Data exploration and visualization, where users can quickly build interactive dashboards to explore datasets and visualize trends.\n",
        "*  It supports tasks such as data analysis, feature engineering, and model evaluation through its seamless integration with libraries like Pandas and Matplotlib.\n"
      ],
      "metadata": {
        "id": "A7TaKdb37eoD"
      }
    },
    {
      "cell_type": "markdown",
      "source": [
        "**4.How do you create a simple Streamlit app?**\n",
        "\n",
        "*  Ensure Streamlit is installed in your Python environment USING 'pip install streamlit'.\n",
        "* Check wheather streamlit is installed 'pip list'.\n",
        "* start by importing necessary libraries such as Streamlit itself (import streamlit as st)\n",
        "* Define the structure of your app using Streamlit's Python syntax, including layout elements like titles, headers, text, and interactive widgets.\n",
        "* Use the command streamlit run filename.py in your terminal to launch the app locally.\n",
        "* Interact with the app in your browser; once satisfied, deploy it using Streamlit Sharing.\n",
        "\n"
      ],
      "metadata": {
        "id": "wFHXcdVd8UJ8"
      }
    },
    {
      "cell_type": "markdown",
      "source": [
        "**5.Can you explain the basic structure of a Streamlit script?**\n",
        "\n",
        "* Start by importing necessary libraries such as Streamlit itself (import streamlit as st) and any additional libraries like Pandas or Matplotlib for data manipulation and visualization.\n",
        "* Use Streamlit functions to set the title and description of your app, providing context for users (st.title(\"My Streamlit App\"), st.write(\"My app.\")).\n",
        "* Add input widgets such as sliders, text inputs, or dropdowns to allow users to interact with the app (st.slider()).\n",
        "* Display outputs like tables or plots using Streamlit functions (st.dataframe(), st.pyplot()).\n",
        "* Once your script is ready, navigate to your terminal or command prompt, go to the directory containing your script, and run streamlit run <filename>.py to launch your app locally."
      ],
      "metadata": {
        "id": "pb1SeWMC9D-j"
      }
    },
    {
      "cell_type": "code",
      "source": [
        "import streamlit as st\n",
        "\n",
        "# set the title of the app\n",
        "st.header('STREAMLIT',divider='rainbow')\n",
        "st.subheader('_Streamlit_ is :blue[cool] :sunglasses:')\n",
        "st.title('My :red[Streamlit] App')\n",
        "\n",
        "# Display an image with a caption\n",
        "st.image(\"coding.jpg\", caption=\"deploying\", width=800)"
      ],
      "metadata": {
        "id": "lec6O554-gmh"
      },
      "execution_count": null,
      "outputs": []
    },
    {
      "cell_type": "markdown",
      "source": [
        "**6.How do you add widgets like sliders, buttons, and text inputs to a Streamlit app?**\n",
        "\n",
        "* Slider allows users to select a numeric value within a specified range.\n",
        "* Button Creates a button that users can click.\n",
        "* Text Input lets users enter text"
      ],
      "metadata": {
        "id": "DwucoHbT-xRk"
      }
    },
    {
      "cell_type": "code",
      "source": [
        "#slider\n",
        "age = st.slider('Select your age', 0, 100, 25)\n",
        "\n",
        "#button\n",
        "st.button(\"Reset\", type=\"primary\")\n",
        "if st.button(\"Say hello\"):\n",
        "    st.write(\"Have a nice day!\")\n",
        "else:\n",
        "    st.write(':smile:')\n",
        "\n",
        "#text input\n",
        "name = st.text_input('Enter your name')"
      ],
      "metadata": {
        "id": "TKpnUXC1_Ri3"
      },
      "execution_count": null,
      "outputs": []
    },
    {
      "cell_type": "markdown",
      "source": [
        "**7.How does Streamlit handle user interaction and state management?**\n",
        "\n",
        "* Reactivity: Streamlit re-executes the script upon user input changes, updating outputs dynamically.\n",
        "\n",
        "* Stateful Widgets: Widgets retain their state across sessions, preserving user inputs.\n",
        "\n",
        "* Caching: @st.cache optimizes performance by storing computed results, avoiding redundant calculations.\n",
        "\n",
        "* Session State: st.session_state manages session-specific variables, persisting data within a session.\n",
        "\n",
        "* Callback-free Interaction: Changes in widgets automatically update outputs without requiring explicit callbacks, simplifying app development.\n",
        "\n",
        "\n",
        "These mechanisms collectively enable Streamlit to provide a seamless and interactive user experience, where the app responds in real-time to user inputs without complex setup or manual state handling."
      ],
      "metadata": {
        "id": "SaO9uoxm_7BH"
      }
    },
    {
      "cell_type": "markdown",
      "source": [
        "**8.What are some best practices for organizing and structuring a Streamlit project?**\n",
        "\n",
        "* Divide code into separate modules for clarity and maintainability.\n",
        "* Separate data manipulation and business logic from the UI code to improve clarity and reusability.\n",
        "* Use configurable parameters and constants at the beginning of your script or in a separate configuration file\n",
        "* Organize into directories (e.g., data/, utils/, visualizations/) for clarity.\n",
        "* Comment code thoroughly for clarity and understanding.\n",
        "* Prepare for deployment with necessary configurations and scripts\n",
        "\n",
        "\n",
        "\n",
        "\n",
        "\n"
      ],
      "metadata": {
        "id": "ioBE-IHZAVFf"
      }
    },
    {
      "cell_type": "markdown",
      "source": [
        "**9.How would you deploy a Streamlit app locally?**\n",
        "\n",
        "*  Use pip install streamlit to install Streamlit.\n",
        "* Write your Streamlit app script (app.py) with necessary components.\n",
        "* Open a terminal or command prompt and navigate to the directory where your Streamlit app script (app.py) is located.\n",
        "* Execute streamlit run app.py in the terminal.\n",
        "* Streamlit will start a local development server and provide a URL where your app is hosted. Open this URL in a web browser to interact with your Streamlit app locally.\n",
        "* Use widgets and UI elements defined in your Streamlit script.\n"
      ],
      "metadata": {
        "id": "y37KoTZkBNWg"
      }
    },
    {
      "cell_type": "markdown",
      "source": [
        "**10.Can you describe the steps to deploy a Streamlit app?**\n",
        "\n",
        "*  Ensure script is complete and functional locally.\n",
        "* Select Streamlit Sharing\n",
        "*  Push your code to  GitHub, connecting it to the deployment platform, and initiating the deployment process.\n",
        "* Load the github code with file containing code.\n",
        "* Once deployed, monitor your app for performance and functionality."
      ],
      "metadata": {
        "id": "wfYs9u6PCSpj"
      }
    },
    {
      "cell_type": "markdown",
      "source": [
        "**11.What is the purpose of the requirements.txt file in the context of Streamlit deployment?**\n",
        "\n",
        "* It lists all Python libraries needed by the Streamlit app, ensuring that the deployment environment installs them correctly.\n",
        "*  Streamlit Sharing uses the requirements.txt file to replicate the development environment where your app was created. This helps maintain consistency between your local development setup and the deployment environment.\n",
        "* When deploying your Streamlit app to Streamlit Sharing, the platform reads the requirements.txt file and automatically installs the specified packages and versions. This simplifies the setup process and ensures all dependencies are met without manual intervention.\n",
        "*  Records dependencies for reproducibility and debugging.\n",
        "* Prepares app for deployment by ensuring all dependencies are specified.\n",
        "\n"
      ],
      "metadata": {
        "id": "GrKgn3RlDJbn"
      }
    }
  ]
}